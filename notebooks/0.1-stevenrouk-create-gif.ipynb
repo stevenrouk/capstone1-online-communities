{
 "cells": [
  {
   "cell_type": "code",
   "execution_count": 9,
   "metadata": {},
   "outputs": [
    {
     "name": "stdout",
     "output_type": "stream",
     "text": [
      "The autoreload extension is already loaded. To reload it, use:\n",
      "  %reload_ext autoreload\n"
     ]
    }
   ],
   "source": [
    "%load_ext autoreload\n",
    "%autoreload 2"
   ]
  },
  {
   "cell_type": "code",
   "execution_count": 10,
   "metadata": {},
   "outputs": [],
   "source": [
    "# Modifying the path so we can import from src directory.\n",
    "import sys\n",
    "import os\n",
    "sys.path.append(os.path.abspath('..'))\n",
    "\n",
    "from collections import Counter, defaultdict\n",
    "from itertools import chain\n",
    "import copy\n",
    "import pickle\n",
    "import random\n",
    "import time\n",
    "\n",
    "import numpy as np\n",
    "import pandas as pd\n",
    "import networkx as nx\n",
    "import matplotlib.pyplot as plt\n",
    "import seaborn as sns\n",
    "plt.style.use('ggplot')\n",
    "from pyvis.network import Network\n",
    "\n",
    "from src.example_graphs import simple_undirected_graph, simple_directed_graph\n",
    "from src.UndirectedGraph import UndirectedGraph\n",
    "from src.DirectedGraph import DirectedGraph\n",
    "from src.DataLoader import DataLoader\n",
    "from src.GraphCreator import GraphCreator, NetworkXGraphCreator\n",
    "from src.RandomSubgraph import RandomSubgraph\n",
    "\n",
    "from src.io_helpers import pickle_obj, load_pickled_obj\n",
    "from src.networkx_helpers import combine_graphs\n",
    "from src.networkx_multigraph_helpers import (get_edge_attrs, aggregate_numeric_properties,\n",
    "                                             sum_numeric_properties, count_edges,\n",
    "                                             sharing_reciprocity)\n",
    "from src.pyvis_helpers import get_pyvis_graph_with_colors, map_degrees_to_colors"
   ]
  },
  {
   "cell_type": "code",
   "execution_count": 11,
   "metadata": {},
   "outputs": [],
   "source": [
    "ROOT_DIRECTORY = os.path.split(os.getcwd())[0]\n",
    "DATA_DIRECTORY = os.path.join(ROOT_DIRECTORY, 'data')\n",
    "PICKLED_DATA_DIRECTORY = os.path.join(ROOT_DIRECTORY, 'data_pickle')"
   ]
  },
  {
   "cell_type": "code",
   "execution_count": 17,
   "metadata": {},
   "outputs": [],
   "source": [
    "os.mkdir('gif')"
   ]
  },
  {
   "cell_type": "markdown",
   "metadata": {},
   "source": [
    "## Load our weighted dataset"
   ]
  },
  {
   "cell_type": "code",
   "execution_count": 4,
   "metadata": {},
   "outputs": [],
   "source": [
    "G_weighted = load_pickled_obj(os.path.join(PICKLED_DATA_DIRECTORY, 'networkx_weighted_full.pickle'))"
   ]
  },
  {
   "cell_type": "code",
   "execution_count": 12,
   "metadata": {},
   "outputs": [],
   "source": [
    "random_subgraph = RandomSubgraph(G_weighted, \"askreddit\", 15)"
   ]
  },
  {
   "cell_type": "markdown",
   "metadata": {},
   "source": [
    "#1 - Walk, then plot."
   ]
  },
  {
   "cell_type": "code",
   "execution_count": 13,
   "metadata": {},
   "outputs": [],
   "source": [
    "random_subgraph.run_one()"
   ]
  },
  {
   "cell_type": "code",
   "execution_count": 21,
   "metadata": {},
   "outputs": [
    {
     "data": {
      "text/html": [
       "\n",
       "        <iframe\n",
       "            width=\"500px\"\n",
       "            height=\"500px\"\n",
       "            src=\"gif/subgraph01.html\"\n",
       "            frameborder=\"0\"\n",
       "            allowfullscreen\n",
       "        ></iframe>\n",
       "        "
      ],
      "text/plain": [
       "<IPython.lib.display.IFrame at 0x1a3a9f0850>"
      ]
     },
     "execution_count": 21,
     "metadata": {},
     "output_type": "execute_result"
    }
   ],
   "source": [
    "graph_filename = 'gif/subgraph01.html'\n",
    "pyvis_network = get_pyvis_graph_with_colors(\n",
    "    graph=random_subgraph.graph_to_plot,\n",
    "    color_map_func=map_degrees_to_colors,\n",
    "    color_map_func_kwargs={'graph': random_subgraph.graph_to_plot},\n",
    "    notebook=True\n",
    ")\n",
    "pyvis_network.show(graph_filename)"
   ]
  },
  {
   "cell_type": "markdown",
   "metadata": {},
   "source": [
    "#2 - Walk, then plot"
   ]
  },
  {
   "cell_type": "code",
   "execution_count": 22,
   "metadata": {},
   "outputs": [
    {
     "data": {
      "text/html": [
       "\n",
       "        <iframe\n",
       "            width=\"500px\"\n",
       "            height=\"500px\"\n",
       "            src=\"gif/subgraph02.html\"\n",
       "            frameborder=\"0\"\n",
       "            allowfullscreen\n",
       "        ></iframe>\n",
       "        "
      ],
      "text/plain": [
       "<IPython.lib.display.IFrame at 0x1a38cec910>"
      ]
     },
     "execution_count": 22,
     "metadata": {},
     "output_type": "execute_result"
    }
   ],
   "source": [
    "random_subgraph.run_one()\n",
    "graph_filename = 'gif/subgraph02.html'\n",
    "pyvis_network = get_pyvis_graph_with_colors(\n",
    "    graph=random_subgraph.graph_to_plot,\n",
    "    color_map_func=map_degrees_to_colors,\n",
    "    color_map_func_kwargs={'graph': random_subgraph.graph_to_plot},\n",
    "    notebook=True\n",
    ")\n",
    "pyvis_network.show(graph_filename)"
   ]
  },
  {
   "cell_type": "code",
   "execution_count": 23,
   "metadata": {},
   "outputs": [
    {
     "data": {
      "text/html": [
       "\n",
       "        <iframe\n",
       "            width=\"500px\"\n",
       "            height=\"500px\"\n",
       "            src=\"gif/subgraph03.html\"\n",
       "            frameborder=\"0\"\n",
       "            allowfullscreen\n",
       "        ></iframe>\n",
       "        "
      ],
      "text/plain": [
       "<IPython.lib.display.IFrame at 0x1a3af93610>"
      ]
     },
     "execution_count": 23,
     "metadata": {},
     "output_type": "execute_result"
    }
   ],
   "source": [
    "random_subgraph.run_one()\n",
    "graph_filename = 'gif/subgraph03.html'\n",
    "pyvis_network = get_pyvis_graph_with_colors(\n",
    "    graph=random_subgraph.graph_to_plot,\n",
    "    color_map_func=map_degrees_to_colors,\n",
    "    color_map_func_kwargs={'graph': random_subgraph.graph_to_plot},\n",
    "    notebook=True\n",
    ")\n",
    "pyvis_network.show(graph_filename)"
   ]
  },
  {
   "cell_type": "code",
   "execution_count": 24,
   "metadata": {},
   "outputs": [
    {
     "data": {
      "text/html": [
       "\n",
       "        <iframe\n",
       "            width=\"500px\"\n",
       "            height=\"500px\"\n",
       "            src=\"gif/subgraph04.html\"\n",
       "            frameborder=\"0\"\n",
       "            allowfullscreen\n",
       "        ></iframe>\n",
       "        "
      ],
      "text/plain": [
       "<IPython.lib.display.IFrame at 0x1a3a658d10>"
      ]
     },
     "execution_count": 24,
     "metadata": {},
     "output_type": "execute_result"
    }
   ],
   "source": [
    "random_subgraph.run_one()\n",
    "graph_filename = 'gif/subgraph04.html'\n",
    "pyvis_network = get_pyvis_graph_with_colors(\n",
    "    graph=random_subgraph.graph_to_plot,\n",
    "    color_map_func=map_degrees_to_colors,\n",
    "    color_map_func_kwargs={'graph': random_subgraph.graph_to_plot},\n",
    "    notebook=True\n",
    ")\n",
    "pyvis_network.show(graph_filename)"
   ]
  },
  {
   "cell_type": "code",
   "execution_count": 25,
   "metadata": {},
   "outputs": [
    {
     "data": {
      "text/html": [
       "\n",
       "        <iframe\n",
       "            width=\"500px\"\n",
       "            height=\"500px\"\n",
       "            src=\"gif/subgraph05.html\"\n",
       "            frameborder=\"0\"\n",
       "            allowfullscreen\n",
       "        ></iframe>\n",
       "        "
      ],
      "text/plain": [
       "<IPython.lib.display.IFrame at 0x1a3a6587d0>"
      ]
     },
     "execution_count": 25,
     "metadata": {},
     "output_type": "execute_result"
    }
   ],
   "source": [
    "random_subgraph.run_one()\n",
    "graph_filename = 'gif/subgraph05.html'\n",
    "pyvis_network = get_pyvis_graph_with_colors(\n",
    "    graph=random_subgraph.graph_to_plot,\n",
    "    color_map_func=map_degrees_to_colors,\n",
    "    color_map_func_kwargs={'graph': random_subgraph.graph_to_plot},\n",
    "    notebook=True\n",
    ")\n",
    "pyvis_network.show(graph_filename)"
   ]
  },
  {
   "cell_type": "code",
   "execution_count": 26,
   "metadata": {},
   "outputs": [
    {
     "data": {
      "text/html": [
       "\n",
       "        <iframe\n",
       "            width=\"500px\"\n",
       "            height=\"500px\"\n",
       "            src=\"gif/subgraph06.html\"\n",
       "            frameborder=\"0\"\n",
       "            allowfullscreen\n",
       "        ></iframe>\n",
       "        "
      ],
      "text/plain": [
       "<IPython.lib.display.IFrame at 0x1a3831a7d0>"
      ]
     },
     "execution_count": 26,
     "metadata": {},
     "output_type": "execute_result"
    }
   ],
   "source": [
    "random_subgraph.run_one()\n",
    "graph_filename = 'gif/subgraph06.html'\n",
    "pyvis_network = get_pyvis_graph_with_colors(\n",
    "    graph=random_subgraph.graph_to_plot,\n",
    "    color_map_func=map_degrees_to_colors,\n",
    "    color_map_func_kwargs={'graph': random_subgraph.graph_to_plot},\n",
    "    notebook=True\n",
    ")\n",
    "pyvis_network.show(graph_filename)"
   ]
  },
  {
   "cell_type": "code",
   "execution_count": 27,
   "metadata": {},
   "outputs": [
    {
     "data": {
      "text/html": [
       "\n",
       "        <iframe\n",
       "            width=\"500px\"\n",
       "            height=\"500px\"\n",
       "            src=\"gif/subgraph07.html\"\n",
       "            frameborder=\"0\"\n",
       "            allowfullscreen\n",
       "        ></iframe>\n",
       "        "
      ],
      "text/plain": [
       "<IPython.lib.display.IFrame at 0x1a36d429d0>"
      ]
     },
     "execution_count": 27,
     "metadata": {},
     "output_type": "execute_result"
    }
   ],
   "source": [
    "random_subgraph.run_one()\n",
    "graph_filename = 'gif/subgraph07.html'\n",
    "pyvis_network = get_pyvis_graph_with_colors(\n",
    "    graph=random_subgraph.graph_to_plot,\n",
    "    color_map_func=map_degrees_to_colors,\n",
    "    color_map_func_kwargs={'graph': random_subgraph.graph_to_plot},\n",
    "    notebook=True\n",
    ")\n",
    "pyvis_network.show(graph_filename)"
   ]
  },
  {
   "cell_type": "code",
   "execution_count": 28,
   "metadata": {},
   "outputs": [
    {
     "data": {
      "text/html": [
       "\n",
       "        <iframe\n",
       "            width=\"500px\"\n",
       "            height=\"500px\"\n",
       "            src=\"gif/subgraph08.html\"\n",
       "            frameborder=\"0\"\n",
       "            allowfullscreen\n",
       "        ></iframe>\n",
       "        "
      ],
      "text/plain": [
       "<IPython.lib.display.IFrame at 0x1a3a488a50>"
      ]
     },
     "execution_count": 28,
     "metadata": {},
     "output_type": "execute_result"
    }
   ],
   "source": [
    "random_subgraph.run_one()\n",
    "graph_filename = 'gif/subgraph08.html'\n",
    "pyvis_network = get_pyvis_graph_with_colors(\n",
    "    graph=random_subgraph.graph_to_plot,\n",
    "    color_map_func=map_degrees_to_colors,\n",
    "    color_map_func_kwargs={'graph': random_subgraph.graph_to_plot},\n",
    "    notebook=True\n",
    ")\n",
    "pyvis_network.show(graph_filename)"
   ]
  },
  {
   "cell_type": "code",
   "execution_count": null,
   "metadata": {},
   "outputs": [],
   "source": []
  },
  {
   "cell_type": "code",
   "execution_count": null,
   "metadata": {},
   "outputs": [],
   "source": []
  },
  {
   "cell_type": "code",
   "execution_count": null,
   "metadata": {},
   "outputs": [],
   "source": []
  },
  {
   "cell_type": "code",
   "execution_count": null,
   "metadata": {},
   "outputs": [],
   "source": []
  }
 ],
 "metadata": {
  "kernelspec": {
   "display_name": "Python 3",
   "language": "python",
   "name": "python3"
  },
  "language_info": {
   "codemirror_mode": {
    "name": "ipython",
    "version": 3
   },
   "file_extension": ".py",
   "mimetype": "text/x-python",
   "name": "python",
   "nbconvert_exporter": "python",
   "pygments_lexer": "ipython3",
   "version": "3.7.4"
  }
 },
 "nbformat": 4,
 "nbformat_minor": 2
}
