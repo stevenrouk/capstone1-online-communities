{
 "cells": [
  {
   "cell_type": "code",
   "execution_count": 1,
   "metadata": {},
   "outputs": [],
   "source": [
    "# Modifying the path so we can import from src directory.\n",
    "import sys\n",
    "import os\n",
    "sys.path.append(os.path.abspath('..'))\n",
    "\n",
    "import copy\n",
    "import pickle\n",
    "import time\n",
    "\n",
    "import numpy as np\n",
    "import pandas as pd\n",
    "import networkx as nx\n",
    "import matplotlib.pyplot as plt\n",
    "plt.style.use('ggplot')\n",
    "\n",
    "from src.example_graphs import simple_undirected_graph, simple_directed_graph\n",
    "from src.UndirectedGraph import UndirectedGraph\n",
    "from src.DirectedGraph import DirectedGraph\n",
    "from src.DataLoader import DataLoader\n",
    "from src.GraphCreator import GraphCreator\n",
    "\n",
    "from src.io_helpers import pickle_obj, load_pickled_obj\n",
    "from src.networkx_helpers import combine_graphs"
   ]
  },
  {
   "cell_type": "code",
   "execution_count": 2,
   "metadata": {},
   "outputs": [
    {
     "data": {
      "text/plain": [
       "1"
      ]
     },
     "execution_count": 2,
     "metadata": {},
     "output_type": "execute_result"
    }
   ],
   "source": [
    "G = nx.MultiDiGraph()\n",
    "G.add_edge(1, 2, key=None, attr={\n",
    "    'property1': 'something here',\n",
    "    'property2': 2,\n",
    "    'property3': [1, 2, 3, 'hello', lambda x: x**2],\n",
    "    4: 'something here',\n",
    "})\n",
    "G.add_edge(1, 2, key=None, attr={\n",
    "    'property2': 5\n",
    "})"
   ]
  },
  {
   "cell_type": "code",
   "execution_count": 3,
   "metadata": {},
   "outputs": [
    {
     "data": {
      "text/plain": [
       "AdjacencyView({2: {0: {'attr': {'property1': 'something here', 'property2': 2, 'property3': [1, 2, 3, 'hello', <function <lambda> at 0xa20b6b7a0>], 4: 'something here'}}, 1: {'attr': {'property2': 5}}}})"
      ]
     },
     "execution_count": 3,
     "metadata": {},
     "output_type": "execute_result"
    }
   ],
   "source": [
    "G[1]"
   ]
  },
  {
   "cell_type": "code",
   "execution_count": 6,
   "metadata": {},
   "outputs": [
    {
     "data": {
      "text/plain": [
       "[]"
      ]
     },
     "execution_count": 6,
     "metadata": {},
     "output_type": "execute_result"
    }
   ],
   "source": [
    "list(G.nodes_with_selfloops())"
   ]
  },
  {
   "cell_type": "code",
   "execution_count": 22,
   "metadata": {},
   "outputs": [
    {
     "name": "stdout",
     "output_type": "stream",
     "text": [
      "1 2 {'attr': {'property1': 'something here', 'property2': 2, 'property3': [1, 2, 3, 'hello', <function <lambda> at 0xa20b6b7a0>], 4: 'something here'}}\n",
      "1 2 {'attr': {'property2': 5}}\n"
     ]
    }
   ],
   "source": [
    "for node in G:\n",
    "    for node2 in G[node]:\n",
    "        for edge in G[node][node2]:\n",
    "            print(node, node2, G[node][node2][edge])"
   ]
  },
  {
   "cell_type": "code",
   "execution_count": 30,
   "metadata": {},
   "outputs": [
    {
     "data": {
      "text/plain": [
       "{'property1': 'something here',\n",
       " 'property2': 2,\n",
       " 'property3': [1, 2, 3, 'hello', <function __main__.<lambda>(x)>],\n",
       " 4: 'something here'}"
      ]
     },
     "execution_count": 30,
     "metadata": {},
     "output_type": "execute_result"
    }
   ],
   "source": [
    "# 1 is the node we're looking at\n",
    "# 2 is the node that 1 points to\n",
    "# 0 is the first edge\n",
    "# 'attr' gets the attribute dict\n",
    "attr_dict_1 = G[1][2][0]['attr']\n",
    "attr_dict_1"
   ]
  },
  {
   "cell_type": "code",
   "execution_count": 32,
   "metadata": {},
   "outputs": [
    {
     "data": {
      "text/plain": [
       "2"
      ]
     },
     "execution_count": 32,
     "metadata": {},
     "output_type": "execute_result"
    }
   ],
   "source": [
    "attr_dict_1['property2']"
   ]
  },
  {
   "cell_type": "code",
   "execution_count": 31,
   "metadata": {},
   "outputs": [
    {
     "data": {
      "text/plain": [
       "{'property2': 5}"
      ]
     },
     "execution_count": 31,
     "metadata": {},
     "output_type": "execute_result"
    }
   ],
   "source": [
    "# 1 is the node we're looking at\n",
    "# 2 is the node that 1 points to\n",
    "# 1 is the second edge\n",
    "# 'attr' gets the attribute dict\n",
    "attr_dict_2 = G[1][2][1]['attr']\n",
    "attr_dict_2"
   ]
  },
  {
   "cell_type": "code",
   "execution_count": 33,
   "metadata": {},
   "outputs": [
    {
     "data": {
      "text/plain": [
       "5"
      ]
     },
     "execution_count": 33,
     "metadata": {},
     "output_type": "execute_result"
    }
   ],
   "source": [
    "attr_dict_2['property2']"
   ]
  },
  {
   "cell_type": "code",
   "execution_count": 34,
   "metadata": {},
   "outputs": [
    {
     "data": {
      "text/plain": [
       "7"
      ]
     },
     "execution_count": 34,
     "metadata": {},
     "output_type": "execute_result"
    }
   ],
   "source": [
    "attr_dict_1['property2'] + attr_dict_2['property2']"
   ]
  },
  {
   "cell_type": "code",
   "execution_count": 44,
   "metadata": {},
   "outputs": [],
   "source": [
    "def get_edge_attrs(graph, node1, node2):\n",
    "    return dict(graph[node1][node2].items())"
   ]
  },
  {
   "cell_type": "code",
   "execution_count": 47,
   "metadata": {},
   "outputs": [
    {
     "data": {
      "text/plain": [
       "{0: {'attr': {'property1': 'something here',\n",
       "   'property2': 2,\n",
       "   'property3': [1, 2, 3, 'hello', <function __main__.<lambda>(x)>],\n",
       "   4: 'something here'}},\n",
       " 1: {'attr': {'property2': 5}}}"
      ]
     },
     "execution_count": 47,
     "metadata": {},
     "output_type": "execute_result"
    }
   ],
   "source": [
    "get_edge_attrs(G, 1, 2)"
   ]
  },
  {
   "cell_type": "code",
   "execution_count": 70,
   "metadata": {},
   "outputs": [],
   "source": [
    "def sum_numeric_properties(attr_dict, numeric_attrs):\n",
    "    summed_dict = {attr: 0 for attr in numeric_attrs}\n",
    "    for edge in attr_dict:\n",
    "        for attr in numeric_attrs:\n",
    "            summed_dict[attr] += attr_dict[edge]['attr'][attr]\n",
    "    \n",
    "    return summed_dict"
   ]
  },
  {
   "cell_type": "code",
   "execution_count": 71,
   "metadata": {},
   "outputs": [
    {
     "data": {
      "text/plain": [
       "{'property2': 7}"
      ]
     },
     "execution_count": 71,
     "metadata": {},
     "output_type": "execute_result"
    }
   ],
   "source": [
    "sum_numeric_properties(get_edge_attrs(G, 1, 2), ['property2'])"
   ]
  },
  {
   "cell_type": "code",
   "execution_count": 72,
   "metadata": {},
   "outputs": [],
   "source": [
    "def aggregate_numeric_properties(attr_dict, numeric_attrs, agg_func):\n",
    "    aggregated_dict = {attr: [] for attr in numeric_attrs}\n",
    "    for edge in attr_dict:\n",
    "        for attr in numeric_attrs:\n",
    "            aggregated_dict[attr].append(attr_dict[edge]['attr'][attr])\n",
    "    \n",
    "    for k in aggregated_dict:\n",
    "        aggregated_dict[k] = agg_func(aggregated_dict[k])\n",
    "    \n",
    "    return aggregated_dict"
   ]
  },
  {
   "cell_type": "code",
   "execution_count": 78,
   "metadata": {},
   "outputs": [
    {
     "data": {
      "text/plain": [
       "{'property2': 3.5}"
      ]
     },
     "execution_count": 78,
     "metadata": {},
     "output_type": "execute_result"
    }
   ],
   "source": [
    "aggregate_numeric_properties(get_edge_attrs(G, 1, 2), ['property2'], np.median)"
   ]
  },
  {
   "cell_type": "code",
   "execution_count": 68,
   "metadata": {},
   "outputs": [],
   "source": [
    "def count_edges(graph, node1, node2):\n",
    "    return len(graph[node1][node2])"
   ]
  },
  {
   "cell_type": "code",
   "execution_count": 69,
   "metadata": {},
   "outputs": [
    {
     "data": {
      "text/plain": [
       "2"
      ]
     },
     "execution_count": 69,
     "metadata": {},
     "output_type": "execute_result"
    }
   ],
   "source": [
    "count_edges(G, 1, 2)"
   ]
  },
  {
   "cell_type": "code",
   "execution_count": null,
   "metadata": {},
   "outputs": [],
   "source": []
  }
 ],
 "metadata": {
  "kernelspec": {
   "display_name": "Python 3",
   "language": "python",
   "name": "python3"
  },
  "language_info": {
   "codemirror_mode": {
    "name": "ipython",
    "version": 3
   },
   "file_extension": ".py",
   "mimetype": "text/x-python",
   "name": "python",
   "nbconvert_exporter": "python",
   "pygments_lexer": "ipython3",
   "version": "3.7.4"
  }
 },
 "nbformat": 4,
 "nbformat_minor": 2
}
