{
 "cells": [
  {
   "cell_type": "code",
   "execution_count": 3,
   "metadata": {},
   "outputs": [],
   "source": [
    "%load_ext autoreload\n",
    "%autoreload 2"
   ]
  },
  {
   "cell_type": "code",
   "execution_count": 890,
   "metadata": {},
   "outputs": [],
   "source": [
    "# Modifying the path so we can import from src directory.\n",
    "import sys\n",
    "import os\n",
    "sys.path.append(os.path.abspath('..'))\n",
    "\n",
    "from collections import Counter, defaultdict\n",
    "from itertools import chain\n",
    "import copy\n",
    "import pickle\n",
    "import random\n",
    "import time\n",
    "\n",
    "import numpy as np\n",
    "import pandas as pd\n",
    "import networkx as nx\n",
    "import matplotlib.pyplot as plt\n",
    "import seaborn as sns\n",
    "plt.style.use('ggplot')\n",
    "from pyvis.network import Network\n",
    "\n",
    "from src.example_graphs import simple_undirected_graph, simple_directed_graph\n",
    "from src.UndirectedGraph import UndirectedGraph\n",
    "from src.DirectedGraph import DirectedGraph\n",
    "from src.DataLoader import DataLoader\n",
    "from src.GraphCreator import GraphCreator, NetworkXGraphCreator\n",
    "\n",
    "from src.io_helpers import pickle_obj, load_pickled_obj\n",
    "from src.networkx_helpers import combine_graphs\n",
    "from src.networkx_multigraph_helpers import (get_edge_attrs, aggregate_numeric_properties,\n",
    "                                             sum_numeric_properties, count_edges)"
   ]
  },
  {
   "cell_type": "code",
   "execution_count": 5,
   "metadata": {},
   "outputs": [],
   "source": [
    "ROOT_DIRECTORY = os.path.split(os.getcwd())[0]\n",
    "DATA_DIRECTORY = os.path.join(ROOT_DIRECTORY, 'data')\n",
    "PICKLED_DATA_DIRECTORY = os.path.join(ROOT_DIRECTORY, 'data_pickle')"
   ]
  },
  {
   "cell_type": "code",
   "execution_count": 6,
   "metadata": {},
   "outputs": [
    {
     "data": {
      "text/plain": [
       "1"
      ]
     },
     "execution_count": 6,
     "metadata": {},
     "output_type": "execute_result"
    }
   ],
   "source": [
    "G = nx.MultiDiGraph()\n",
    "G.add_edge(1, 2, key=None, attr={\n",
    "    'property1': 'something here',\n",
    "    'property2': 2,\n",
    "    'property3': [1, 2, 3, 'hello', lambda x: x**2],\n",
    "    4: 'something here',\n",
    "})\n",
    "G.add_edge(1, 2, key=None, attr={\n",
    "    'property2': 5\n",
    "})"
   ]
  },
  {
   "cell_type": "code",
   "execution_count": 7,
   "metadata": {},
   "outputs": [
    {
     "data": {
      "text/plain": [
       "AdjacencyView({2: {0: {'attr': {'property1': 'something here', 'property2': 2, 'property3': [1, 2, 3, 'hello', <function <lambda> at 0x111ce50e0>], 4: 'something here'}}, 1: {'attr': {'property2': 5}}}})"
      ]
     },
     "execution_count": 7,
     "metadata": {},
     "output_type": "execute_result"
    }
   ],
   "source": [
    "G[1]"
   ]
  },
  {
   "cell_type": "code",
   "execution_count": 16,
   "metadata": {},
   "outputs": [
    {
     "data": {
      "text/plain": [
       "{0: {'attr': {'property1': 'something here',\n",
       "   'property2': 2,\n",
       "   'property3': [1, 2, 3, 'hello', <function __main__.<lambda>(x)>],\n",
       "   4: 'something here'}},\n",
       " 1: {'attr': {'property2': 5}}}"
      ]
     },
     "execution_count": 16,
     "metadata": {},
     "output_type": "execute_result"
    }
   ],
   "source": [
    "get_edge_attrs(G, 1, 2)"
   ]
  },
  {
   "cell_type": "code",
   "execution_count": 18,
   "metadata": {},
   "outputs": [
    {
     "data": {
      "text/plain": [
       "{'property2': 3.5}"
      ]
     },
     "execution_count": 18,
     "metadata": {},
     "output_type": "execute_result"
    }
   ],
   "source": [
    "aggregate_numeric_properties(G, 1, 2, ['property2'], np.median)"
   ]
  },
  {
   "cell_type": "code",
   "execution_count": 20,
   "metadata": {
    "scrolled": true
   },
   "outputs": [
    {
     "data": {
      "text/plain": [
       "{'property2': 7}"
      ]
     },
     "execution_count": 20,
     "metadata": {},
     "output_type": "execute_result"
    }
   ],
   "source": [
    "sum_numeric_properties(G, 1, 2, ['property2'])"
   ]
  },
  {
   "cell_type": "code",
   "execution_count": 21,
   "metadata": {},
   "outputs": [
    {
     "data": {
      "text/plain": [
       "{'property2': 7}"
      ]
     },
     "execution_count": 21,
     "metadata": {},
     "output_type": "execute_result"
    }
   ],
   "source": [
    "aggregate_numeric_properties(G, 1, 2, ['property2'], sum)"
   ]
  },
  {
   "cell_type": "code",
   "execution_count": 23,
   "metadata": {},
   "outputs": [
    {
     "data": {
      "text/plain": [
       "2"
      ]
     },
     "execution_count": 23,
     "metadata": {},
     "output_type": "execute_result"
    }
   ],
   "source": [
    "count_edges(G, 1, 2)"
   ]
  },
  {
   "cell_type": "markdown",
   "metadata": {},
   "source": [
    "# Loading Reddit Data as MultiDiGraph"
   ]
  },
  {
   "cell_type": "markdown",
   "metadata": {},
   "source": [
    "## First, let's try loading a small subset and getting the edge counts."
   ]
  },
  {
   "cell_type": "code",
   "execution_count": 24,
   "metadata": {},
   "outputs": [],
   "source": [
    "body_filepath = os.path.join(DATA_DIRECTORY, 'soc-redditHyperlinks-body.tsv')\n",
    "data_loader = DataLoader(filepath=body_filepath, num_lines=10000, cols_to_load=['SOURCE_SUBREDDIT', 'TARGET_SUBREDDIT'])\n",
    "node_edge_pairs = data_loader.load()"
   ]
  },
  {
   "cell_type": "code",
   "execution_count": 25,
   "metadata": {},
   "outputs": [
    {
     "data": {
      "text/plain": [
       "array([['SOURCE_SUBREDDIT', 'TARGET_SUBREDDIT'],\n",
       "       ['leagueoflegends', 'teamredditteams'],\n",
       "       ['theredlion', 'soccer'],\n",
       "       ...,\n",
       "       ['casualpokemontrades', 'pokemon'],\n",
       "       ['advancedfitness', 'powerlifting'],\n",
       "       ['baconreader', 'silverbugs']], dtype='<U1578')"
      ]
     },
     "execution_count": 25,
     "metadata": {},
     "output_type": "execute_result"
    }
   ],
   "source": [
    "node_edge_pairs"
   ]
  },
  {
   "cell_type": "code",
   "execution_count": 40,
   "metadata": {},
   "outputs": [
    {
     "name": "stdout",
     "output_type": "stream",
     "text": [
      "Data load into graph took 0.11858677864074707 seconds.\n"
     ]
    }
   ],
   "source": [
    "graph_creator = NetworkXGraphCreator()\n",
    "G = graph_creator.create_graph(node_edge_pairs, graph_type='multidigraph')"
   ]
  },
  {
   "cell_type": "code",
   "execution_count": 41,
   "metadata": {
    "scrolled": true
   },
   "outputs": [
    {
     "data": {
      "text/plain": [
       "[('teamredditteams', 1),\n",
       " ('leagueoflegendsmeta', 1),\n",
       " ('iama', 1),\n",
       " ('whowouldwin', 1),\n",
       " ('lolchampconcepts', 2),\n",
       " ('leagueofgiving', 1),\n",
       " ('beadsprites', 1),\n",
       " ('summonerschool', 5),\n",
       " ('loleventvods', 5),\n",
       " ('dogecoin', 1),\n",
       " ('loltwistedtreeline', 1),\n",
       " ('hearthstone', 1),\n",
       " ('wallpapers', 1),\n",
       " ('bestof', 1),\n",
       " ('askreddit', 1),\n",
       " ('starcraft', 1),\n",
       " ('photoshoprequest', 1),\n",
       " ('lolwallpaper', 1),\n",
       " ('lotro', 1)]"
      ]
     },
     "execution_count": 41,
     "metadata": {},
     "output_type": "execute_result"
    }
   ],
   "source": [
    "# Counting the number of out-edges to each subreddit from 'leagueoflegends'\n",
    "[(edge_node, count_edges(G, 'leagueoflegends', edge_node)) for edge_node in G['leagueoflegends']]"
   ]
  },
  {
   "cell_type": "code",
   "execution_count": 42,
   "metadata": {},
   "outputs": [
    {
     "data": {
      "text/plain": [
       "AtlasView({0: {}, 1: {}, 2: {}, 3: {}, 4: {}})"
      ]
     },
     "execution_count": 42,
     "metadata": {},
     "output_type": "execute_result"
    }
   ],
   "source": [
    "G['leagueoflegends']['summonerschool']"
   ]
  },
  {
   "cell_type": "code",
   "execution_count": 43,
   "metadata": {},
   "outputs": [],
   "source": [
    "# Creating a dictionary of out-edge counts for all nodes\n",
    "d = {}\n",
    "for node in G:\n",
    "    d[node] = {}\n",
    "    d[node]['edge_counts'] = [(edge_node, count_edges(G, node, edge_node)) for edge_node in G[node]]\n",
    "    if d[node]['edge_counts']:\n",
    "        max_edge_node = max(d[node]['edge_counts'], key=lambda x: x[1])\n",
    "    else:\n",
    "        max_edge_node = ('', 0)\n",
    "    d[node]['max_edge'] = max_edge_node\n",
    "    d[node]['max_edge_count'] = max_edge_node[1]\n",
    "    d[node]['max_edge_node'] = max_edge_node[0]"
   ]
  },
  {
   "cell_type": "code",
   "execution_count": 44,
   "metadata": {},
   "outputs": [
    {
     "data": {
      "text/plain": [
       "[('iama', 30),\n",
       " ('soccer', 27),\n",
       " ('hockey', 20),\n",
       " ('nofapchristians', 19),\n",
       " ('nofapchristians', 19),\n",
       " ('argentina', 18),\n",
       " ('askreddit', 15),\n",
       " ('magictcg', 15),\n",
       " ('bitcoin', 15),\n",
       " ('hockey', 15),\n",
       " ('funny', 14),\n",
       " ('metalcore', 13),\n",
       " ('buildapcforme', 13),\n",
       " ('dogecoin', 13),\n",
       " ('atletico', 11),\n",
       " ('funny', 11),\n",
       " ('askwomen', 11),\n",
       " ('askreddit', 10),\n",
       " ('askreddit', 10),\n",
       " ('poketradereferences', 10)]"
      ]
     },
     "execution_count": 44,
     "metadata": {},
     "output_type": "execute_result"
    }
   ],
   "source": [
    "# Creating a list of the the most-linked-to subreddits from a single subreddit.\n",
    "# So for example, a value of (node, 10) below means that some specific subreddit linked to node 10 times.\n",
    "# This might not actually be that helpful, but it's good to know that we can aggregate edge counts down.\n",
    "sorted([d[x]['max_edge'] for x in d], key=lambda x: x[1], reverse=True)[:20]"
   ]
  },
  {
   "cell_type": "markdown",
   "metadata": {},
   "source": [
    "## Can we create a new graph where the edge weights are the counts of how many edges go from node to node?"
   ]
  },
  {
   "cell_type": "code",
   "execution_count": 45,
   "metadata": {},
   "outputs": [],
   "source": [
    "G_weighted = nx.DiGraph()"
   ]
  },
  {
   "cell_type": "code",
   "execution_count": 46,
   "metadata": {},
   "outputs": [],
   "source": [
    "weighted_edges = []\n",
    "node = 'leagueoflegends'\n",
    "for node in d:\n",
    "    for edge_node, weight in d[node]['edge_counts']:\n",
    "        edge_triplet = (node, edge_node, weight)\n",
    "        weighted_edges.append(edge_triplet)"
   ]
  },
  {
   "cell_type": "code",
   "execution_count": 47,
   "metadata": {},
   "outputs": [
    {
     "data": {
      "text/plain": [
       "7312"
      ]
     },
     "execution_count": 47,
     "metadata": {},
     "output_type": "execute_result"
    }
   ],
   "source": [
    "len(weighted_edges)"
   ]
  },
  {
   "cell_type": "code",
   "execution_count": 48,
   "metadata": {},
   "outputs": [],
   "source": [
    "G_weighted.add_weighted_edges_from(weighted_edges)"
   ]
  },
  {
   "cell_type": "code",
   "execution_count": 49,
   "metadata": {},
   "outputs": [
    {
     "data": {
      "text/plain": [
       "{'weight': 5}"
      ]
     },
     "execution_count": 49,
     "metadata": {},
     "output_type": "execute_result"
    }
   ],
   "source": [
    "G_weighted['leagueoflegends']['summonerschool']"
   ]
  },
  {
   "cell_type": "code",
   "execution_count": 50,
   "metadata": {},
   "outputs": [
    {
     "name": "stdout",
     "output_type": "stream",
     "text": [
      "4076\n",
      "4076\n"
     ]
    }
   ],
   "source": [
    "# We should have the same number of nodes as before...\n",
    "print(G.number_of_nodes())\n",
    "print(G_weighted.number_of_nodes())"
   ]
  },
  {
   "cell_type": "code",
   "execution_count": 51,
   "metadata": {},
   "outputs": [
    {
     "name": "stdout",
     "output_type": "stream",
     "text": [
      "9999\n",
      "7312\n"
     ]
    }
   ],
   "source": [
    "# ...but fewer edges, since we've compressed multiple edges down to a 'weight'.\n",
    "print(G.number_of_edges())\n",
    "print(G_weighted.number_of_edges())"
   ]
  },
  {
   "cell_type": "code",
   "execution_count": 52,
   "metadata": {},
   "outputs": [
    {
     "data": {
      "text/plain": [
       "{'edge_counts': [],\n",
       " 'max_edge': ('', 0),\n",
       " 'max_edge_count': 0,\n",
       " 'max_edge_node': ''}"
      ]
     },
     "execution_count": 52,
     "metadata": {},
     "output_type": "execute_result"
    }
   ],
   "source": [
    "# What happens to the nodes that have 0 weight going out of them?\n",
    "d['bikela']"
   ]
  },
  {
   "cell_type": "code",
   "execution_count": 53,
   "metadata": {},
   "outputs": [
    {
     "data": {
      "text/plain": [
       "AtlasView({})"
      ]
     },
     "execution_count": 53,
     "metadata": {},
     "output_type": "execute_result"
    }
   ],
   "source": [
    "G_weighted['bikela']"
   ]
  },
  {
   "cell_type": "markdown",
   "metadata": {},
   "source": [
    "## Now, let's try loading the full dataset as a MultiDiGraph\n",
    "I have a suspicion that how I'm calculating edge weights above is not going to be efficient enough for the full dataset..."
   ]
  },
  {
   "cell_type": "code",
   "execution_count": 54,
   "metadata": {},
   "outputs": [],
   "source": [
    "G_body = load_pickled_obj(os.path.join(PICKLED_DATA_DIRECTORY, 'networkx_multigraph_body.pickle'))\n",
    "G_title = load_pickled_obj(os.path.join(PICKLED_DATA_DIRECTORY, 'networkx_multigraph_title.pickle'))\n",
    "G_combined = load_pickled_obj(os.path.join(PICKLED_DATA_DIRECTORY, 'networkx_multigraph_combined.pickle'))"
   ]
  },
  {
   "cell_type": "code",
   "execution_count": 56,
   "metadata": {
    "scrolled": true
   },
   "outputs": [
    {
     "name": "stdout",
     "output_type": "stream",
     "text": [
      "35776\n",
      "54075\n",
      "67180\n"
     ]
    }
   ],
   "source": [
    "print(G_body.number_of_nodes())\n",
    "print(G_title.number_of_nodes())\n",
    "print(G_combined.number_of_nodes())"
   ]
  },
  {
   "cell_type": "code",
   "execution_count": 57,
   "metadata": {},
   "outputs": [
    {
     "name": "stdout",
     "output_type": "stream",
     "text": [
      "286561\n",
      "571927\n",
      "781866\n"
     ]
    }
   ],
   "source": [
    "print(G_body.number_of_edges())\n",
    "print(G_title.number_of_edges())\n",
    "print(G_combined.number_of_edges())"
   ]
  },
  {
   "cell_type": "markdown",
   "metadata": {},
   "source": [
    "**Not sure why we're getting a greater number of nodes than Stanford lists on their site.**"
   ]
  },
  {
   "cell_type": "markdown",
   "metadata": {},
   "source": [
    "### Calculating edge weights for the full dataset"
   ]
  },
  {
   "cell_type": "code",
   "execution_count": 58,
   "metadata": {},
   "outputs": [],
   "source": [
    "G_combined_weighted = nx.DiGraph()"
   ]
  },
  {
   "cell_type": "code",
   "execution_count": 59,
   "metadata": {
    "scrolled": true
   },
   "outputs": [
    {
     "name": "stdout",
     "output_type": "stream",
     "text": [
      "1000\n",
      "2000\n",
      "3000\n",
      "4000\n",
      "5000\n",
      "6000\n",
      "7000\n",
      "8000\n",
      "9000\n",
      "10000\n",
      "11000\n",
      "12000\n",
      "13000\n",
      "14000\n",
      "15000\n",
      "16000\n",
      "17000\n",
      "18000\n",
      "19000\n",
      "20000\n",
      "21000\n",
      "22000\n",
      "23000\n",
      "24000\n",
      "25000\n",
      "26000\n",
      "27000\n",
      "28000\n",
      "29000\n",
      "30000\n",
      "31000\n",
      "32000\n",
      "33000\n",
      "34000\n",
      "35000\n",
      "36000\n",
      "37000\n",
      "38000\n",
      "39000\n",
      "40000\n",
      "41000\n",
      "42000\n",
      "43000\n",
      "44000\n",
      "45000\n",
      "46000\n",
      "47000\n",
      "48000\n",
      "49000\n",
      "50000\n",
      "51000\n",
      "52000\n",
      "53000\n",
      "54000\n",
      "55000\n",
      "56000\n",
      "57000\n",
      "58000\n",
      "59000\n",
      "60000\n",
      "61000\n",
      "62000\n",
      "63000\n",
      "64000\n",
      "65000\n",
      "66000\n",
      "67000\n"
     ]
    }
   ],
   "source": [
    "# Creating a dictionary of out-edge counts for all nodes\n",
    "d = {}\n",
    "i = 1\n",
    "for node in G_combined:\n",
    "    if i % 1000 == 0:\n",
    "        print(i)\n",
    "    d[node] = {}\n",
    "    d[node]['edge_counts'] = [(edge_node, count_edges(G_combined, node, edge_node)) for edge_node in G_combined[node]]\n",
    "    if d[node]['edge_counts']:\n",
    "        max_edge_node = max(d[node]['edge_counts'], key=lambda x: x[1])\n",
    "    else:\n",
    "        max_edge_node = ('', 0)\n",
    "    d[node]['max_edge'] = max_edge_node\n",
    "    d[node]['max_edge_count'] = max_edge_node[1]\n",
    "    d[node]['max_edge_node'] = max_edge_node[0]\n",
    "    i += 1"
   ]
  },
  {
   "cell_type": "code",
   "execution_count": 60,
   "metadata": {},
   "outputs": [],
   "source": [
    "weighted_edges = []\n",
    "for node in d:\n",
    "    for edge_node, weight in d[node]['edge_counts']:\n",
    "        edge_triplet = (node, edge_node, weight)\n",
    "        weighted_edges.append(edge_triplet)"
   ]
  },
  {
   "cell_type": "code",
   "execution_count": 61,
   "metadata": {},
   "outputs": [],
   "source": [
    "G_weighted.add_weighted_edges_from(weighted_edges)"
   ]
  },
  {
   "cell_type": "code",
   "execution_count": 62,
   "metadata": {},
   "outputs": [
    {
     "data": {
      "text/plain": [
       "67180"
      ]
     },
     "execution_count": 62,
     "metadata": {},
     "output_type": "execute_result"
    }
   ],
   "source": [
    "# This should be the same as G_combined, which it is.\n",
    "G_weighted.number_of_nodes()"
   ]
  },
  {
   "cell_type": "code",
   "execution_count": 63,
   "metadata": {},
   "outputs": [
    {
     "data": {
      "text/plain": [
       "339643"
      ]
     },
     "execution_count": 63,
     "metadata": {},
     "output_type": "execute_result"
    }
   ],
   "source": [
    "# This should be less, which it is\n",
    "G_weighted.number_of_edges()"
   ]
  },
  {
   "cell_type": "code",
   "execution_count": 64,
   "metadata": {
    "scrolled": true
   },
   "outputs": [
    {
     "data": {
      "text/plain": [
       "AtlasView({'worldnews': {'weight': 26}, 'woahdude': {'weight': 2}, 'funny': {'weight': 16}, 'changemyview': {'weight': 15}, 'iama': {'weight': 36}, 'frugal': {'weight': 1}, 'vegetarian': {'weight': 6}, 'science': {'weight': 23}, 'todayilearned': {'weight': 32}, 'adviceanimals': {'weight': 11}, 'veganfitness': {'weight': 2}, 'calgary': {'weight': 1}, 'offmychest': {'weight': 1}, 'aww': {'weight': 13}, 'news': {'weight': 33}, 'wtf': {'weight': 15}, 'weddingplanning': {'weight': 1}, 'askreddit': {'weight': 57}, 'videos': {'weight': 21}, 'pics': {'weight': 10}, 'beautyboxes': {'weight': 1}, 'mildlyinteresting': {'weight': 3}, 'veganscience': {'weight': 1}, 'food': {'weight': 8}, 'tumblrinaction': {'weight': 7}, 'pets': {'weight': 1}, 'gifs': {'weight': 7}, 'holdmybeer': {'weight': 1}, 'bojackhorseman': {'weight': 1}, 'spain': {'weight': 1}, 'veganbookclub': {'weight': 1}, 'skincareaddiction': {'weight': 2}, 'vegrecipes': {'weight': 1}, 'subredditads': {'weight': 1}, 'getmotivated': {'weight': 1}, 'subredditsmeet': {'weight': 2}, 'conspiracy': {'weight': 2}, 'eatcheapandhealthy': {'weight': 4}, 'vegantechs': {'weight': 1}, 'climbing': {'weight': 1}, 'microdosing': {'weight': 1}, 'lsd': {'weight': 1}, 'askwomen': {'weight': 1}, 'rage': {'weight': 2}, 'relationships': {'weight': 3}, 'sneks': {'weight': 1}, 'humansbeingbros': {'weight': 1}, 'running': {'weight': 3}, 'sri': {'weight': 1}, 'fitness': {'weight': 2}, 'documentaries': {'weight': 10}, 'quittingkratom': {'weight': 1}, 'health': {'weight': 4}, 'childfree': {'weight': 1}, 'veganbeauty': {'weight': 1}, 'trollxchromosomes': {'weight': 2}, 'showerthoughts': {'weight': 5}, 'religion': {'weight': 1}, 'reactiongifs': {'weight': 1}, 'offbeat': {'weight': 1}, 'vegangaming': {'weight': 1}, 'indianfood': {'weight': 2}, 'pokemongo': {'weight': 1}, 'environment': {'weight': 7}, 'animalsbeingjerks': {'weight': 1}, 'philosophy': {'weight': 20}, 'creepy': {'weight': 1}, 'veganinjapan': {'weight': 1}, 'canada': {'weight': 2}, 'cooking': {'weight': 2}, 'keto': {'weight': 1}, 'xxfitness': {'weight': 1}, 'veganrecipes': {'weight': 3}, 'asksciencediscussion': {'weight': 1}, 'nostupidquestions': {'weight': 2}, 'haiku': {'weight': 1}, 'movies': {'weight': 2}, 'wholesomememes': {'weight': 1}, 'nonfictionbookclub': {'weight': 1}, 'books': {'weight': 1}, 'asianbeauty': {'weight': 1}, 'tacobell': {'weight': 1}, 'thenetherlands': {'weight': 2}, 'survivor': {'weight': 1}, 'guitar': {'weight': 1}, 'askscience': {'weight': 1}, 'zerowaste': {'weight': 1}, 'gmohealth': {'weight': 1}, 'entertainment': {'weight': 1}, 'politics': {'weight': 4}, 'askmen': {'weight': 2}, 'debatereligion': {'weight': 1}, 'futurology': {'weight': 9}, 'justiceporn': {'weight': 1}, 'sweden': {'weight': 1}, 'truereddit': {'weight': 10}, 'foodporn': {'weight': 1}, 'watchingcongress': {'weight': 1}, 'diy': {'weight': 1}, 'atheism': {'weight': 4}, 'dayz': {'weight': 1}, 'debateanarchism': {'weight': 1}, 'washingtondc': {'weight': 2}, 'vegancirclejerk': {'weight': 2}, 'bipolar': {'weight': 1}, 'snackexchange': {'weight': 1}, 'batman': {'weight': 1}, 'farming': {'weight': 1}, 'china': {'weight': 1}, 'fantasy': {'weight': 1}, 'orlando': {'weight': 1}, 'subredditdrama': {'weight': 2}, 'okcupid': {'weight': 2}, 'femalefashionadvice': {'weight': 2}, 'blackladies': {'weight': 1}, 'b12': {'weight': 1}, 'educationalgifs': {'weight': 1}, 'crazyideas': {'weight': 1}, 'anarchism': {'weight': 3}, 'psychonaut': {'weight': 1}, 'foodforthought': {'weight': 2}, 'truefilm': {'weight': 1}, 'standupshots': {'weight': 3}, 'jokes': {'weight': 2}, 'dogs': {'weight': 3}, 'buddhism': {'weight': 2}, 'paleo': {'weight': 2}, 'exmuslim': {'weight': 2}, 'makeupexchange': {'weight': 1}, 'tifu': {'weight': 3}, 'dubbedgifs': {'weight': 1}, 'greece': {'weight': 1}, 'australia': {'weight': 1}, 'adhd': {'weight': 1}, 'fitmeals': {'weight': 2}, 'explainlikeimfive': {'weight': 6}, 'neworleans': {'weight': 1}, 'cynicalbrit': {'weight': 1}, 'lectures': {'weight': 1}, 'caminodesantiago': {'weight': 1}, 'propagandaposters': {'weight': 1}, 'samplesize': {'weight': 2}, 'glutenfreevegan': {'weight': 2}, 'veganismo': {'weight': 1}, 'monsterhunter': {'weight': 1}, 'losangeles': {'weight': 1}, 'sanfrancisco': {'weight': 1}, 'topgear': {'weight': 1}, 'facepalm': {'weight': 3}, 'anticonsumption': {'weight': 3}, 'ahegao': {'weight': 1}, 'babyelephantgifs': {'weight': 1}, 'veganarchism': {'weight': 2}, 'television': {'weight': 1}, 'toronto': {'weight': 1}, 'selfsufficiency': {'weight': 1}, 'everythingscience': {'weight': 1}, 'atlanta': {'weight': 1}, 'askphilosophy': {'weight': 4}, 'northcarolina': {'weight': 2}, 'technology': {'weight': 1}, 'orangecounty': {'weight': 1}, 'france': {'weight': 2}, 'soylent': {'weight': 1}, 'veghumor': {'weight': 1}, 'bestof': {'weight': 2}, 'trueaskreddit': {'weight': 4}, 'europe': {'weight': 1}, 'nutrition': {'weight': 1}, 'editingandlayout': {'weight': 1}, 'shortscarystories': {'weight': 1}, 'eesti': {'weight': 1}, 'interiordesign': {'weight': 1}, 'art': {'weight': 1}, 'equestrian': {'weight': 1}, 'oakland': {'weight': 1}, 'comics': {'weight': 2}, 'skeptic': {'weight': 2}, 'casualiama': {'weight': 1}, 'tumblr': {'weight': 1}, 'cringeanarchy': {'weight': 2}, 'oney': {'weight': 1}, 'masterchef': {'weight': 1}, 'rabbits': {'weight': 1}, 'writingprompts': {'weight': 3}, 'oldschoolcool': {'weight': 1}, 'legaladvice': {'weight': 1}, 'theydidthemath': {'weight': 2}, 'beamazed': {'weight': 1}, 'fantasyfootball': {'weight': 1}, 'mbti': {'weight': 1}, 'india': {'weight': 3}, 'assistance': {'weight': 1}, 'melbourne': {'weight': 1}, 'ramen': {'weight': 1}, 'veggiefriendly': {'weight': 1}, 'plantbaseddiet': {'weight': 1}, 'simpleliving': {'weight': 1}, 'pcos': {'weight': 1}, 'bodybuilding': {'weight': 1}, 'veg': {'weight': 1}, 'longtail': {'weight': 1}, 'tumblrpls': {'weight': 1}, 'latestagecapitalism': {'weight': 1}, 'upliftingnews': {'weight': 1}, 'anarcho_capitalism': {'weight': 1}, 'casualconversation': {'weight': 2}, 'humor': {'weight': 1}, 'progresspics': {'weight': 2}, 'nonononoyes': {'weight': 1}, 'youshouldknow': {'weight': 1}, 'mma': {'weight': 1}, 'quityourbullshit': {'weight': 1}, 'sandersforpresident': {'weight': 1}, 'daddit': {'weight': 1}, 'explainlikeiama': {'weight': 1}, 'humanporn': {'weight': 1}, 'veganrights': {'weight': 1}, 'nottheonion': {'weight': 3}, 'pizza': {'weight': 1}, 'earthporn': {'weight': 1}, 'unitedkingdom': {'weight': 2}, 'loseit': {'weight': 1}, 'horriblydepressing': {'weight': 1}, 'advice': {'weight': 1}, 'shittylifeprotips': {'weight': 1}, 'veganpizza': {'weight': 2}, 'ethicalbuying': {'weight': 1}, 'advancedfitness': {'weight': 1}, 'oddlysatisfying': {'weight': 1}, 'threadkillers': {'weight': 1}, 'pcmasterrace': {'weight': 1}, 'imgoingtohellforthis': {'weight': 1}, 'askmenover30': {'weight': 1}, 'dadjokes': {'weight': 1}, 'topmindsofreddit': {'weight': 1}, 'unexpected': {'weight': 1}, 'cringepics': {'weight': 1}, 'the_donald': {'weight': 1}, 'askvet': {'weight': 1}, 'colonizemars': {'weight': 1}, 'shittyfoodporn': {'weight': 1}, 'backyardchickens': {'weight': 1}, 'againstpetownership': {'weight': 1}, 'supplements': {'weight': 1}, 'kitchenconfidential': {'weight': 1}, 'askvegans': {'weight': 1}, 'roastme': {'weight': 1}, 'freebies': {'weight': 1}, 'babyledweaning': {'weight': 1}, 'veganuk': {'weight': 1}, 'veganfoodporn': {'weight': 1}, 'confessions': {'weight': 1}, 'rant': {'weight': 1}, 'animalsbeingderps': {'weight': 1}, 'gaming': {'weight': 1}, 'gatekeeping': {'weight': 2}, 'confession': {'weight': 1}, 'interestingasfuck': {'weight': 1}, 'israel': {'weight': 1}, 'quotesporn': {'weight': 1}, 'sex': {'weight': 1}, 'zerocarb': {'weight': 1}, 'saplings': {'weight': 1}, 'ketogains': {'weight': 1}, 'philadelphia': {'weight': 1}, 'starbucks': {'weight': 1}, 'wewantplates': {'weight': 1}, 'vegan_food': {'weight': 1}, 'dataisbeautiful': {'weight': 1}, 'rarepuppers': {'weight': 1}, 'stopspeciesism': {'weight': 1}, 'alcohol': {'weight': 1}})"
      ]
     },
     "execution_count": 64,
     "metadata": {},
     "output_type": "execute_result"
    }
   ],
   "source": [
    "G_weighted['vegan']"
   ]
  },
  {
   "cell_type": "code",
   "execution_count": 65,
   "metadata": {},
   "outputs": [
    {
     "data": {
      "text/plain": [
       "[('askreddit', 0.021360629665365234),\n",
       " ('iama', 0.01670523275980411),\n",
       " ('pics', 0.011220933863998236),\n",
       " ('funny', 0.010155471781302957),\n",
       " ('videos', 0.009193387374533107),\n",
       " ('todayilearned', 0.0069400271021285796),\n",
       " ('worldnews', 0.006106194033904912),\n",
       " ('gaming', 0.005768021604326954),\n",
       " ('news', 0.004797769055850077),\n",
       " ('science', 0.004451013992358437),\n",
       " ('gifs', 0.004359288201766917),\n",
       " ('leagueoflegends', 0.003991076773959163),\n",
       " ('wtf', 0.0038055564518849534),\n",
       " ('books', 0.003727554241457794),\n",
       " ('showerthoughts', 0.003534324014878249),\n",
       " ('politics', 0.0035251888246041743),\n",
       " ('adviceanimals', 0.0034740758363545022),\n",
       " ('writingprompts', 0.003362169301335374),\n",
       " ('bitcoin', 0.003336064178847318),\n",
       " ('the_donald', 0.003308418700855571),\n",
       " ('movies', 0.003254898240453419),\n",
       " ('aww', 0.003101836981762116),\n",
       " ('mildlyinteresting', 0.003074490332956596),\n",
       " ('music', 0.0030458699168507872),\n",
       " ('technology', 0.002930653857132003),\n",
       " ('pcmasterrace', 0.002910045191552715),\n",
       " ('conspiracy', 0.002868452369202237),\n",
       " ('explainlikeimfive', 0.0028634623832554155),\n",
       " ('tifu', 0.0026066042292822783),\n",
       " ('sandersforpresident', 0.002549120086060076),\n",
       " ('askhistorians', 0.0021625987952451258),\n",
       " ('soccer', 0.0021187276171126712),\n",
       " ('askscience', 0.0020529505351641647),\n",
       " ('games', 0.0020320776044205737),\n",
       " ('relationships', 0.0019764278164557916),\n",
       " ('space', 0.0018809197556554395),\n",
       " ('india', 0.0018775246570913128),\n",
       " ('minecraft', 0.0018281131083782477),\n",
       " ('dota2', 0.0018233220725406844),\n",
       " ('anime', 0.0017979825043371047),\n",
       " ('globaloffensive', 0.0017891147737057417),\n",
       " ('clashofclans', 0.0017833511410980248),\n",
       " ('android', 0.00173699844121115),\n",
       " ('dogecoin', 0.0016755966165244913),\n",
       " ('dataisbeautiful', 0.0016730420533843104),\n",
       " ('mhoc', 0.0016184687854063405),\n",
       " ('futurology', 0.0016170163853709931),\n",
       " ('nosleep', 0.0015679183844495936),\n",
       " ('nfl', 0.0015158812595928838),\n",
       " ('pokemongo', 0.0015065077797069876),\n",
       " ('smashbros', 0.0015035906797149596),\n",
       " ('europe', 0.0014621924346021878),\n",
       " ('electronicmusic', 0.0014505421444461987),\n",
       " ('personalfinance', 0.0014429845424666172),\n",
       " ('lifeprotips', 0.001431877375962171),\n",
       " ('hearthstone', 0.0013803859315188035),\n",
       " ('outoftheloop', 0.001368611991666772),\n",
       " ('fitness', 0.0013444406187524509),\n",
       " ('interestingasfuck', 0.0013391129487602934),\n",
       " ('trees', 0.0013315233005295611),\n",
       " ('nba', 0.0013307351937942747),\n",
       " ('legaladvice', 0.001328901889796522),\n",
       " ('subredditdrama', 0.001300987012636854),\n",
       " ('diy', 0.0012919233875094277),\n",
       " ('hockey', 0.0012841686051973619),\n",
       " ('buildapc', 0.0012463345281272834),\n",
       " ('food', 0.001231506189595853),\n",
       " ('thesilphroad', 0.0012238285728077515),\n",
       " ('cfb', 0.0011971036405351938),\n",
       " ('jokes', 0.0011937067903165946),\n",
       " ('whowouldwin', 0.0011881705550413212),\n",
       " ('destinythegame', 0.001183370362623948),\n",
       " ('twoxchromosomes', 0.00118333207278291),\n",
       " ('history', 0.001162433336093741),\n",
       " ('art', 0.0011500052890099201),\n",
       " ('sysadmin', 0.0011471312854432537),\n",
       " ('casualiama', 0.0011422979428546117),\n",
       " ('changelog', 0.0011056899363332913),\n",
       " ('electronic_cigarette', 0.0011013086782120265),\n",
       " ('canada', 0.0011012561318247017),\n",
       " ('documentaries', 0.0011002514194377758),\n",
       " ('starwars', 0.0010939995058972165),\n",
       " ('oculus', 0.001091853045231162),\n",
       " ('television', 0.0010847310124127083),\n",
       " ('baseball', 0.0010845946150888585),\n",
       " ('overwatch', 0.0010747575567219936),\n",
       " ('techsupport', 0.0010720211789619688),\n",
       " ('offmychest', 0.0010679390350287147),\n",
       " ('hiphopheads', 0.0010444955520470223),\n",
       " ('photoshopbattles', 0.0010220789314264224),\n",
       " ('woahdude', 0.0010192570319331096),\n",
       " ('creepy', 0.0010009454402578875),\n",
       " ('pokemon', 0.0009996402988845183),\n",
       " ('xboxone', 0.0009828520523226438),\n",
       " ('gamedev', 0.0009759925045154354),\n",
       " ('dnd', 0.0009753734706457188),\n",
       " ('metalcore', 0.0009504819736709401),\n",
       " ('sex', 0.0009500721927459207),\n",
       " ('ps4', 0.0009316452001830601),\n",
       " ('magictcg', 0.0009308657141743477),\n",
       " ('steam', 0.0009239496218575378),\n",
       " ('programming', 0.0009169642982876781),\n",
       " ('gonewildaudio', 0.0009155022392177419),\n",
       " ('atheism', 0.000915050688127471),\n",
       " ('modelusgov', 0.000901534144082742),\n",
       " ('civcraft', 0.0009004129385582744),\n",
       " ('wow', 0.0008966449245875055),\n",
       " ('self', 0.0008958894983808656),\n",
       " ('entrepreneur', 0.0008825954810174008),\n",
       " ('nottheonion', 0.0008636853184536579),\n",
       " ('trendingsubreddits', 0.000858214095545611),\n",
       " ('fantasy', 0.0008551650082635166),\n",
       " ('nintendo', 0.0008515364378648073),\n",
       " ('darknetmarkets', 0.0008380086426566152),\n",
       " ('oldschoolcool', 0.0008364599303564789),\n",
       " ('squaredcircle', 0.0008321473109884194),\n",
       " ('summonerschool', 0.0008051982775976621),\n",
       " ('motorcycles', 0.0007863065924534172),\n",
       " ('linux', 0.0007843306434852543),\n",
       " ('changemyview', 0.0007826284154308061),\n",
       " ('askmen', 0.0007808119556767061),\n",
       " ('tf2', 0.000769937603718669),\n",
       " ('bestof', 0.0007620668478191793),\n",
       " ('drugs', 0.0007612671200416974),\n",
       " ('earthporn', 0.0007580631415743244),\n",
       " ('unitedkingdom', 0.0007554368051308503),\n",
       " ('apple', 0.0007528324879801727),\n",
       " ('elitedangerous', 0.000744833557139862),\n",
       " ('subredditsimulator', 0.0007402910690890537),\n",
       " ('askwomen', 0.0007314542959275934),\n",
       " ('guns', 0.0007306680929556028),\n",
       " ('australia', 0.0007261718833211245),\n",
       " ('gonewild', 0.0007203693727227987),\n",
       " ('philosophy', 0.0007131927663034916),\n",
       " ('listentothis', 0.0007126667212809221),\n",
       " ('relationship_advice', 0.0007021071500064154),\n",
       " ('ama', 0.000702028259843278),\n",
       " ('collegebasketball', 0.0006959029095763168),\n",
       " ('pcgaming', 0.000695689718183798),\n",
       " ('boardgames', 0.0006955041080855119),\n",
       " ('mapporn', 0.0006917642387553913),\n",
       " ('cars', 0.0006716794566124865),\n",
       " ('tipofmytongue', 0.0006637416114210618),\n",
       " ('whatisthisthing', 0.0006562097515613488),\n",
       " ('kotakuinaction', 0.0006496555337853127),\n",
       " ('fantheories', 0.000646872825677755),\n",
       " ('malefashionadvice', 0.0006453108713647505),\n",
       " ('christianity', 0.0006442529983407758),\n",
       " ('jailbreak', 0.0006365906360267886),\n",
       " ('tagpro', 0.0006346088555135181),\n",
       " ('ireland', 0.0006331826045841831),\n",
       " ('undelete', 0.0006321441376426663),\n",
       " ('newsokur', 0.0006309572166589987),\n",
       " ('mhocpress', 0.0006292064320321075),\n",
       " ('syriancivilwar', 0.0006271512806482505),\n",
       " ('thebutton', 0.0006237851159447744),\n",
       " ('sports', 0.0006106828874640573),\n",
       " ('rpg', 0.000610616987453188),\n",
       " ('getmotivated', 0.0006071915103615798),\n",
       " ('eve', 0.0006063256424033333),\n",
       " ('political_revolution', 0.000601724425136188),\n",
       " ('learnprogramming', 0.0006006193976200642),\n",
       " ('advice', 0.0006000832633213158),\n",
       " ('travel', 0.0005982760214749044),\n",
       " ('ethereum', 0.0005942203435806753),\n",
       " ('fallout', 0.0005896754246407666),\n",
       " ('de', 0.0005851186481720712),\n",
       " ('bicycling', 0.0005850322476535634),\n",
       " ('4chan', 0.0005734222542062771),\n",
       " ('fivenightsatfreddys', 0.0005713631570527581),\n",
       " ('gamedeals', 0.0005707099867131597),\n",
       " ('worldbuilding', 0.0005706274157878228),\n",
       " ('starcitizen', 0.000570340768356665),\n",
       " ('vive', 0.0005693124071446358),\n",
       " ('internetisbeautiful', 0.0005689301605662712),\n",
       " ('assistance', 0.0005685625329072448),\n",
       " ('talesfromtechsupport', 0.0005633423943912864),\n",
       " ('photography', 0.0005487114602874871),\n",
       " ('loseit', 0.0005472703832997322),\n",
       " ('mls', 0.0005408060206142805),\n",
       " ('theredpill', 0.0005384130181956159),\n",
       " ('oddlysatisfying', 0.0005363270621738977),\n",
       " ('upliftingnews', 0.0005333261069311612),\n",
       " ('stock_picks', 0.0005310582855432744),\n",
       " ('toronto', 0.0005296670850580931),\n",
       " ('frugal', 0.0005294207909328297),\n",
       " ('place', 0.0005279847823601295),\n",
       " ('forhire', 0.0005275336009776634),\n",
       " ('everythingscience', 0.0005242438972796938),\n",
       " ('planetside', 0.0005241616184425862),\n",
       " ('mhol', 0.0005235970015459668),\n",
       " ('nostupidquestions', 0.000516745937011912),\n",
       " ('cats', 0.0005159112294471626),\n",
       " ('joinrobin', 0.0005139833146800073),\n",
       " ('geopolitics', 0.0005128605119850664),\n",
       " ('theydidthemath', 0.0005098604351569675),\n",
       " ('indieheads', 0.0005087311559709122),\n",
       " ('civ', 0.0005045173799621976),\n",
       " ('mcservers', 0.0005042955264308639),\n",
       " ('subredditoftheday', 0.0004997317934560926),\n",
       " ('mmorpg', 0.0004990220775962481),\n",
       " ('reactiongifs', 0.0004975019742803051),\n",
       " ('soccerstreams', 0.0004969467087952091),\n",
       " ('smite', 0.0004933667755582921),\n",
       " ('me_irl', 0.0004871906395369222),\n",
       " ('privacy', 0.0004850387016597163),\n",
       " ('socialism', 0.00048416536748282086),\n",
       " ('halo', 0.0004828224100026347),\n",
       " ('mma', 0.000480376957593438),\n",
       " ('islam', 0.00047974806617151185),\n",
       " ('podemos', 0.0004792144664630465),\n",
       " ('3dprinting', 0.00047742416017715935),\n",
       " ('feedthebeast', 0.00047718846822451474),\n",
       " ('formula1', 0.00047715379864661094),\n",
       " ('nosleepooc', 0.0004760637109949758),\n",
       " ('minecraftsuggestions', 0.0004745331804937938),\n",
       " ('guildwars2', 0.0004716248858660889),\n",
       " ('posthardcore', 0.0004684889761382017),\n",
       " ('redditrequest', 0.00046713145976537076),\n",
       " ('politicaldiscussion', 0.0004666737639000948),\n",
       " ('wiiu', 0.00046532787689565556),\n",
       " ('respectthreads', 0.00046515401893007616),\n",
       " ('unresolvedmysteries', 0.00046288851702415017),\n",
       " ('imaginarynetwork', 0.0004609940009176855),\n",
       " ('2007scape', 0.00046093476292441605),\n",
       " ('bestof2015', 0.00046023237564928775),\n",
       " ('starcraft', 0.0004565027612932878),\n",
       " ('chicago', 0.00045476571085495014),\n",
       " ('writing', 0.0004461533913443081),\n",
       " ('sweden', 0.00044267882421999456),\n",
       " ('historyporn', 0.00044000724266779815),\n",
       " ('btc', 0.0004381891415561375),\n",
       " ('startups', 0.00043669665040968274),\n",
       " ('anarchism', 0.0004357083664758791),\n",
       " ('crazyideas', 0.000433562736782535),\n",
       " ('addons4kodi', 0.0004330594386025013),\n",
       " ('cringepics', 0.00043251961539016366),\n",
       " ('skyrim', 0.0004318092098825248),\n",
       " ('france', 0.00042713991160875473),\n",
       " ('libertarian', 0.00042630944707321974),\n",
       " ('nofap', 0.0004262889906956825),\n",
       " ('windows10', 0.000425262490096165),\n",
       " ('china', 0.0004246570297914434),\n",
       " ('mechanicalkeyboards', 0.00042188435706767624),\n",
       " ('aviation', 0.00042170241504251623),\n",
       " ('nintendoswitch', 0.00042065093600994285),\n",
       " ('math', 0.00041597709599775704),\n",
       " ('ssbpm', 0.0004157575146808469),\n",
       " ('mylittlepony', 0.00041322957156183674),\n",
       " ('webdev', 0.00041246443367434966),\n",
       " ('comicbooks', 0.00041066132702941553),\n",
       " ('tumblrinaction', 0.000409886035105678),\n",
       " ('blackpeopletwitter', 0.0004097461194311902),\n",
       " ('heroesofthestorm', 0.0004084201809096834),\n",
       " ('netsec', 0.0004082229596598721),\n",
       " ('newzealand', 0.00040782235157028776),\n",
       " ('teenagers', 0.000407806880417606),\n",
       " ('undertale', 0.00040625722850653827),\n",
       " ('cringe', 0.0004052771903625107),\n",
       " ('highqualitygifs', 0.0004051478505261297),\n",
       " ('asoiaf', 0.00040383083283407914),\n",
       " ('anarcho_capitalism', 0.0004030480427002851),\n",
       " ('losangeles', 0.0004014492611446265),\n",
       " ('boston', 0.0004009344600214881),\n",
       " ('houston', 0.00040080908840904556),\n",
       " ('fo4', 0.0003942562101714041),\n",
       " ('exmormon', 0.0003928030344040727),\n",
       " ('raisedbynarcissists', 0.0003901250647189225),\n",
       " ('iphone', 0.0003883455732564855),\n",
       " ('youshouldknow', 0.00038492109875715695),\n",
       " ('dogemarket', 0.00038392653030723837),\n",
       " ('truereddit', 0.0003838970615267805),\n",
       " ('mensrights', 0.0003826122610436062),\n",
       " ('talesfromretail', 0.0003820911535211273),\n",
       " ('ffxiv', 0.00038161685173768807),\n",
       " ('depression', 0.00038011242072701773),\n",
       " ('unexpected', 0.00037903663655333995),\n",
       " ('dndnext', 0.00037771142597393823),\n",
       " ('cryptocurrency', 0.00037757976322342203),\n",
       " ('enoughtrumpspam', 0.00037640509811654675),\n",
       " ('mildlyinfuriating', 0.0003738212085459236),\n",
       " ('woodworking', 0.0003726026664124947),\n",
       " ('dogs', 0.0003725760932406983),\n",
       " ('runescape', 0.00036921648326900956),\n",
       " ('gonewildstories', 0.0003686381721303979),\n",
       " ('amd', 0.0003680883811530751),\n",
       " ('business', 0.00036800058332312407),\n",
       " ('confession', 0.0003671734794565022),\n",
       " ('astronomy', 0.00036696523080935976),\n",
       " ('gameofthrones', 0.0003646560302487043),\n",
       " ('investing', 0.00036304703961487987),\n",
       " ('edmproduction', 0.0003622493095180722),\n",
       " ('bitcoinmarkets', 0.0003604519001266175),\n",
       " ('gadgets', 0.0003588752293769102),\n",
       " ('kerbalspaceprogram', 0.00035845827725705995),\n",
       " ('makeupaddiction', 0.00035762237743883424),\n",
       " ('twitchplayspokemon', 0.0003569997382387268),\n",
       " ('lego', 0.00035657014920971924),\n",
       " ('pokemongodev', 0.0003534252117731526),\n",
       " ('ministry', 0.0003530518382169824),\n",
       " ('running', 0.00035266893072002855),\n",
       " ('portland', 0.00035114107105176285),\n",
       " ('nyc', 0.00034793349383325183),\n",
       " ('conservative', 0.0003460582175656834),\n",
       " ('horror', 0.0003456685928058684),\n",
       " ('seattle', 0.0003454047361766844),\n",
       " ('testimonials', 0.0003444652644068316),\n",
       " ('imgoingtohellforthis', 0.000342709350553991),\n",
       " ('guitar', 0.0003390207493687379),\n",
       " ('3ds', 0.0003370391047058203),\n",
       " ('machinelearning', 0.0003347475074508872),\n",
       " ('competitivehs', 0.00033474111230021817),\n",
       " ('kpop', 0.0003340673864881276),\n",
       " ('clashroyale', 0.00033401706867525416),\n",
       " ('wayofthebern', 0.00033351462072499916),\n",
       " ('samplesize', 0.0003333737514857814),\n",
       " ('austin', 0.00033277999127227044),\n",
       " ('ultrahardcore', 0.000332633615440591),\n",
       " ('casualconversation', 0.00033253735450579494),\n",
       " ('harrypotter', 0.0003313466295586967),\n",
       " ('spacex', 0.0003301150652890616),\n",
       " ('twitch', 0.0003290006829609063),\n",
       " ('metal', 0.0003264266678282988),\n",
       " ('circlejerk', 0.0003263133920098458),\n",
       " ('mhocmeta', 0.0003241421514006765),\n",
       " ('vegan', 0.0003239345101121812),\n",
       " ('needamod', 0.00032387864309188106),\n",
       " ('globaloffensivetrade', 0.00032351577207579487),\n",
       " ('buildapcsales', 0.00032277511670033914),\n",
       " ('ukpolitics', 0.00032264758976776025),\n",
       " ('cringeanarchy', 0.00032095220618089663),\n",
       " ('scotland', 0.0003186501721887954),\n",
       " ('crucibleplaybook', 0.00031570706617959146),\n",
       " ('ironthronepowers', 0.00031488774499316207),\n",
       " ('trollxchromosomes', 0.0003130643075775954),\n",
       " ('filmmakers', 0.0003125424506205363),\n",
       " ('wearethemusicmakers', 0.00031069622994811617),\n",
       " ('mhocstrangersbar', 0.00031064930292334746),\n",
       " ('gardening', 0.0003087212327896781),\n",
       " ('ukrainianconflict', 0.0003074740510840191),\n",
       " ('darksouls3', 0.00030610913396856605),\n",
       " ('vexillology', 0.00030590283559625304),\n",
       " ('battlefield_4', 0.0003053046204247037),\n",
       " ('civbattleroyale', 0.0003044363439497182),\n",
       " ('jontron', 0.0003044177256488694),\n",
       " ('bodyweightfitness', 0.00030395623178693733),\n",
       " ('hillaryclinton', 0.000303349345417667),\n",
       " ('pac12', 0.00030268193168647456),\n",
       " ('psychonaut', 0.000302450904700723),\n",
       " ('askdocs', 0.00030136411489071514),\n",
       " ('amiibo', 0.0003008851273691787),\n",
       " ('nomansskythegame', 0.0002997314393105728),\n",
       " ('stormcoming', 0.00029959529112146357),\n",
       " ('ideasfortheadmins', 0.00029941500593412654),\n",
       " ('dirtypenpals', 0.0002990646216576632),\n",
       " ('ecigclassifieds', 0.0002979225518072669),\n",
       " ('rocketleague', 0.00029754997264182893),\n",
       " ('mlplounge', 0.0002974367800288301),\n",
       " ('modsupport', 0.000297042466537917),\n",
       " ('homeimprovement', 0.0002968509188022084),\n",
       " ('cscareerquestions', 0.00029684538710558766),\n",
       " ('dayz', 0.00029635953008341585),\n",
       " ('keto', 0.00029545630532083907),\n",
       " ('campingandhiking', 0.0002951445005225468),\n",
       " ('theoryofreddit', 0.00029469286107575073),\n",
       " ('conlangs', 0.0002940913881757196),\n",
       " ('aquariums', 0.0002923013366991565),\n",
       " ('diablo', 0.00029226267560789477),\n",
       " ('occult', 0.00029107547478494315),\n",
       " ('wikileaks', 0.00029055513852023544),\n",
       " ('raspberry_pi', 0.00029017094359374987),\n",
       " ('indiancountry', 0.00028959637285825895),\n",
       " ('beermoney', 0.0002887965874140735),\n",
       " ('grandtheftautov', 0.00028721414378697304),\n",
       " ('youtube', 0.0002868388148155748),\n",
       " ('economics', 0.0002859841785131378),\n",
       " ('asksciencefiction', 0.0002843771041601409),\n",
       " ('philippines', 0.00028345919709392333),\n",
       " ('python', 0.00028265423333633514),\n",
       " ('stevenuniverse', 0.000281040847118502),\n",
       " ('tattoos', 0.00028005087176550923),\n",
       " ('roastme', 0.0002799012414741206),\n",
       " ('grassrootsselect', 0.00027925561006173914),\n",
       " ('atlanta', 0.00027909913724145495),\n",
       " ('nvidia', 0.00027885824204231305),\n",
       " ('nsfw_gif', 0.00027874416844906214),\n",
       " ('androidapps', 0.00027805296783296686),\n",
       " ('shitredditsays', 0.000275341668104186),\n",
       " ('modelusmeta', 0.0002751653532685377),\n",
       " ('japan', 0.0002747382995159296),\n",
       " ('isro', 0.0002747251364428469),\n",
       " ('shittyaskscience', 0.0002745947948717442),\n",
       " ('italy', 0.0002745934773185296),\n",
       " ('worldpolitics', 0.00027454215128159463),\n",
       " ('dndbehindthescreen', 0.0002734185424192994),\n",
       " ('comics', 0.0002732134504681604),\n",
       " ('buildapcforme', 0.00027110747436313534),\n",
       " ('zelda', 0.0002706945082703826),\n",
       " ('thewalkingdead', 0.00027028999330728614),\n",
       " ('karmacourt', 0.00026917810980985274),\n",
       " ('paranormal', 0.0002690201657096905),\n",
       " ('networking', 0.0002689348398561871),\n",
       " ('dallas', 0.0002669997715010471),\n",
       " ('skyrimmods', 0.00026651579290282276),\n",
       " ('crappydesign', 0.0002647526944008451),\n",
       " ('israel', 0.0002632487815085535),\n",
       " ('cosplay', 0.00026290230757524487),\n",
       " ('teslamotors', 0.00026241231545099785),\n",
       " ('london', 0.00026239389668634587),\n",
       " ('mindcrack', 0.00026228449876067387),\n",
       " ('millionairemakers', 0.0002616670164555926),\n",
       " ('parenting', 0.00026165863780555556),\n",
       " ('marvel', 0.0002614825582004945),\n",
       " ('kickstarter', 0.00026100526934341446),\n",
       " ('fireemblem', 0.00026099018546859367),\n",
       " ('facepalm', 0.000260683240487522),\n",
       " ('loleventvods', 0.00026042087565189857),\n",
       " ('foodporn', 0.00025967907383730266),\n",
       " ('elderscrollsonline', 0.0002589414547377752),\n",
       " ('drama', 0.0002588724770406008),\n",
       " ('cooking', 0.0002582841879590816),\n",
       " ('protectandserve', 0.0002580609111232401),\n",
       " ('programmerhumor', 0.0002566650665493631),\n",
       " ('tinder', 0.0002556135136812641),\n",
       " ('gwabackstage', 0.0002555501745032298),\n",
       " ('marvelstudios', 0.0002552089732702066),\n",
       " ('truegaming', 0.0002510901685042742),\n",
       " ('r4r', 0.00025104051421797707),\n",
       " ('basicincome', 0.0002507819772932803),\n",
       " ('thedivision', 0.000250547156044272),\n",
       " ('jobs', 0.00025048091214444534),\n",
       " ('weightroom', 0.00025037931918738774),\n",
       " ('bindingofisaac', 0.0002470344929157327),\n",
       " ('military', 0.0002466966701946337),\n",
       " ('quityourbullshit', 0.0002466156039114762),\n",
       " ('unearthedarcana', 0.00024590692087114025),\n",
       " ('rainbow6', 0.0002453258332754458),\n",
       " ('help', 0.0002451450718289616),\n",
       " ('dankmemes', 0.00024294146832121787),\n",
       " ('spikes', 0.0002426790366205023),\n",
       " ('furnituremaking', 0.00024225817168508788),\n",
       " ('redditdev', 0.00024219005812493277),\n",
       " ('sanfrancisco', 0.000242148725131031),\n",
       " ('titanfall', 0.00024214483743549532),\n",
       " ('subredditads', 0.00024168721804597668),\n",
       " ('buttcoin', 0.00024144800768538999),\n",
       " ('baking', 0.0002401605258530082),\n",
       " ('darksouls', 0.00023980237621249145),\n",
       " ('arduino', 0.00023769986394251647),\n",
       " ('nootropics', 0.00023769962923219599),\n",
       " ('polandball', 0.00023769193087329),\n",
       " ('youtubehaiku', 0.00023753161855212207),\n",
       " ('freebies', 0.00023694519325184502),\n",
       " ('ethtrader', 0.00023690061856470633),\n",
       " ('languagelearning', 0.00023668962949927632),\n",
       " ('meditation', 0.0002361915113357152),\n",
       " ('subredditreports', 0.0002359726486266587),\n",
       " ('physics', 0.0002359022385596135),\n",
       " ('incremental_games', 0.0002356818644694042),\n",
       " ('playrust', 0.00023539952454379928),\n",
       " ('environment', 0.00023503041713859952),\n",
       " ('justiceporn', 0.00023451005951561724),\n",
       " ('arianespace', 0.00023414658795700005),\n",
       " ('multicopter', 0.00023393670780722322),\n",
       " ('unity3d', 0.00023353604491384498),\n",
       " ('asktransgender', 0.0002332992167889938),\n",
       " ('javascript', 0.00023294525101693724),\n",
       " ('melbourne', 0.00023269466710448705),\n",
       " ('mhoir', 0.00023234050448784244),\n",
       " ('tipofmypenis', 0.00023219725936154587),\n",
       " ('cordcutters', 0.00023186615385855053),\n",
       " ('rickandmorty', 0.0002311797992675544),\n",
       " ('beer', 0.00023117517792578041),\n",
       " ('lgbt', 0.00023112146204062374),\n",
       " ('babybumps', 0.00023091341457428675),\n",
       " ('monsterhunter', 0.00023080439089867973),\n",
       " ('freeebooks', 0.00023076106749804538),\n",
       " ('itookapicture', 0.00023075998310013798),\n",
       " ('trashy', 0.0002306510913134923),\n",
       " ('c_s_t', 0.00023033193399517538),\n",
       " ('vinyl', 0.00023024117620216723),\n",
       " ('lordsofminecraft', 0.00023013559033350147),\n",
       " ('nascar', 0.0002300031479033173),\n",
       " ('subredditcancer', 0.00022998939899382954),\n",
       " ('metalgearsolid', 0.0002299036211821253),\n",
       " ('google', 0.0002296812757965849),\n",
       " ('amiugly', 0.00022891761183179),\n",
       " ('suicidewatch', 0.00022849238992732373),\n",
       " ('coupons', 0.00022825347987486422),\n",
       " ('nhlstreams', 0.00022657032575354233),\n",
       " ('bestof2014', 0.0002262681847996732),\n",
       " ('thenetherlands', 0.00022560352911174872),\n",
       " ('competitiveoverwatch', 0.0002255701646289383),\n",
       " ('homebrewing', 0.00022515575290425177),\n",
       " ('anxiety', 0.0002247676553276002),\n",
       " ('androidquestions', 0.00022398660038018504),\n",
       " ('analog', 0.00022396241358230273),\n",
       " ('indiegaming', 0.0002233370656988481),\n",
       " ('beta', 0.00022320632947650442),\n",
       " ('justrolledintotheshop', 0.00022317715566946974),\n",
       " ('windowsphone', 0.0002228858424104022),\n",
       " ('cfl', 0.00022142929399949563),\n",
       " ('discussionarchive', 0.00022091533678899924),\n",
       " ('bad_cop_no_donut', 0.00022006738327384908),\n",
       " ('lifehacks', 0.00021936306676563675),\n",
       " ('edm', 0.00021925242779436712),\n",
       " ('russia', 0.00021877049519262065),\n",
       " ('cutouts', 0.00021864147884456794),\n",
       " ('finalfantasy', 0.00021815181057752782),\n",
       " ('cyberpunk', 0.00021811432599202387),\n",
       " ('mhocmp', 0.0002180242706524659),\n",
       " ('mholvote', 0.0002179406732838182),\n",
       " ('modelwhpress', 0.00021625906986330037),\n",
       " ('homelab', 0.00021525371337346213),\n",
       " ('wallstreetbets', 0.0002148588139959592),\n",
       " ('vancouver', 0.00021376292519547377),\n",
       " ('torontoevents', 0.00021339639701527198),\n",
       " ('tmobile', 0.00021280089110443028),\n",
       " ('naslsoccer', 0.00021273904376198108),\n",
       " ('kappa', 0.00021268427043622036),\n",
       " ('darksouls2', 0.00021215261057682224),\n",
       " ('civilizatonexperiment', 0.00021198203577256876),\n",
       " ('explainlikeiama', 0.0002118265574453956),\n",
       " ('wec', 0.00021177639207555426),\n",
       " ('doctorwho', 0.00021175386161125044),\n",
       " ('learnpython', 0.0002112782315552474),\n",
       " ('picturegame', 0.00021120837256902988),\n",
       " ('getdisciplined', 0.00021120576021335639),\n",
       " ('silverbugs', 0.0002111104911392363),\n",
       " ('askphilosophy', 0.00021052763845639974),\n",
       " ('truefilm', 0.00020971073835396266),\n",
       " ('tinysubredditoftheday', 0.00020946812049279682),\n",
       " ('denver', 0.00020916063551796864),\n",
       " ('artificial', 0.0002088452615911012),\n",
       " ('bugs', 0.00020832282311389298),\n",
       " ('h1z1', 0.0002076073787263946),\n",
       " ('ssbm', 0.0002075779904609764),\n",
       " ('ottawa', 0.0002067500988132511),\n",
       " ('cricket', 0.00020607770893041842),\n",
       " ('badhistory', 0.00020566949062456334),\n",
       " ('texas', 0.00020547318109946235),\n",
       " ('de_iama', 0.00020533190077716505),\n",
       " ('announcements', 0.0002049756041963373),\n",
       " ('treesgonewild', 0.0002045485975410211),\n",
       " ('argentina', 0.00020402141892917355),\n",
       " ('newsokunomoral', 0.00020398281322652967),\n",
       " ('sexsells', 0.00020392115411192388),\n",
       " ('denmark', 0.00020379590410222353),\n",
       " ('religion', 0.00020377409415517933),\n",
       " ('roosterteeth', 0.00020376196907703273),\n",
       " ('gamedealsmeta', 0.0002036550305234833),\n",
       " ('frugalmalefashion', 0.0002031803938931591),\n",
       " ('cmhoc', 0.0002030677552034231),\n",
       " ('devoted', 0.00020304193080401836),\n",
       " ('singapore', 0.00020254252574341378),\n",
       " ('midcenturydesign', 0.00020241208266756137),\n",
       " ('applehelp', 0.00020218369647859508),\n",
       " ('playark', 0.00020171926307385068),\n",
       " ('paradoxplaza', 0.00020144796025738077),\n",
       " ('hillaryforprison', 0.00020050295240161425),\n",
       " ('startrek', 0.00020006277109651852),\n",
       " ('canadapolitics', 0.0001999922388953302),\n",
       " ('stocks', 0.00019937437973892823),\n",
       " ('virtualreality', 0.00019933381081310906),\n",
       " ('clashofclansrecruit', 0.0001984921793977967),\n",
       " ('pets', 0.00019745798790762577),\n",
       " ('feminism', 0.00019715849042291925),\n",
       " ('exmuslim', 0.00019702612415412472),\n",
       " ('frozen', 0.00019635539609152338),\n",
       " ('hardware', 0.0001962720189536097),\n",
       " ('dailyprogrammer', 0.00019608092654224398),\n",
       " ('financialindependence', 0.0001960224245435145),\n",
       " ('gwaprofiles', 0.00019592938609722636),\n",
       " ('redditclansystem', 0.00019580123534676744),\n",
       " ('buddhism', 0.00019571739754066156),\n",
       " ('pettyrevenge', 0.0001957079819058552),\n",
       " ('retrogaming', 0.00019542650851832023),\n",
       " ('eatcheapandhealthy', 0.00019528205181500608),\n",
       " ('vaporents', 0.00019495584229720604),\n",
       " ('southafrica', 0.00019399023083562582),\n",
       " ('graffiti', 0.0001938297983260628),\n",
       " ('lfg', 0.00019295706680957098),\n",
       " ('philadelphia', 0.0001923784199840763),\n",
       " ('romania', 0.00019233660395731988),\n",
       " ('fantasyfootball', 0.00019208606022165148),\n",
       " ('sydney', 0.00019202891273047015),\n",
       " ('memes', 0.00019171000141321904),\n",
       " ('mexico', 0.00019159581273445487),\n",
       " ('scifi', 0.0001912514036249424),\n",
       " ('askengineers', 0.00019121967311398343),\n",
       " ('manga', 0.00019093310431426974),\n",
       " ('laexploratorybrigade', 0.00019091806069749062),\n",
       " ('gtaonline', 0.00019086364827683984),\n",
       " ('streetfighter', 0.00019080549673474486),\n",
       " ('streetwear', 0.0001906194979498777),\n",
       " ('irishhistory', 0.00019041333955243392),\n",
       " ('celebs', 0.00019033076767112087),\n",
       " ('calgary', 0.0001902923421629109),\n",
       " ('topgear', 0.00019016269694332498),\n",
       " ('mac', 0.00019003197278482598),\n",
       " ('mechanicadvice', 0.00018927304808368493),\n",
       " ('gameswap', 0.0001886421241301613),\n",
       " ('secretsanta', 0.00018837363712400466),\n",
       " ('gamesale', 0.00018830172532192257),\n",
       " ('washingtondc', 0.00018803686218008082),\n",
       " ('linux_gaming', 0.0001879708679983498),\n",
       " ('catholicism', 0.00018786276639953537),\n",
       " ('dating_advice', 0.00018674960610176844),\n",
       " ('goodyearwelt', 0.00018621096430086856),\n",
       " ('footballhighlights', 0.00018611293162194625),\n",
       " ('suggestalaptop', 0.00018610942916024776),\n",
       " ('okcupid', 0.0001859566231519414),\n",
       " ('deadbedrooms', 0.00018582210405792507),\n",
       " ('somethingimade', 0.0001850275043376115),\n",
       " ('gamegrumps', 0.00018477205900039941),\n",
       " ('progmetal', 0.00018470403245411112),\n",
       " ('rbi', 0.00018463733271475573),\n",
       " ('bodybuilding', 0.00018458589544694578),\n",
       " ('linuxquestions', 0.0001833337202751959),\n",
       " ('wallpapers', 0.0001830435396505707),\n",
       " ('onlythehottestgirls', 0.00018283864876722712),\n",
       " ('collapse', 0.0001826542006014577),\n",
       " ('modernmagic', 0.0001819788300975134),\n",
       " ('european', 0.0001818498867014001),\n",
       " ('germany', 0.0001817160964028314),\n",
       " ('robintracking', 0.00018146435690249207),\n",
       " ('detroit', 0.00018114096739480068),\n",
       " ('dogemining', 0.00018026420996157807),\n",
       " ('uncensorednews', 0.00017996934590344194),\n",
       " ('newjersey', 0.00017990810607728064),\n",
       " ('starwarsbattlefront', 0.00017978880912885304),\n",
       " ('sandiego', 0.00017967977449319196),\n",
       " ('instant_regret', 0.00017936730772184125),\n",
       " ('csgobetting', 0.0001791163083146406),\n",
       " ('nsfw', 0.00017903600472834276),\n",
       " ('pittsburgh', 0.00017900155710244821),\n",
       " ('electronics', 0.00017899153322994198),\n",
       " ('androidgaming', 0.00017880462854137416),\n",
       " ('theveneration', 0.00017867512425844085),\n",
       " ('litecoin', 0.00017833022219183276),\n",
       " ('montageparodies', 0.00017830330717974856),\n",
       " ('web_design', 0.00017758346164701145),\n",
       " ('translator', 0.00017743046506923547),\n",
       " ('furry', 0.0001773375333551905),\n",
       " ('watches', 0.00017729655076955775),\n",
       " ('trendingreddits', 0.00017709483588295723),\n",
       " ('ebola', 0.00017698950043416607),\n",
       " ('skincareaddiction', 0.0001768160179722734),\n",
       " ('shittyfoodporn', 0.00017662435088753467),\n",
       " ('shortscarystories', 0.00017643179279060032),\n",
       " ('childfree', 0.00017584871554629527),\n",
       " ('burning_stockings', 0.00017577987984748188),\n",
       " ('medicine', 0.00017576837495232144),\n",
       " ('sto', 0.00017540804358179087),\n",
       " ('compsci', 0.00017498893644904014),\n",
       " ('flipping', 0.00017477560104270796),\n",
       " ('redditgetsdrawn', 0.00017463052308753143),\n",
       " ('customhearthstone', 0.00017449205608040664),\n",
       " ('baltimore', 0.00017421543063237638),\n",
       " ('cosplaygirls', 0.0001741856804563536),\n",
       " ('nfl_draft', 0.0001740518323559225),\n",
       " ('hacking', 0.00017389513638396288),\n",
       " ('masseffect', 0.0001734005554541537),\n",
       " ('iamverysmart', 0.00017322672298413866),\n",
       " ('eu4', 0.00017228890227720555),\n",
       " ('incest', 0.0001721652472164165),\n",
       " ('wowthissubexists', 0.00017157870039100434),\n",
       " ('mariomaker', 0.0001714754334702721),\n",
       " ('leagueofireland', 0.00017108662006487275),\n",
       " ('gifrecipes', 0.00017085599777822436),\n",
       " ('randomkindness', 0.0001703312912369978),\n",
       " ('subreddit_stats', 0.00017025700880823658),\n",
       " ('prorevenge', 0.0001701055552171687),\n",
       " ('arma', 0.00017004814076097905),\n",
       " ('fifa', 0.00016991380686804788),\n",
       " ('chinareport', 0.00016975857137237828),\n",
       " ('quotes', 0.0001692127454811527),\n",
       " ('debatereligion', 0.00016919990107642886),\n",
       " ('iamarequests', 0.0001689926629049567),\n",
       " ('roadcam', 0.00016897257750465036),\n",
       " ('flexibility', 0.00016877065667136277),\n",
       " ('engineering', 0.00016846036926256223),\n",
       " ('adhd', 0.00016809113892194257),\n",
       " ('kodi', 0.00016781594741712463),\n",
       " ('unbiasedworldnews', 0.00016744596049948375),\n",
       " ('needadvice', 0.00016741868140788274),\n",
       " ('korea', 0.00016689700115360328),\n",
       " ('gearvr', 0.00016688655627101372),\n",
       " ('realestatetechnology', 0.0001668145561427161),\n",
       " ('femalefashionadvice', 0.00016608285741904208),\n",
       " ('windows', 0.00016604279289487926),\n",
       " ('publicfreakout', 0.00016594434002896403),\n",
       " ('blackops3', 0.00016591177667316483),\n",
       " ('linux4noobs', 0.00016565544011954689),\n",
       " ('yugioh', 0.00016513999069849163),\n",
       " ('gamerghazi', 0.0001651019689074491),\n",
       " ('hotwife', 0.0001649507493739886),\n",
       " ('nexus6p', 0.0001648190705970212),\n",
       " ('sf4', 0.00016463566302251775),\n",
       " ('astrophotography', 0.0001644951041314507),\n",
       " ('rant', 0.00016436249275272985),\n",
       " ('lsd', 0.00016419041369226787),\n",
       " ('robotics', 0.00016354172274358466),\n",
       " ('powerlifting', 0.0001629117480278447),\n",
       " ('citiesskylines', 0.00016266622903035862),\n",
       " ('monstercat', 0.0001623849897492661),\n",
       " ('asksocialscience', 0.00016202312314968933),\n",
       " ('speedrun', 0.00016193019314062604),\n",
       " ('nrl', 0.00016145146224402917),\n",
       " ('battlebots', 0.00016092236629808198),\n",
       " ('teamredditteams', 0.00016077565319084027),\n",
       " ('halflife', 0.00016067362799504484),\n",
       " ('nationalpark', 0.00016051925717542023),\n",
       " ('rwby', 0.0001603177863176829),\n",
       " ('musictheory', 0.0001598315517076904),\n",
       " ('codzombies', 0.00015968782717682684),\n",
       " ('indianews', 0.00015959363988004985),\n",
       " ('fashionreps', 0.00015942042080337615),\n",
       " ('california', 0.00015939095079879826),\n",
       " ('androidwear', 0.0001588176994739116),\n",
       " ('trap', 0.00015794083850464337),\n",
       " ('ecrpoker', 0.00015782422774569734),\n",
       " ('mrrobot', 0.0001577811615719783),\n",
       " ('nsfw_gifs', 0.00015758538003648646),\n",
       " ('sexystories', 0.00015731425367415203),\n",
       " ('askculinary', 0.00015717804877535678),\n",
       " ('latestagecapitalism', 0.0001571645610769101),\n",
       " ('pathofexile', 0.00015670143323012634),\n",
       " ('rugbyunion', 0.0001566976193520376),\n",
       " ('audiophile', 0.00015641041432277604),\n",
       " ('linuxmasterrace', 0.0001563021283412639),\n",
       " ('newreddits', 0.0001562277682970895),\n",
       " ('chibears', 0.00015582356599622938),\n",
       " ('glitch_in_the_matrix', 0.00015581322163489393),\n",
       " ('clanredditomega', 0.00015580884202365283),\n",
       " ('progresspics', 0.00015551344852059078),\n",
       " ('paydaytheheist', 0.00015513855993801734),\n",
       " ('offbeat', 0.00015417454498560437),\n",
       " ('army', 0.00015415681361975026),\n",
       " ('splatoon', 0.00015400605666397398),\n",
       " ('vita', 0.0001539928942686946),\n",
       " ('rmun', 0.00015395877747079078),\n",
       " ('flying', 0.00015388801849582456),\n",
       " ('surface', 0.00015388656047047767),\n",
       " ('morbidreality', 0.00015298488289479655),\n",
       " ('whatcouldgowrong', 0.00015294561111671906),\n",
       " ('sciencefiction', 0.00015289886153756332),\n",
       " ('climbing', 0.0001519448465176547),\n",
       " ('geek', 0.00015191675277499966),\n",
       " ('battlefield', 0.0001518363054060131),\n",
       " ('ironthronerp', 0.00015116531690201906),\n",
       " ('battlestations', 0.00015074271913821083),\n",
       " ('airsoft', 0.0001506636486461754),\n",
       " ('damnthatsinteresting', 0.0001499633119524223),\n",
       " ('techsupportgore', 0.000149904945618851),\n",
       " ('standupshots', 0.0001495208766128461),\n",
       " ('turkey', 0.00014920524952483045),\n",
       " ('gundam', 0.00014910887585336085),\n",
       " ('warthunder', 0.00014895319823562698),\n",
       " ('itrpcommunity', 0.00014869551642955988),\n",
       " ('microgrowery', 0.00014854721756625103),\n",
       " ('pathfinder_rpg', 0.0001484645482739445),\n",
       " ('pillowtalkaudio', 0.00014807348242837741),\n",
       " ('daddit', 0.00014806914237768415),\n",
       " ('modnews', 0.0001479726905561759),\n",
       " ('dragonage', 0.00014773103498819646),\n",
       " ('infographics', 0.00014748589642072125),\n",
       " ('overwatchuniversity', 0.00014707209602683838),\n",
       " ('witcher', 0.00014706168707019244),\n",
       " ('oculusnsfw', 0.00014698994575349148),\n",
       " ('thriftstorehauls', 0.0001467025225781406),\n",
       " ('powershell', 0.00014664845180247917),\n",
       " ('abandonedporn', 0.00014653850089782315),\n",
       " ('reddevils', 0.0001464751300263476),\n",
       " ('h3h3productions', 0.00014622114774729588),\n",
       " ('chemistry', 0.00014608394599528453),\n",
       " ('nevertoomanymlpsubs', 0.0001457561867753468),\n",
       " ('resissues', 0.0001456913673569691),\n",
       " ('procss', 0.00014560865871184533),\n",
       " ('giftofgames', 0.00014546369030498402),\n",
       " ('sweepstakes', 0.0001452857464055381),\n",
       " ('politicalhumor', 0.00014515025164534538),\n",
       " ('browns', 0.000145115994812656),\n",
       " ('bjj', 0.00014484116280132886),\n",
       " ('neutralpolitics', 0.0001446119002374983),\n",
       " ('seduction', 0.00014458981516221007),\n",
       " ('eldertrees', 0.00014445217965780802),\n",
       " ('enhancement', 0.00014417348089167982),\n",
       " ('grandtheftautov_pc', 0.00014412200496268898),\n",
       " ('skiing', 0.0001439420391195117),\n",
       " ('suomi', 0.00014360197867005543),\n",
       " ('pakistan', 0.00014342468333253068),\n",
       " ('warhammer40k', 0.000143358855433779),\n",
       " ('wholesomememes', 0.0001422866677457054),\n",
       " ('rainmeter', 0.0001420091552065487),\n",
       " ('stlouis', 0.00014140419508056385),\n",
       " ('brasil', 0.00014122679186549453),\n",
       " ('arabs', 0.00014119555253350419),\n",
       " ('nygiants', 0.00014090832860997094),\n",
       " ('gundeals', 0.00014070215581774077),\n",
       " ('popping', 0.0001404945202412888),\n",
       " ('gravityfalls', 0.00014044376635764441),\n",
       " ('politic', 0.00014040498361874546),\n",
       " ('charitablebets', 0.00014037989859502447),\n",
       " ('cancer', 0.00014014240380204915),\n",
       " ('datahoarder', 0.00014008886926503535),\n",
       " ('ingress', 0.00014006418679577402),\n",
       " ('hfy', 0.00013999370540602332),\n",
       " ('codcompetitive', 0.00013976416126577774),\n",
       " ('androiddev', 0.00013959776624145504),\n",
       " ('dncleaks', 0.00013944670402634156),\n",
       " ('combatfootage', 0.00013920568209068156),\n",
       " ('murica', 0.00013914463125819186),\n",
       " ('seattlewa', 0.00013906474768215569),\n",
       " ('49ers', 0.00013890480015817518),\n",
       " ('answers', 0.00013890144313141964),\n",
       " ('chrome', 0.00013870751730644777),\n",
       " ('blackout2015', 0.00013847535104251287),\n",
       " ('nofapwar', 0.0001383327063625688),\n",
       " ('usefulscripts', 0.00013832346112542293),\n",
       " ('emulation', 0.00013816471384130318),\n",
       " ('firearms', 0.00013811426944553633),\n",
       " ('michigan', 0.0001380707455855632),\n",
       " ('diepio', 0.00013791771314842377),\n",
       " ('disney', 0.00013791431658241455),\n",
       " ('starterpacks', 0.00013774478807014793),\n",
       " ('askgaybros', 0.0001377066395824289),\n",
       " ('battlefield_one', 0.00013765278801392708),\n",
       " ('aleague', 0.00013719263019386658),\n",
       " ('thelastairbender', 0.00013697741373548274),\n",
       " ('gunners', 0.00013696315414554028),\n",
       " ('weightlifting', 0.00013690830553642408),\n",
       " ('marketing', 0.0001368910321233215),\n",
       " ('dccomics', 0.0001368873655091471),\n",
       " ('linguistics', 0.0001368375160627233),\n",
       " ('yawriters', 0.00013681984207898311),\n",
       " ('militaryporn', 0.0001366327227726595),\n",
       " ('rwcs', 0.00013636808105290627),\n",
       " ('dogpictures', 0.00013625940586923567),\n",
       " ('randomactsofgaming', 0.00013596905277632245),\n",
       " ('upvoted', 0.00013584767756370247),\n",
       " ('oneplus', 0.00013583440582506744),\n",
       " ('brisbane', 0.00013578652080577274),\n",
       " ('dreams', 0.00013576709158112413),\n",
       " ('applewatch', 0.0001355418174908588),\n",
       " ('fireteams', 0.00013544178632105182),\n",
       " ('mneumonese', 0.00013531380214590222),\n",
       " ('chinareports', 0.00013521629038887661),\n",
       " ('brakebills', 0.00013504931219041804),\n",
       " ('belgium', 0.00013488782079828203),\n",
       " ('misc', 0.00013471808739874542),\n",
       " ('hardwareswap', 0.00013449380938999244),\n",
       " ('boombeach', 0.00013412534710994912),\n",
       " ('psychology', 0.00013411538508595065),\n",
       " ('worldpowers', 0.00013402983616459798),\n",
       " ('mtaugusta', 0.0001340186104410672),\n",
       " ('trueanime', 0.00013376264355432314),\n",
       " ('blog', 0.00013370886193778784),\n",
       " ('buyitforlife', 0.00013370073031162308),\n",
       " ('coins', 0.00013369620925184913),\n",
       " ('ploungemafia', 0.00013322610269024199),\n",
       " ('gaybros', 0.00013316246691798587),\n",
       " ('test', 0.00013303486807144318),\n",
       " ('nexus6', 0.00013302814091760098),\n",
       " ('xcom', 0.0001327991892589387),\n",
       " ('redditallianceclans', 0.00013253596953228625),\n",
       " ('datascience', 0.00013249740452208735),\n",
       " ('summonerswar', 0.0001324380656133427),\n",
       " ('mltp', 0.00013234549225236804),\n",
       " ('afl', 0.00013223034144602244),\n",
       " ('socialskills', 0.00013216129603816945),\n",
       " ('kansascity', 0.00013213803397128134),\n",
       " ('gamedevclassifieds', 0.00013211936633946645),\n",
       " ('rupaulsdragrace', 0.00013204383080239046),\n",
       " ('haskell', 0.00013191804693316343),\n",
       " ('gameofthronesrp', 0.00013177447406565945),\n",
       " ('footballdownload', 0.00013133349101342246),\n",
       " ('urbanexploration', 0.0001310810416031902),\n",
       " ('cigars', 0.00013093760877451617),\n",
       " ('iosthemes', 0.00013080818972543976),\n",
       " ('amateurradio', 0.00013072333593234755),\n",
       " ('netflix', 0.00013060533770140054),\n",
       " ('blender', 0.00013029821991752624),\n",
       " ('headphones', 0.00013025181117088498),\n",
       " ('liverpoolfc', 0.00013018448310377908),\n",
       " ('yogscast', 0.00013005448872373214),\n",
       " ('jillstein', 0.00012994442480762145),\n",
       " ('ar15', 0.00012972856312740895),\n",
       " ('modelsupcourt', 0.00012971416666332017),\n",
       " ('greatxboxdeals', 0.00012969055816920136),\n",
       " ('audioengineering', 0.00012962152777387667),\n",
       " ('zen', 0.00012952384625053778),\n",
       " ('homestuck', 0.00012936488600383066),\n",
       " ('edh', 0.00012879822400033636),\n",
       " ('xxfitness', 0.0001285485078721459),\n",
       " ('smallbusiness', 0.00012845593483556638),\n",
       " ('randomactsofblowjob', 0.00012832613317739693),\n",
       " ('rateme', 0.0001276397566466401),\n",
       " ('piracy', 0.00012758955680705714),\n",
       " ('beekeeping', 0.00012752870796172054),\n",
       " ('bdsmcommunity', 0.00012730064076852315),\n",
       " ('deathcore', 0.00012720771018305115),\n",
       " ('eagles', 0.00012677467788493383),\n",
       " ('bayarea', 0.0001266335011108283),\n",
       " ('watchpeopledie', 0.000126571333681804),\n",
       " ('stopdrinking', 0.00012652024112736694),\n",
       " ('gainit', 0.00012615361482338453),\n",
       " ('clashofclansmu', 0.0001257150577049852),\n",
       " ('dublin', 0.00012547323709979175),\n",
       " ('radiohead', 0.00012547197030594734),\n",
       " ('holdthemoan', 0.00012522625154117318),\n",
       " ('helpmefind', 0.00012517003018096506),\n",
       " ('alternativehistory', 0.00012506803511703188),\n",
       " ('mlbdraft', 0.000124965337195937),\n",
       " ('askanamerican', 0.00012469397101283038),\n",
       " ('weddingplanning', 0.00012442808509148659),\n",
       " ('thalassophobia', 0.00012432361679426873),\n",
       " ('realestate', 0.0001242692372215141),\n",
       " ('animesakuga', 0.00012416788075278638),\n",
       " ('screenwriting', 0.0001241539132813164),\n",
       " ('hailcorporate', 0.0001241500821719588),\n",
       " ('garyjohnson', 0.00012406997116541505),\n",
       " ('ubuntu', 0.00012393517939965912),\n",
       " ('packt', 0.00012365583163370902),\n",
       " ('edc', 0.0001235774653814011),\n",
       " ('bourbon', 0.00012335538567934552),\n",
       " ('maryland', 0.00012323895891833904),\n",
       " ('askelectronics', 0.00012322411011834084),\n",
       " ('badeconomics', 0.00012313498371370138),\n",
       " ('cuckold', 0.00012312276624599778),\n",
       " ('gtav', 0.00012299914985584815),\n",
       " ('roguelikes', 0.00012293702129845358),\n",
       " ('opiates', 0.00012290627267443874),\n",
       " ('monero', 0.0001225191763310645),\n",
       " ('fishing', 0.0001223293069695174),\n",
       " ('howto', 0.00012213620298537348),\n",
       " ('sorceryofthespectacle', 0.00012186194448957335),\n",
       " ('stobuilds', 0.00012181936586766454),\n",
       " ('sneakers', 0.00012165827816325138),\n",
       " ('motorsports', 0.00012155044190095162),\n",
       " ('opensource', 0.00012150136796688167),\n",
       " ('homeautomation', 0.00012141234401448214),\n",
       " ('phoenix', 0.00012137676722554637),\n",
       " ('datasets', 0.00012117245162882987),\n",
       " ('robotwars', 0.00012109281679776924),\n",
       " ('health', 0.00012088908243608963),\n",
       " ('ohioforsanders', 0.00012082561595399185),\n",
       " ('excel', 0.00012078932156592226),\n",
       " ('blackdesertonline', 0.00012077011663914619),\n",
       " ('bloodborne', 0.00012068966068073657),\n",
       " ('deepintoyoutube', 0.00012068466150883767),\n",
       " ('forhonor', 0.00012047582795999644),\n",
       " ('truechristian', 0.00012040637046385558),\n",
       " ('berlin', 0.00012025475349193858),\n",
       " ('crusaderkings', 0.0001202219189967803),\n",
       " ('mormon', 0.00011991331124311876),\n",
       " ('lightbulb', 0.00011988061109122256),\n",
       " ('mechmarket', 0.00011979447532295089),\n",
       " ('justneckbeardthings', 0.00011941769250544344),\n",
       " ('gunsforsale', 0.00011933550881631412),\n",
       " ('scotch', 0.0001193227891218105),\n",
       " ('tumblr', 0.00011885710261330154),\n",
       " ('hiphop101', 0.0001186283858495905),\n",
       " ('mhocgevotes', 0.00011835512674105067),\n",
       " ('thathappened', 0.00011809850321751817),\n",
       " ('mbundestag', 0.00011802014347399397),\n",
       " ('assassinscreed', 0.00011796703889592582),\n",
       " ('psvr', 0.00011773483924389307),\n",
       " ('trackers', 0.00011761031629872298),\n",
       " ('inthenews', 0.00011754462910691279),\n",
       " ('makeupexchange', 0.00011750894390368209),\n",
       " ('longhornnation', 0.00011743325639309596),\n",
       " ('awwnime', 0.0001174221037641956),\n",
       " ('waltdisneyworld', 0.00011721388497121764),\n",
       " ('pokemontrades', 0.00011714580002838397),\n",
       " ('letstalkmusic', 0.00011713979648404391),\n",
       " ('copypasta', 0.00011712984175561509),\n",
       " ('admincraft', 0.00011712477795480722),\n",
       " ('beercellar', 0.0001170526381987628),\n",
       " ('outrun', 0.00011700397825582994),\n",
       " ('democraciv', 0.00011694255932726702),\n",
       " ('mdmatherapy', 0.00011692827413261878),\n",
       " ('findareddit', 0.00011678048769415058),\n",
       " ('olympics', 0.00011674292927030166),\n",
       " ('synthesizers', 0.00011658015117542561),\n",
       " ('britishproblems', 0.00011647561163963525),\n",
       " ('whatsthisbug', 0.00011633413099475001),\n",
       " ('pmsforsale', 0.00011617369542710916),\n",
       " ('fakeid', 0.00011616149488011074),\n",
       " ('custommagic', 0.00011595904330572787),\n",
       " ('metacanada', 0.00011574750010638597),\n",
       " ('futuristparty', 0.00011564351858264749),\n",
       " ('ukbands', 0.00011555489253403001),\n",
       " ('foreveralone', 0.00011550919233748877),\n",
       " ('cincinnati', 0.00011549516829543505),\n",
       " ('nbastreams', 0.00011542051286429703),\n",
       " ('repsneakers', 0.0001153355766132079),\n",
       " ('vermont', 0.00011528229932695629),\n",
       " ('realgirls', 0.00011504483760834972),\n",
       " ('rage', 0.00011503466422267832),\n",
       " ...]"
      ]
     },
     "execution_count": 65,
     "metadata": {},
     "output_type": "execute_result"
    }
   ],
   "source": [
    "sorted(nx.pagerank(G_weighted).items(), key=lambda x: x[1], reverse=True)"
   ]
  },
  {
   "cell_type": "markdown",
   "metadata": {},
   "source": [
    "## Save weighted graph as a pickle file"
   ]
  },
  {
   "cell_type": "code",
   "execution_count": 255,
   "metadata": {},
   "outputs": [],
   "source": [
    "pickle_obj(G_weighted, os.path.join(PICKLED_DATA_DIRECTORY, 'networkx_weighted_full.pickle'))"
   ]
  }
 ],
 "metadata": {
  "kernelspec": {
   "display_name": "Python 3",
   "language": "python",
   "name": "python3"
  },
  "language_info": {
   "codemirror_mode": {
    "name": "ipython",
    "version": 3
   },
   "file_extension": ".py",
   "mimetype": "text/x-python",
   "name": "python",
   "nbconvert_exporter": "python",
   "pygments_lexer": "ipython3",
   "version": "3.7.4"
  }
 },
 "nbformat": 4,
 "nbformat_minor": 2
}
