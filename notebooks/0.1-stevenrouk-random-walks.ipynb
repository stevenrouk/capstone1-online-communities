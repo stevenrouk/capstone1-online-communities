{
 "cells": [
  {
   "cell_type": "code",
   "execution_count": 12,
   "metadata": {},
   "outputs": [
    {
     "name": "stdout",
     "output_type": "stream",
     "text": [
      "The autoreload extension is already loaded. To reload it, use:\n",
      "  %reload_ext autoreload\n"
     ]
    }
   ],
   "source": [
    "%load_ext autoreload\n",
    "%autoreload 2"
   ]
  },
  {
   "cell_type": "code",
   "execution_count": 13,
   "metadata": {},
   "outputs": [],
   "source": [
    "# Modifying the path so we can import from src directory.\n",
    "import sys\n",
    "import os\n",
    "sys.path.append(os.path.abspath('..'))\n",
    "\n",
    "from collections import Counter, defaultdict\n",
    "from itertools import chain\n",
    "import copy\n",
    "import pickle\n",
    "import random\n",
    "import time\n",
    "\n",
    "import numpy as np\n",
    "import pandas as pd\n",
    "import networkx as nx\n",
    "import matplotlib.pyplot as plt\n",
    "import seaborn as sns\n",
    "plt.style.use('ggplot')\n",
    "from pyvis.network import Network\n",
    "\n",
    "from src.example_graphs import simple_undirected_graph, simple_directed_graph\n",
    "from src.UndirectedGraph import UndirectedGraph\n",
    "from src.DirectedGraph import DirectedGraph\n",
    "from src.DataLoader import DataLoader\n",
    "from src.GraphCreator import GraphCreator, NetworkXGraphCreator\n",
    "from src.RandomWalk import RandomWalk\n",
    "\n",
    "from src.io_helpers import pickle_obj, load_pickled_obj\n",
    "from src.networkx_helpers import combine_graphs\n",
    "from src.networkx_multigraph_helpers import (get_edge_attrs, aggregate_numeric_properties,\n",
    "                                             sum_numeric_properties, count_edges)\n",
    "from src.os_helpers import getsize"
   ]
  },
  {
   "cell_type": "code",
   "execution_count": 14,
   "metadata": {},
   "outputs": [],
   "source": [
    "ROOT_DIRECTORY = os.path.split(os.getcwd())[0]\n",
    "DATA_DIRECTORY = os.path.join(ROOT_DIRECTORY, 'data')\n",
    "PICKLED_DATA_DIRECTORY = os.path.join(ROOT_DIRECTORY, 'data_pickle')"
   ]
  },
  {
   "cell_type": "markdown",
   "metadata": {},
   "source": [
    "## Load our data"
   ]
  },
  {
   "cell_type": "code",
   "execution_count": 40,
   "metadata": {},
   "outputs": [],
   "source": [
    "G_weighted = load_pickled_obj(os.path.join(PICKLED_DATA_DIRECTORY, 'networkx_weighted_full.pickle'))\n",
    "G_combined = load_pickled_obj(os.path.join(PICKLED_DATA_DIRECTORY, 'networkx_multigraph_combined.pickle'))"
   ]
  },
  {
   "cell_type": "markdown",
   "metadata": {},
   "source": [
    "# If you Went on a Random Walk...Where Would You End Up?\n",
    "https://stackoverflow.com/questions/37311651/get-node-list-from-random-walk-in-networkx (A resource that I haven't read yet. You can probably do this using matrix multiplication.)\n",
    "\n",
    "## Let's start with a subset of the graph again"
   ]
  },
  {
   "cell_type": "code",
   "execution_count": 16,
   "metadata": {},
   "outputs": [],
   "source": [
    "G_weighted_subset = G_weighted.edge_subgraph(G_weighted.edges('vegan'))"
   ]
  },
  {
   "cell_type": "markdown",
   "metadata": {},
   "source": [
    "## Increasing Efficiency of RandomWalk class\n",
    "Our RandomWalk walk was slowing down significantly, and I discovered that it was because we were storing a full copy of the graph inside of every instance of the RandomWalk class. With the graph size we were dealing with, this added up very quickly and probably locked down all the computer's memory."
   ]
  },
  {
   "cell_type": "code",
   "execution_count": 17,
   "metadata": {},
   "outputs": [],
   "source": [
    "walk1 = RandomWalk(G_weighted)"
   ]
  },
  {
   "cell_type": "code",
   "execution_count": 18,
   "metadata": {},
   "outputs": [],
   "source": [
    "for i in range(100):\n",
    "    walk1.walk()\n",
    "    if walk1.blocked:\n",
    "        break"
   ]
  },
  {
   "cell_type": "code",
   "execution_count": 19,
   "metadata": {},
   "outputs": [
    {
     "name": "stdout",
     "output_type": "stream",
     "text": [
      "2\n",
      "[('betterfap', 1), ('nsfw_gif', 1), ('twohanders', 1)]\n"
     ]
    }
   ],
   "source": [
    "print(walk1.steps_taken)\n",
    "print(Counter(walk1.nodes_seen).most_common())"
   ]
  },
  {
   "cell_type": "code",
   "execution_count": 20,
   "metadata": {},
   "outputs": [
    {
     "name": "stdout",
     "output_type": "stream",
     "text": [
      "196401647\n"
     ]
    }
   ],
   "source": [
    "print(getsize(walk1))"
   ]
  },
  {
   "cell_type": "code",
   "execution_count": 21,
   "metadata": {},
   "outputs": [],
   "source": [
    "walk1.delete_graph()"
   ]
  },
  {
   "cell_type": "code",
   "execution_count": 22,
   "metadata": {},
   "outputs": [
    {
     "data": {
      "text/plain": [
       "970"
      ]
     },
     "execution_count": 22,
     "metadata": {},
     "output_type": "execute_result"
    }
   ],
   "source": [
    "getsize(walk1)"
   ]
  },
  {
   "cell_type": "code",
   "execution_count": 23,
   "metadata": {},
   "outputs": [],
   "source": [
    "walk2 = RandomWalk(G_weighted)\n",
    "for i in range(100):\n",
    "    walk2.walk()\n",
    "    if walk2.blocked:\n",
    "        break"
   ]
  },
  {
   "cell_type": "code",
   "execution_count": 24,
   "metadata": {},
   "outputs": [
    {
     "name": "stdout",
     "output_type": "stream",
     "text": [
      "0\n",
      "[('tonkamemes', 1)]\n"
     ]
    }
   ],
   "source": [
    "print(walk2.steps_taken)\n",
    "print(Counter(walk2.nodes_seen).most_common())"
   ]
  },
  {
   "cell_type": "code",
   "execution_count": 25,
   "metadata": {},
   "outputs": [
    {
     "data": {
      "text/plain": [
       "196401715"
      ]
     },
     "execution_count": 25,
     "metadata": {},
     "output_type": "execute_result"
    }
   ],
   "source": [
    "getsize(walk2)"
   ]
  },
  {
   "cell_type": "code",
   "execution_count": 26,
   "metadata": {},
   "outputs": [],
   "source": [
    "walk2.delete_graph()"
   ]
  },
  {
   "cell_type": "code",
   "execution_count": 27,
   "metadata": {},
   "outputs": [
    {
     "data": {
      "text/plain": [
       "711"
      ]
     },
     "execution_count": 27,
     "metadata": {},
     "output_type": "execute_result"
    }
   ],
   "source": [
    "getsize(walk2)"
   ]
  },
  {
   "cell_type": "code",
   "execution_count": 28,
   "metadata": {},
   "outputs": [],
   "source": [
    "random_walks = [walk1, walk2]"
   ]
  },
  {
   "cell_type": "code",
   "execution_count": 29,
   "metadata": {},
   "outputs": [
    {
     "data": {
      "text/plain": [
       "1697"
      ]
     },
     "execution_count": 29,
     "metadata": {},
     "output_type": "execute_result"
    }
   ],
   "source": [
    "getsize(random_walks)"
   ]
  },
  {
   "cell_type": "markdown",
   "metadata": {},
   "source": [
    "## Go on the walks! You can change the i-range here (number of trials) and j-range (max length of the walk before we shut it down)"
   ]
  },
  {
   "cell_type": "code",
   "execution_count": 30,
   "metadata": {
    "scrolled": true
   },
   "outputs": [
    {
     "name": "stdout",
     "output_type": "stream",
     "text": [
      "0\n",
      "100\n",
      "200\n",
      "300\n",
      "400\n",
      "500\n",
      "600\n",
      "700\n",
      "800\n",
      "900\n",
      "1000\n",
      "1100\n",
      "1200\n",
      "1300\n",
      "1400\n",
      "1500\n",
      "1600\n",
      "1700\n",
      "1800\n",
      "1900\n",
      "2000\n",
      "2100\n",
      "2200\n",
      "2300\n",
      "2400\n",
      "2500\n",
      "2600\n",
      "2700\n",
      "2800\n",
      "2900\n",
      "3000\n",
      "3100\n",
      "3200\n",
      "3300\n",
      "3400\n",
      "3500\n",
      "3600\n",
      "3700\n",
      "3800\n",
      "3900\n",
      "4000\n",
      "4100\n",
      "4200\n",
      "4300\n",
      "4400\n",
      "4500\n",
      "4600\n",
      "4700\n",
      "4800\n",
      "4900\n",
      "5000\n",
      "5100\n",
      "5200\n",
      "5300\n",
      "5400\n",
      "5500\n",
      "5600\n",
      "5700\n",
      "5800\n",
      "5900\n",
      "6000\n",
      "6100\n",
      "6200\n",
      "6300\n",
      "6400\n",
      "6500\n",
      "6600\n",
      "6700\n",
      "6800\n",
      "6900\n",
      "7000\n",
      "7100\n",
      "7200\n",
      "7300\n",
      "7400\n",
      "7500\n",
      "7600\n",
      "7700\n",
      "7800\n",
      "7900\n",
      "8000\n",
      "8100\n",
      "8200\n",
      "8300\n",
      "8400\n",
      "8500\n",
      "8600\n",
      "8700\n",
      "8800\n",
      "8900\n",
      "9000\n",
      "9100\n",
      "9200\n",
      "9300\n",
      "9400\n",
      "9500\n",
      "9600\n",
      "9700\n",
      "9800\n",
      "9900\n"
     ]
    }
   ],
   "source": [
    "for i in range(10000):\n",
    "    walk = RandomWalk(G_weighted)\n",
    "    if i % 100 == 0:\n",
    "        print(i)\n",
    "    for j in range(1000):\n",
    "        walk.walk()\n",
    "        if walk.blocked:\n",
    "            break\n",
    "    walk.delete_graph()\n",
    "    random_walks.append(copy.deepcopy(walk))"
   ]
  },
  {
   "cell_type": "markdown",
   "metadata": {},
   "source": [
    "## Graphing the distribution of steps taken"
   ]
  },
  {
   "cell_type": "code",
   "execution_count": 31,
   "metadata": {},
   "outputs": [
    {
     "data": {
      "image/png": "[encoded data removed]",
      "text/plain": [
       "<Figure size 864x432 with 1 Axes>"
      ]
     },
     "metadata": {},
     "output_type": "display_data"
    }
   ],
   "source": [
    "# This trial had max of 1000 steps per walk, and 10,000 trials.\n",
    "step_counts = [walk.steps_taken for walk in random_walks]\n",
    "fig = plt.figure(figsize=(12, 6))\n",
    "ax = sns.distplot(step_counts)\n",
    "_ = ax.set_title(\"Histogram of Steps Taken During Random Walks - Max-Steps of 1,000 w/ 10,000 trials\")\n",
    "_ = ax.set_ylabel(\"% of data\")\n",
    "_ = ax.set_xlabel(\"# of steps taken\")"
   ]
  },
  {
   "cell_type": "code",
   "execution_count": 32,
   "metadata": {},
   "outputs": [],
   "source": [
    "# These are the step counts from a previous trial.\n",
    "# Max of 100 steps per walk, with 1000 trials.\n",
    "step_counts_100_1000 = [17, 29, 1, 6, 8, 15, 14, 6, 0, 55, 4, 18, 9, 77, 33, 27, 0, 19, 41, 31, 6, 23, 25, 14, 2, 0, 34, 22, 11, 24, 21, 0, 94, 25, 28, 22, 11, 61, 0, 44, 0, 11, 40, 9, 20, 1, 43, 18, 6, 35, 0, 39, 1, 40, 16, 4, 5, 28, 14, 100, 17, 2, 5, 12, 15, 37, 34, 12, 23, 31, 0, 0, 61, 34, 21, 0, 18, 17, 4, 41, 25, 0, 48, 33, 0, 28, 9, 3, 5, 2, 0, 12, 47, 33, 41, 21, 20, 0, 15, 0, 2, 2, 5, 2, 41, 7, 20, 44, 10, 10, 35, 16, 42, 17, 1, 19, 0, 3, 54, 0, 2, 22, 9, 0, 24, 10, 40, 13, 40, 17, 24, 29, 0, 0, 27, 21, 16, 7, 7, 1, 20, 0, 1, 3, 0, 42, 16, 1, 43, 12, 2, 0, 10, 27, 0, 2, 0, 1, 65, 0, 3, 6, 1, 3, 19, 19, 12, 3, 3, 8, 7, 4, 7, 24, 1, 40, 0, 3, 6, 1, 26, 2, 56, 8, 5, 15, 100, 16, 33, 10, 11, 34, 3, 2, 1, 19, 22, 0, 2, 37, 1, 0, 21, 12, 0, 1, 15, 0, 0, 0, 0, 53, 13, 100, 9, 13, 40, 46, 17, 13, 2, 29, 16, 4, 1, 22, 26, 6, 26, 13, 3, 2, 41, 0, 27, 4, 16, 0, 33, 11, 26, 40, 43, 6, 42, 2, 2, 19, 8, 11, 14, 0, 0, 0, 11, 11, 0, 13, 22, 0, 12, 10, 7, 1, 18, 0, 2, 1, 7, 22, 2, 61, 39, 6, 45, 5, 5, 0, 7, 9, 23, 9, 4, 4, 25, 69, 0, 1, 14, 4, 5, 4, 4, 0, 22, 13, 0, 45, 9, 22, 1, 13, 68, 1, 6, 20, 0, 12, 24, 0, 30, 2, 18, 1, 7, 57, 0, 10, 15, 0, 7, 27, 8, 0, 20, 5, 5, 6, 10, 21, 16, 13, 12, 21, 1, 0, 2, 6, 25, 10, 8, 19, 0, 83, 28, 13, 5, 0, 3, 0, 40, 27, 63, 1, 11, 8, 22, 23, 1, 4, 2, 0, 0, 19, 1, 3, 24, 19, 0, 10, 9, 10, 5, 3, 18, 16, 1, 0, 22, 0, 74, 8, 21, 45, 40, 0, 55, 16, 28, 6, 62, 10, 12, 9, 4, 6, 6, 0, 15, 15, 0, 39, 1, 100, 43, 10, 36, 0, 18, 12, 3, 27, 57, 3, 0, 4, 2, 28, 24, 49, 2, 0, 15, 19, 34, 7, 0, 10, 40, 8, 20, 1, 19, 19, 17, 0, 57, 8, 19, 22, 30, 0, 10, 2, 2, 7, 5, 26, 6, 58, 23, 3, 16, 0, 3, 46, 3, 40, 3, 6, 31, 33, 52, 4, 5, 13, 0, 20, 5, 13, 22, 23, 0, 46, 73, 28, 1, 53, 10, 11, 10, 12, 13, 100, 21, 61, 0, 0, 0, 0, 8, 24, 1, 15, 16, 22, 6, 14, 8, 6, 3, 44, 15, 7, 25, 0, 9, 5, 0, 7, 15, 3, 22, 6, 16, 36, 6, 26, 12, 55, 0, 29, 5, 23, 2, 4, 8, 51, 84, 31, 1, 21, 17, 60, 52, 46, 5, 10, 0, 62, 24, 38, 13, 100, 4, 53, 16, 33, 9, 10, 29, 0, 3, 24, 64, 10, 4, 18, 6, 0, 11, 0, 46, 4, 36, 0, 3, 2, 6, 17, 3, 0, 23, 5, 3, 0, 25, 61, 9, 19, 8, 1, 17, 24, 1, 0, 10, 0, 0, 30, 45, 12, 2, 38, 15, 0, 0, 18, 46, 0, 0, 27, 32, 35, 9, 0, 11, 46, 6, 79, 5, 3, 59, 17, 73, 19, 2, 25, 13, 47, 4, 21, 20, 0, 14, 4, 100, 75, 0, 0, 63, 89, 25, 12, 15, 22, 15, 2, 14, 0, 55, 40, 42, 1, 64, 3, 0, 13, 38, 5, 0, 4, 0, 1, 0, 3, 3, 0, 10, 0, 22, 39, 7, 9, 6, 79, 7, 16, 9, 0, 7, 54, 0, 6, 3, 15, 17, 37, 10, 1, 12, 45, 100, 0, 34, 6, 7, 13, 28, 0, 19, 65, 59, 0, 2, 28, 35, 18, 45, 26, 2, 1, 2, 15, 7, 6, 10, 3, 17, 0, 45, 0, 16, 1, 21, 49, 77, 13, 27, 25, 11, 0, 42, 0, 9, 0, 1, 0, 60, 4, 61, 19, 17, 6, 9, 23, 5, 0, 2, 100, 29, 5, 0, 2, 13, 14, 31, 44, 12, 24, 12, 66, 51, 10, 68, 7, 2, 1, 9, 9, 55, 9, 17, 9, 0, 7, 3, 15, 13, 5, 12, 0, 0, 12, 0, 26, 2, 2, 0, 0, 21, 4, 0, 12, 97, 5, 58, 0, 1, 37, 21, 39, 28, 43, 42, 13, 0, 5, 6, 63, 0, 26, 0, 7, 10, 0, 17, 23, 13, 1, 19, 0, 23, 22, 2, 2, 3, 11, 13, 8, 33, 38, 1, 22, 12, 42, 0, 11, 0, 0, 7, 0, 12, 1, 0, 1, 10, 84, 43, 12, 9, 14, 95, 14, 30, 4, 43, 3, 24, 16, 15, 0, 7, 6, 10, 25, 2, 71, 6, 1, 13, 59, 7, 50, 51, 32, 0, 0, 17, 1, 0, 1, 30, 3, 1, 34, 8, 24, 31, 46, 0, 23, 33, 1, 1, 3, 52, 9, 2, 43, 21, 32, 4, 51, 2, 22, 53, 11, 18, 59, 48, 24, 10, 2, 22, 23, 8, 23, 7, 55, 0, 4, 36, 16, 11, 29, 0, 12, 41, 14, 34, 48, 5, 63, 27, 0, 2, 16, 0, 100, 1, 1, 11, 0, 0, 26, 57, 0, 6, 68, 0, 21, 0, 0, 20, 89, 4, 5, 44, 24, 4, 3, 4, 0, 6, 13, 100, 0, 0, 8, 9, 0, 45, 2, 19, 2, 41, 95, 17, 81, 13, 0, 18, 29, 12, 3, 13, 72, 0, 8, 13, 3, 1, 56, 87, 12, 37, 4, 15, 44, 28, 0, 14, 0, 19, 1, 18, 29, 0, 29, 40, 8]"
   ]
  },
  {
   "cell_type": "code",
   "execution_count": 33,
   "metadata": {},
   "outputs": [
    {
     "data": {
      "image/png": "[encoded data removed]",
      "text/plain": [
       "<Figure size 864x432 with 1 Axes>"
      ]
     },
     "metadata": {},
     "output_type": "display_data"
    }
   ],
   "source": [
    "fig = plt.figure(figsize=(12, 6))\n",
    "ax = sns.distplot(step_counts_100_1000)\n",
    "_ = ax.set_title(\"Histogram of Steps Taken During Random Walks - Max-Steps of 100 w/ 1,000 trials\")\n",
    "_ = ax.set_ylabel(\"% of data\")\n",
    "_ = ax.set_xlabel(\"# of steps taken\")"
   ]
  },
  {
   "cell_type": "markdown",
   "metadata": {},
   "source": [
    "## What were the most common nodes seen?"
   ]
  },
  {
   "cell_type": "code",
   "execution_count": 34,
   "metadata": {},
   "outputs": [
    {
     "name": "stdout",
     "output_type": "stream",
     "text": [
      "betterfap 1\n",
      "nsfw_gif 1\n",
      "twohanders 1\n"
     ]
    }
   ],
   "source": [
    "for k, v in random_walks[0].nodes_seen.items():\n",
    "    print(k, v)"
   ]
  },
  {
   "cell_type": "code",
   "execution_count": 35,
   "metadata": {},
   "outputs": [],
   "source": [
    "all_nodes_seen = defaultdict(int)\n",
    "for walk in random_walks:\n",
    "    for node, seen_count in walk.nodes_seen.items():\n",
    "        all_nodes_seen[node] += seen_count"
   ]
  },
  {
   "cell_type": "code",
   "execution_count": 36,
   "metadata": {},
   "outputs": [
    {
     "data": {
      "text/plain": [
       "23188"
      ]
     },
     "execution_count": 36,
     "metadata": {},
     "output_type": "execute_result"
    }
   ],
   "source": [
    "len(all_nodes_seen)"
   ]
  },
  {
   "cell_type": "code",
   "execution_count": 37,
   "metadata": {},
   "outputs": [],
   "source": [
    "all_nodes_seen_counter = Counter(all_nodes_seen)"
   ]
  },
  {
   "cell_type": "markdown",
   "metadata": {},
   "source": [
    "### Most common nodes seen on walks..."
   ]
  },
  {
   "cell_type": "code",
   "execution_count": 38,
   "metadata": {
    "scrolled": true
   },
   "outputs": [
    {
     "data": {
      "text/plain": [
       "[('askreddit', 4604),\n",
       " ('iama', 3904),\n",
       " ('pics', 2508),\n",
       " ('judgedvideogames', 2495),\n",
       " ('allgamersunited', 2493),\n",
       " ('videos', 2198),\n",
       " ('funny', 2179),\n",
       " ('beachboys', 1953),\n",
       " ('thebeachboys', 1951),\n",
       " ('todayilearned', 1584),\n",
       " ('hazardops', 1483),\n",
       " ('zmr', 1482),\n",
       " ('battlefleetgothic', 1476),\n",
       " ('bfgarmada', 1476),\n",
       " ('worldnews', 1416),\n",
       " ('gaming', 1382),\n",
       " ('science', 1106),\n",
       " ('news', 1102),\n",
       " ('gifs', 1032),\n",
       " ('books', 1012),\n",
       " ('reenactors', 1002),\n",
       " ('hadosacademy', 1001),\n",
       " ('cwreenactors', 1000),\n",
       " ('herorp', 1000),\n",
       " ('nostalriusauction', 999),\n",
       " ('kronosauction', 998),\n",
       " ('pensacolabeer', 995),\n",
       " ('emeraldcoastbeer', 994),\n",
       " ('bothell', 990),\n",
       " ('lynnwoodwa', 990),\n",
       " ('mpos', 988),\n",
       " ('modelwestdistrict', 988),\n",
       " ('colosseumtournament', 982),\n",
       " ('apotheosisvillage', 981),\n",
       " ('girlsinyogapants', 951),\n",
       " ('yogapants', 949),\n",
       " ('demohoi4', 943),\n",
       " ('demohoi4legislature', 943),\n",
       " ('politics', 873),\n",
       " ('wtf', 869),\n",
       " ('adviceanimals', 851),\n",
       " ('showerthoughts', 810),\n",
       " ('leagueoflegends', 798),\n",
       " ('music', 772),\n",
       " ('movies', 761),\n",
       " ('technology', 725),\n",
       " ('the_donald', 719),\n",
       " ('pcmasterrace', 708),\n",
       " ('bitcoin', 705),\n",
       " ('mildlyinteresting', 700)]"
      ]
     },
     "execution_count": 38,
     "metadata": {},
     "output_type": "execute_result"
    }
   ],
   "source": [
    "all_nodes_seen_counter.most_common()[:50]"
   ]
  },
  {
   "cell_type": "markdown",
   "metadata": {},
   "source": [
    "### In contrast, the most common nodes in the dataset by degree..."
   ]
  },
  {
   "cell_type": "code",
   "execution_count": 41,
   "metadata": {
    "scrolled": true
   },
   "outputs": [
    {
     "data": {
      "text/plain": [
       "[('subredditdrama', 26625),\n",
       " ('askreddit', 25633),\n",
       " ('bestof', 22489),\n",
       " ('iama', 12808),\n",
       " ('pics', 11981),\n",
       " ('todayilearned', 11586),\n",
       " ('funny', 11142),\n",
       " ('videos', 9557),\n",
       " ('titlegore', 9534),\n",
       " ('worldnews', 9201),\n",
       " ('shitredditsays', 8250),\n",
       " ('news', 7473),\n",
       " ('gaming', 7403),\n",
       " ('shitpost', 6875),\n",
       " ('drama', 6638),\n",
       " ('writingprompts', 6416),\n",
       " ('the_donald', 6338),\n",
       " ('circlebroke2', 6302),\n",
       " ('conspiracy', 6296),\n",
       " ('politics', 6039),\n",
       " ('switcharoo', 6002),\n",
       " ('shitamericanssay', 5852),\n",
       " ('wtf', 5499),\n",
       " ('adviceanimals', 5244),\n",
       " ('bitcoin', 5178),\n",
       " ('gifs', 5057),\n",
       " ('leagueoflegends', 4948),\n",
       " ('explainlikeimfive', 4545),\n",
       " ('shitstatistssay', 4480),\n",
       " ('showerthoughts', 4462),\n",
       " ('science', 4380),\n",
       " ('pcmasterrace', 4327),\n",
       " ('hailcorporate', 4263),\n",
       " ('movies', 4061),\n",
       " ('soccer', 3917),\n",
       " ('nfl', 3682),\n",
       " ('technology', 3663),\n",
       " ('outoftheloop', 3596),\n",
       " ('fitnesscirclejerk', 3447),\n",
       " ('mildlyinteresting', 3412),\n",
       " ('dogecoin', 3376),\n",
       " ('anarcho_capitalism', 3304),\n",
       " ('tifu', 3264),\n",
       " ('sandersforpresident', 3231),\n",
       " ('badphilosophy', 3168),\n",
       " ('legaladvice', 3118),\n",
       " ('atheism', 3100),\n",
       " ('hockey', 3093),\n",
       " ('aww', 3002),\n",
       " ('dota2', 2984)]"
      ]
     },
     "execution_count": 41,
     "metadata": {},
     "output_type": "execute_result"
    }
   ],
   "source": [
    "Counter(dict(G_combined.degree)).most_common()[:50]"
   ]
  },
  {
   "cell_type": "markdown",
   "metadata": {},
   "source": [
    "### And the most common nodes in the graph by in-degree..."
   ]
  },
  {
   "cell_type": "code",
   "execution_count": 42,
   "metadata": {
    "scrolled": true
   },
   "outputs": [
    {
     "data": {
      "text/plain": [
       "[('askreddit', 24295),\n",
       " ('pics', 11728),\n",
       " ('iama', 11624),\n",
       " ('todayilearned', 10292),\n",
       " ('funny', 10201),\n",
       " ('videos', 9216),\n",
       " ('worldnews', 8901),\n",
       " ('news', 7005),\n",
       " ('gaming', 5584),\n",
       " ('politics', 5511),\n",
       " ('adviceanimals', 5193),\n",
       " ('wtf', 5096),\n",
       " ('gifs', 5012),\n",
       " ('writingprompts', 4709),\n",
       " ('science', 4233),\n",
       " ('the_donald', 4014),\n",
       " ('showerthoughts', 3990),\n",
       " ('leagueoflegends', 3883),\n",
       " ('explainlikeimfive', 3556),\n",
       " ('movies', 3550),\n",
       " ('conspiracy', 3549),\n",
       " ('bitcoin', 3507),\n",
       " ('pcmasterrace', 3303),\n",
       " ('technology', 3210),\n",
       " ('mildlyinteresting', 3206),\n",
       " ('subredditdrama', 3167),\n",
       " ('soccer', 3160),\n",
       " ('tifu', 3020),\n",
       " ('nfl', 2869),\n",
       " ('aww', 2814),\n",
       " ('relationships', 2486),\n",
       " ('sandersforpresident', 2417),\n",
       " ('hockey', 2374),\n",
       " ('nba', 2371),\n",
       " ('europe', 2317),\n",
       " ('dota2', 2169),\n",
       " ('atheism', 2138),\n",
       " ('legaladvice', 2118),\n",
       " ('android', 2095),\n",
       " ('music', 2087),\n",
       " ('books', 2073),\n",
       " ('askhistorians', 2044),\n",
       " ('jokes', 2000),\n",
       " ('twoxchromosomes', 1980),\n",
       " ('kotakuinaction', 1967),\n",
       " ('dogecoin', 1921),\n",
       " ('games', 1891),\n",
       " ('globaloffensive', 1844),\n",
       " ('dataisbeautiful', 1835),\n",
       " ('futurology', 1833)]"
      ]
     },
     "execution_count": 42,
     "metadata": {},
     "output_type": "execute_result"
    }
   ],
   "source": [
    "Counter(dict(G_combined.in_degree)).most_common()[:50]"
   ]
  },
  {
   "cell_type": "code",
   "execution_count": 43,
   "metadata": {},
   "outputs": [],
   "source": [
    "top_50_seen_in_walks = dict(all_nodes_seen_counter.most_common()[:50])\n",
    "top_50_seen_in_walks_set = set(x for x in top_50_seen_in_walks)\n",
    "\n",
    "top_50_by_degree = dict(Counter(dict(G_combined.degree)).most_common()[:50])\n",
    "top_50_by_degree_set = set(x for x in top_50_by_degree)\n",
    "\n",
    "top_50_by_in_degree = dict(Counter(dict(G_combined.in_degree)).most_common()[:50])\n",
    "top_50_by_in_degree_set = set(x for x in top_50_by_in_degree)"
   ]
  },
  {
   "cell_type": "markdown",
   "metadata": {},
   "source": [
    "## Seen in random walks, but not in the top number as far as in-degree"
   ]
  },
  {
   "cell_type": "code",
   "execution_count": 44,
   "metadata": {
    "scrolled": true
   },
   "outputs": [
    {
     "data": {
      "text/plain": [
       "[('judgedvideogames', 2495),\n",
       " ('allgamersunited', 2493),\n",
       " ('beachboys', 1953),\n",
       " ('thebeachboys', 1951),\n",
       " ('hazardops', 1483),\n",
       " ('zmr', 1482),\n",
       " ('battlefleetgothic', 1476),\n",
       " ('bfgarmada', 1476),\n",
       " ('reenactors', 1002),\n",
       " ('hadosacademy', 1001),\n",
       " ('herorp', 1000),\n",
       " ('cwreenactors', 1000),\n",
       " ('nostalriusauction', 999),\n",
       " ('kronosauction', 998),\n",
       " ('pensacolabeer', 995),\n",
       " ('emeraldcoastbeer', 994),\n",
       " ('bothell', 990),\n",
       " ('lynnwoodwa', 990),\n",
       " ('mpos', 988),\n",
       " ('modelwestdistrict', 988),\n",
       " ('colosseumtournament', 982),\n",
       " ('apotheosisvillage', 981),\n",
       " ('girlsinyogapants', 951),\n",
       " ('yogapants', 949),\n",
       " ('demohoi4', 943),\n",
       " ('demohoi4legislature', 943)]"
      ]
     },
     "execution_count": 44,
     "metadata": {},
     "output_type": "execute_result"
    }
   ],
   "source": [
    "walks_but_not_in_degree = sorted([(x, top_50_seen_in_walks[x]) for x in top_50_seen_in_walks_set - top_50_by_in_degree_set], key=lambda x: x[1], reverse=True)\n",
    "walks_but_not_in_degree"
   ]
  },
  {
   "cell_type": "markdown",
   "metadata": {},
   "source": [
    "## Seen in top in-degree, but not seen as much in random walks"
   ]
  },
  {
   "cell_type": "code",
   "execution_count": 45,
   "metadata": {
    "scrolled": true
   },
   "outputs": [
    {
     "data": {
      "text/plain": [
       "[('writingprompts', 4709),\n",
       " ('explainlikeimfive', 3556),\n",
       " ('conspiracy', 3549),\n",
       " ('subredditdrama', 3167),\n",
       " ('soccer', 3160),\n",
       " ('tifu', 3020),\n",
       " ('nfl', 2869),\n",
       " ('aww', 2814),\n",
       " ('relationships', 2486),\n",
       " ('sandersforpresident', 2417),\n",
       " ('hockey', 2374),\n",
       " ('nba', 2371),\n",
       " ('europe', 2317),\n",
       " ('dota2', 2169),\n",
       " ('atheism', 2138),\n",
       " ('legaladvice', 2118),\n",
       " ('android', 2095),\n",
       " ('askhistorians', 2044),\n",
       " ('jokes', 2000),\n",
       " ('twoxchromosomes', 1980),\n",
       " ('kotakuinaction', 1967),\n",
       " ('dogecoin', 1921),\n",
       " ('games', 1891),\n",
       " ('globaloffensive', 1844),\n",
       " ('dataisbeautiful', 1835),\n",
       " ('futurology', 1833)]"
      ]
     },
     "execution_count": 45,
     "metadata": {},
     "output_type": "execute_result"
    }
   ],
   "source": [
    "in_degree_but_not_walks = sorted([(x, top_50_by_in_degree[x]) for x in top_50_by_in_degree_set - top_50_seen_in_walks_set], key=lambda x: x[1], reverse=True)\n",
    "in_degree_but_not_walks"
   ]
  },
  {
   "cell_type": "markdown",
   "metadata": {},
   "source": [
    "# Why would we see something in a walk if it doesn't have one of the highest in-degrees?\n",
    "Let's try to compare the nodes that were seen in walks but weren't in the top in-degree, vs the ones that were in the top in-degree but weren't seen in walks..."
   ]
  },
  {
   "cell_type": "code",
   "execution_count": 46,
   "metadata": {},
   "outputs": [],
   "source": [
    "degree_centrality = nx.centrality.degree_centrality(G_combined)"
   ]
  },
  {
   "cell_type": "code",
   "execution_count": 47,
   "metadata": {
    "scrolled": true
   },
   "outputs": [
    {
     "data": {
      "text/plain": [
       "[0.00011908483305794966,\n",
       " 2.9771208264487416e-05,\n",
       " 4.4656812396731125e-05,\n",
       " 2.9771208264487416e-05,\n",
       " 4.4656812396731125e-05,\n",
       " 7.442802066121854e-05,\n",
       " 0.00010419922892570596,\n",
       " 7.442802066121854e-05,\n",
       " 2.9771208264487416e-05,\n",
       " 2.9771208264487416e-05,\n",
       " 4.4656812396731125e-05,\n",
       " 2.9771208264487416e-05,\n",
       " 5.954241652897483e-05,\n",
       " 0.00011908483305794966,\n",
       " 5.954241652897483e-05,\n",
       " 2.9771208264487416e-05,\n",
       " 5.954241652897483e-05,\n",
       " 0.00013397043719019338,\n",
       " 0.0001786272495869245,\n",
       " 5.954241652897483e-05,\n",
       " 0.0005805385611575046,\n",
       " 0.0005358817487607735,\n",
       " 0.00020839845785141191,\n",
       " 5.954241652897483e-05,\n",
       " 0.00020839845785141191,\n",
       " 0.00013397043719019338]"
      ]
     },
     "execution_count": 47,
     "metadata": {},
     "output_type": "execute_result"
    }
   ],
   "source": [
    "walks_not_degree_centrality = [degree_centrality[node[0]] for node in walks_but_not_in_degree]\n",
    "walks_not_degree_centrality"
   ]
  },
  {
   "cell_type": "code",
   "execution_count": 48,
   "metadata": {
    "scrolled": true
   },
   "outputs": [
    {
     "data": {
      "text/plain": [
       "[0.09550603611247563,\n",
       " 0.06765507078104765,\n",
       " 0.09371976361660639,\n",
       " 0.3963292100209887,\n",
       " 0.058306911385998604,\n",
       " 0.04858661188764346,\n",
       " 0.054808794414921334,\n",
       " 0.04468658360499561,\n",
       " 0.042007174861191744,\n",
       " 0.04809538695127942,\n",
       " 0.04604117358102979,\n",
       " 0.041917861236398284,\n",
       " 0.040354872802512695,\n",
       " 0.04441864273061522,\n",
       " 0.046145372809955496,\n",
       " 0.046413313684335884,\n",
       " 0.042141145298381935,\n",
       " 0.04130755146697629,\n",
       " 0.0314681671355632,\n",
       " 0.03313535479837449,\n",
       " 0.033433066881019366,\n",
       " 0.05025379955045476,\n",
       " 0.041828547611604816,\n",
       " 0.03542773783474003,\n",
       " 0.029220440911594397,\n",
       " 0.030545259679364088]"
      ]
     },
     "execution_count": 48,
     "metadata": {},
     "output_type": "execute_result"
    }
   ],
   "source": [
    "degree_not_walks_centrality = [degree_centrality[node[0]] for node in in_degree_but_not_walks]\n",
    "degree_not_walks_centrality"
   ]
  },
  {
   "cell_type": "code",
   "execution_count": 49,
   "metadata": {},
   "outputs": [
    {
     "name": "stdout",
     "output_type": "stream",
     "text": [
      "0.00011851230982209415 - 0.06091360967884881\n"
     ]
    }
   ],
   "source": [
    "print(np.mean(walks_not_degree_centrality), \"-\", np.mean(degree_not_walks_centrality))"
   ]
  },
  {
   "cell_type": "code",
   "execution_count": 50,
   "metadata": {},
   "outputs": [],
   "source": [
    "# PageRank isn't implemented for Multigraph, so I'm going to use the weighted graph instead\n",
    "pr_combined = nx.pagerank(G_weighted)"
   ]
  },
  {
   "cell_type": "code",
   "execution_count": 51,
   "metadata": {
    "scrolled": true
   },
   "outputs": [
    {
     "data": {
      "text/plain": [
       "[3.7267404895373625e-05,\n",
       " 3.17550527872665e-05,\n",
       " 2.7437106129397258e-05,\n",
       " 2.321074000554559e-05,\n",
       " 3.2404718549010206e-05,\n",
       " 2.9845726576099853e-05,\n",
       " 3.066488408713259e-05,\n",
       " 2.8164831128089803e-05,\n",
       " 1.887080881712378e-05,\n",
       " 2.9061545659968637e-05,\n",
       " 2.4337468138173528e-05,\n",
       " 1.887080881712378e-05,\n",
       " 2.3985845202609125e-05,\n",
       " 2.2862228939403946e-05,\n",
       " 3.1999310880707993e-05,\n",
       " 2.863310298964113e-05,\n",
       " 4.172032864246557e-05,\n",
       " 3.963981435137649e-05,\n",
       " 5.191607630284086e-05,\n",
       " 6.721772487376994e-05,\n",
       " 2.43276416164118e-05,\n",
       " 2.1710481327638632e-05,\n",
       " 4.2553596522798806e-05,\n",
       " 3.6038831325306537e-05,\n",
       " 2.6507195017876446e-05,\n",
       " 2.34484382547919e-05]"
      ]
     },
     "execution_count": 51,
     "metadata": {},
     "output_type": "execute_result"
    }
   ],
   "source": [
    "[pr_combined[node[0]] for node in walks_but_not_in_degree]"
   ]
  },
  {
   "cell_type": "code",
   "execution_count": 52,
   "metadata": {
    "scrolled": true
   },
   "outputs": [
    {
     "data": {
      "text/plain": [
       "[0.003362169301335374,\n",
       " 0.0028634623832554155,\n",
       " 0.002868452369202237,\n",
       " 0.001300987012636854,\n",
       " 0.0021187276171126712,\n",
       " 0.0026066042292822783,\n",
       " 0.0015158812595928838,\n",
       " 0.003101836981762116,\n",
       " 0.0019764278164557916,\n",
       " 0.002549120086060076,\n",
       " 0.0012841686051973619,\n",
       " 0.0013307351937942747,\n",
       " 0.0014621924346021878,\n",
       " 0.0018233220725406844,\n",
       " 0.000915050688127471,\n",
       " 0.001328901889796522,\n",
       " 0.00173699844121115,\n",
       " 0.0021625987952451258,\n",
       " 0.0011937067903165946,\n",
       " 0.00118333207278291,\n",
       " 0.0006496555337853127,\n",
       " 0.0016755966165244913,\n",
       " 0.0020320776044205737,\n",
       " 0.0017891147737057417,\n",
       " 0.0016730420533843104,\n",
       " 0.0016170163853709931]"
      ]
     },
     "execution_count": 52,
     "metadata": {},
     "output_type": "execute_result"
    }
   ],
   "source": [
    "[pr_combined[node[0]] for node in in_degree_but_not_walks]"
   ]
  },
  {
   "cell_type": "markdown",
   "metadata": {},
   "source": [
    "## By all measures, it looks like we shouldn't have seen the random_walk_but_not_in_degree nodes... Let's take a look at some of them."
   ]
  },
  {
   "cell_type": "code",
   "execution_count": 53,
   "metadata": {},
   "outputs": [
    {
     "name": "stdout",
     "output_type": "stream",
     "text": [
      "{'beachboys': {0: {}}}\n"
     ]
    }
   ],
   "source": [
    "print(G_combined[\"thebeachboys\"])"
   ]
  },
  {
   "cell_type": "code",
   "execution_count": 54,
   "metadata": {},
   "outputs": [
    {
     "name": "stdout",
     "output_type": "stream",
     "text": [
      "{'thebeachboys': {0: {}}}\n"
     ]
    }
   ],
   "source": [
    "print(G_combined[\"beachboys\"])"
   ]
  },
  {
   "cell_type": "markdown",
   "metadata": {},
   "source": [
    "Ahhhhhh...you know what, I wonder if these are some of the 2-cycles that we found. We randomly got placed in them and then just went back and forth..."
   ]
  },
  {
   "cell_type": "code",
   "execution_count": 55,
   "metadata": {},
   "outputs": [],
   "source": [
    "walk = RandomWalk(G_weighted, current_node=\"beachboys\")\n",
    "for i in range(1000):\n",
    "    walk.walk()"
   ]
  },
  {
   "cell_type": "code",
   "execution_count": 56,
   "metadata": {},
   "outputs": [
    {
     "data": {
      "text/plain": [
       "defaultdict(int, {'beachboys': 501, 'thebeachboys': 500})"
      ]
     },
     "execution_count": 56,
     "metadata": {},
     "output_type": "execute_result"
    }
   ],
   "source": [
    "walk.nodes_seen"
   ]
  },
  {
   "cell_type": "markdown",
   "metadata": {},
   "source": [
    "That seems to explain that.\n",
    "\n",
    "But what about the ones that have over 1000? We only took 1000 steps, so something else has to be going on there.\n",
    "\n",
    "```\n",
    "[('emeraldcoastbeer', 1976),\n",
    " ('pensacolabeer', 1975),\n",
    " ('mpos', 1497),\n",
    " ('modelwestdistrict', 1496),\n",
    " ('allgamersunited', 1495),\n",
    " ('judgedvideogames', 1495),\n",
    " ('bloomingtonnormal', 1490),\n",
    " ('blono', 1489),\n",
    " ```"
   ]
  },
  {
   "cell_type": "code",
   "execution_count": 57,
   "metadata": {},
   "outputs": [
    {
     "name": "stdout",
     "output_type": "stream",
     "text": [
      "{'pensacolabeer': {0: {}}}\n"
     ]
    }
   ],
   "source": [
    "print(G_combined['emeraldcoastbeer'])"
   ]
  },
  {
   "cell_type": "code",
   "execution_count": 58,
   "metadata": {},
   "outputs": [
    {
     "name": "stdout",
     "output_type": "stream",
     "text": [
      "{'emeraldcoastbeer': {0: {}}}\n"
     ]
    }
   ],
   "source": [
    "print(G_combined['pensacolabeer'])"
   ]
  },
  {
   "cell_type": "markdown",
   "metadata": {},
   "source": [
    "Perhaps we randomly selected it twice! I think that's plausible. What about the ones that are in the middle, ~1400?"
   ]
  },
  {
   "cell_type": "code",
   "execution_count": 59,
   "metadata": {},
   "outputs": [
    {
     "name": "stdout",
     "output_type": "stream",
     "text": [
      "{'modelwestdistrict': {0: {}}}\n"
     ]
    }
   ],
   "source": [
    "print(G_combined['mpos'])"
   ]
  },
  {
   "cell_type": "code",
   "execution_count": 60,
   "metadata": {},
   "outputs": [
    {
     "name": "stdout",
     "output_type": "stream",
     "text": [
      "{'mpos': {0: {}, 1: {}}}\n"
     ]
    }
   ],
   "source": [
    "print(G_combined['modelwestdistrict'])"
   ]
  },
  {
   "cell_type": "code",
   "execution_count": 61,
   "metadata": {},
   "outputs": [
    {
     "name": "stdout",
     "output_type": "stream",
     "text": [
      "{'judgedvideogames': {0: {}}}\n"
     ]
    }
   ],
   "source": [
    "print(G_combined['allgamersunited'])"
   ]
  },
  {
   "cell_type": "code",
   "execution_count": 62,
   "metadata": {},
   "outputs": [
    {
     "name": "stdout",
     "output_type": "stream",
     "text": [
      "{'allgamersunited': {0: {}}}\n"
     ]
    }
   ],
   "source": [
    "print(G_combined['judgedvideogames'])"
   ]
  },
  {
   "cell_type": "markdown",
   "metadata": {},
   "source": [
    "Hmm. Honestly not sure what's going on there."
   ]
  }
 ],
 "metadata": {
  "kernelspec": {
   "display_name": "Python 3",
   "language": "python",
   "name": "python3"
  },
  "language_info": {
   "codemirror_mode": {
    "name": "ipython",
    "version": 3
   },
   "file_extension": ".py",
   "mimetype": "text/x-python",
   "name": "python",
   "nbconvert_exporter": "python",
   "pygments_lexer": "ipython3",
   "version": "3.7.4"
  }
 },
 "nbformat": 4,
 "nbformat_minor": 2
}
