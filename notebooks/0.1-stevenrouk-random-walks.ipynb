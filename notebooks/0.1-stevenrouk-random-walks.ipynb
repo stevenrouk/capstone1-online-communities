{
 "cells": [
  {
   "cell_type": "code",
   "execution_count": 1,
   "metadata": {},
   "outputs": [],
   "source": [
    "%load_ext autoreload\n",
    "%autoreload 2"
   ]
  },
  {
   "cell_type": "code",
   "execution_count": 2,
   "metadata": {},
   "outputs": [],
   "source": [
    "# Modifying the path so we can import from src directory.\n",
    "import sys\n",
    "import os\n",
    "sys.path.append(os.path.abspath('..'))\n",
    "\n",
    "from collections import Counter, defaultdict\n",
    "from itertools import chain\n",
    "import copy\n",
    "import pickle\n",
    "import random\n",
    "import time\n",
    "\n",
    "import numpy as np\n",
    "import pandas as pd\n",
    "import networkx as nx\n",
    "import matplotlib.pyplot as plt\n",
    "import seaborn as sns\n",
    "plt.style.use('ggplot')\n",
    "from pyvis.network import Network\n",
    "\n",
    "from src.example_graphs import simple_undirected_graph, simple_directed_graph\n",
    "from src.UndirectedGraph import UndirectedGraph\n",
    "from src.DirectedGraph import DirectedGraph\n",
    "from src.DataLoader import DataLoader\n",
    "from src.GraphCreator import GraphCreator, NetworkXGraphCreator\n",
    "\n",
    "from src.io_helpers import pickle_obj, load_pickled_obj\n",
    "from src.networkx_helpers import combine_graphs\n",
    "from src.networkx_multigraph_helpers import (get_edge_attrs, aggregate_numeric_properties,\n",
    "                                             sum_numeric_properties, count_edges)"
   ]
  },
  {
   "cell_type": "code",
   "execution_count": 3,
   "metadata": {},
   "outputs": [],
   "source": [
    "ROOT_DIRECTORY = os.path.split(os.getcwd())[0]\n",
    "DATA_DIRECTORY = os.path.join(ROOT_DIRECTORY, 'data')\n",
    "PICKLED_DATA_DIRECTORY = os.path.join(ROOT_DIRECTORY, 'data_pickle')"
   ]
  },
  {
   "cell_type": "markdown",
   "metadata": {},
   "source": [
    "## Load our data"
   ]
  },
  {
   "cell_type": "code",
   "execution_count": 4,
   "metadata": {},
   "outputs": [],
   "source": [
    "G_weighted = load_pickled_obj(os.path.join(PICKLED_DATA_DIRECTORY, 'networkx_weighted_full.pickle'))"
   ]
  },
  {
   "cell_type": "markdown",
   "metadata": {},
   "source": [
    "# If you Went on a Random Walk...Where Would You End Up?\n",
    "https://stackoverflow.com/questions/37311651/get-node-list-from-random-walk-in-networkx (A resource that I haven't read yet. You can probably do this using matrix multiplication.)\n",
    "\n",
    "## Let's start with a subset of the graph again"
   ]
  },
  {
   "cell_type": "code",
   "execution_count": 5,
   "metadata": {},
   "outputs": [],
   "source": [
    "G_weighted_subset = G_weighted.edge_subgraph(G_weighted.edges('vegan'))"
   ]
  },
  {
   "cell_type": "code",
   "execution_count": 6,
   "metadata": {},
   "outputs": [],
   "source": [
    "def random_node(graph):\n",
    "    nodes = list(graph.nodes)\n",
    "    \n",
    "    return random.choice(nodes)"
   ]
  },
  {
   "cell_type": "code",
   "execution_count": null,
   "metadata": {},
   "outputs": [],
   "source": [
    "class RandomWalk:\n",
    "    \n",
    "    def __init__(self, graph, current_node=None, silent=True):\n",
    "        self.steps_taken = 0\n",
    "        self.blocked = False\n",
    "        self.graph = graph\n",
    "        if current_node:\n",
    "            self.current_node = current_node\n",
    "        else:\n",
    "            self.current_node = random_node(self.graph)\n",
    "        self.nodes_seen = defaultdict(int)\n",
    "        self.nodes_seen[self.current_node] += 1\n",
    "        self.silent = silent\n",
    "    \n",
    "    def walk(self):\n",
    "        if self.blocked:\n",
    "            if not self.silent:\n",
    "                print(\"Can't take any more steps.\")\n",
    "        else:\n",
    "            neighbor_nodes = []\n",
    "            for neighbor in self.graph.adj[self.current_node]:\n",
    "                neighbor_weight = self.graph.adj[self.current_node][neighbor]['weight']\n",
    "                neighbor_nodes.extend([neighbor] * neighbor_weight)\n",
    "            if neighbor_nodes:\n",
    "                next_node = random.choice(neighbor_nodes)\n",
    "                self.current_node = next_node\n",
    "                self.nodes_seen[self.current_node] += 1\n",
    "                self.steps_taken += 1\n",
    "            else:\n",
    "                self.blocked = True\n",
    "                if not self.silent:\n",
    "                    print(\"Can't take any more steps.\")\n",
    "    \n",
    "    def delete_graph(self):\n",
    "        \"\"\"Method to delete the graph so we aren't using a bunch of memory.\"\"\"\n",
    "        self.graph = None"
   ]
  },
  {
   "cell_type": "markdown",
   "metadata": {},
   "source": [
    "## Increasing Efficiency of RandomWalk class\n",
    "Our RandomWalk walk was slowing down significantly, and I discovered that it was because we were storing a full copy of the graph inside of every instance of the RandomWalk class. With the graph size we were dealing with, this added up very quickly and probably locked down all the computer's memory."
   ]
  },
  {
   "cell_type": "code",
   "execution_count": 7,
   "metadata": {},
   "outputs": [
    {
     "ename": "ModuleNotFoundError",
     "evalue": "No module named 'src.os_helpers'",
     "output_type": "error",
     "traceback": [
      "\u001b[0;31m-------------------------------------------------------------------------\u001b[0m",
      "\u001b[0;31mModuleNotFoundError\u001b[0m                     Traceback (most recent call last)",
      "\u001b[0;32m<ipython-input-7-e7f8ee1b5c52>\u001b[0m in \u001b[0;36m<module>\u001b[0;34m\u001b[0m\n\u001b[0;32m----> 1\u001b[0;31m \u001b[0;32mfrom\u001b[0m \u001b[0msrc\u001b[0m\u001b[0;34m.\u001b[0m\u001b[0mos_helpers\u001b[0m \u001b[0;32mimport\u001b[0m \u001b[0mgetsize\u001b[0m\u001b[0;34m\u001b[0m\u001b[0;34m\u001b[0m\u001b[0m\n\u001b[0m",
      "\u001b[0;31mModuleNotFoundError\u001b[0m: No module named 'src.os_helpers'"
     ]
    }
   ],
   "source": [
    "from src.os_helpers import getsize"
   ]
  },
  {
   "cell_type": "code",
   "execution_count": null,
   "metadata": {},
   "outputs": [],
   "source": [
    "walk1 = RandomWalk(G_weighted)"
   ]
  },
  {
   "cell_type": "code",
   "execution_count": null,
   "metadata": {},
   "outputs": [],
   "source": [
    "for i in range(100):\n",
    "    walk1.walk()\n",
    "    if walk1.blocked:\n",
    "        break"
   ]
  },
  {
   "cell_type": "code",
   "execution_count": null,
   "metadata": {},
   "outputs": [],
   "source": [
    "print(walk1.steps_taken)\n",
    "print(Counter(walk1.nodes_seen).most_common())"
   ]
  },
  {
   "cell_type": "code",
   "execution_count": null,
   "metadata": {},
   "outputs": [],
   "source": [
    "print(getsize(walk1))"
   ]
  },
  {
   "cell_type": "code",
   "execution_count": null,
   "metadata": {},
   "outputs": [],
   "source": [
    "walk1.delete_graph()"
   ]
  },
  {
   "cell_type": "code",
   "execution_count": null,
   "metadata": {},
   "outputs": [],
   "source": [
    "getsize(walk1)"
   ]
  },
  {
   "cell_type": "code",
   "execution_count": null,
   "metadata": {},
   "outputs": [],
   "source": [
    "walk2 = RandomWalk(G_weighted)\n",
    "for i in range(100):\n",
    "    walk2.walk()\n",
    "    if walk2.blocked:\n",
    "        break"
   ]
  },
  {
   "cell_type": "code",
   "execution_count": null,
   "metadata": {},
   "outputs": [],
   "source": [
    "print(walk2.steps_taken)\n",
    "print(Counter(walk2.nodes_seen).most_common())"
   ]
  },
  {
   "cell_type": "code",
   "execution_count": null,
   "metadata": {},
   "outputs": [],
   "source": [
    "getsize(walk2)"
   ]
  },
  {
   "cell_type": "code",
   "execution_count": null,
   "metadata": {},
   "outputs": [],
   "source": [
    "walk2.delete_graph()"
   ]
  },
  {
   "cell_type": "code",
   "execution_count": null,
   "metadata": {},
   "outputs": [],
   "source": [
    "getsize(walk2)"
   ]
  },
  {
   "cell_type": "code",
   "execution_count": null,
   "metadata": {},
   "outputs": [],
   "source": [
    "random_walks = [walk1, walk2]"
   ]
  },
  {
   "cell_type": "code",
   "execution_count": null,
   "metadata": {},
   "outputs": [],
   "source": [
    "getsize(random_walks)"
   ]
  },
  {
   "cell_type": "markdown",
   "metadata": {},
   "source": [
    "## Go on the walks! You can change the i-range here (number of trials) and j-range (max length of the walk before we shut it down)"
   ]
  },
  {
   "cell_type": "code",
   "execution_count": null,
   "metadata": {},
   "outputs": [],
   "source": [
    "for i in range(10000):\n",
    "    walk = RandomWalk(G_weighted)\n",
    "    if i % 100 == 0:\n",
    "        print(i)\n",
    "    for j in range(1000):\n",
    "        walk.walk()\n",
    "        if walk.blocked:\n",
    "            break\n",
    "    walk.delete_graph()\n",
    "    random_walks.append(copy.deepcopy(walk))"
   ]
  },
  {
   "cell_type": "markdown",
   "metadata": {},
   "source": [
    "## Graphing the distribution of steps taken"
   ]
  },
  {
   "cell_type": "code",
   "execution_count": null,
   "metadata": {},
   "outputs": [],
   "source": [
    "# This trial had max of 1000 steps per walk, and 10,000 trials.\n",
    "step_counts = [walk.steps_taken for walk in random_walks]\n",
    "fig = plt.figure(figsize=(12, 6))\n",
    "ax = sns.distplot(step_counts)\n",
    "_ = ax.set_title(\"Histogram of Steps Taken During Random Walks - Max-Steps of 1,000 w/ 10,000 trials\")\n",
    "_ = ax.set_ylabel(\"% of data\")\n",
    "_ = ax.set_xlabel(\"# of steps taken\")"
   ]
  },
  {
   "cell_type": "code",
   "execution_count": null,
   "metadata": {},
   "outputs": [],
   "source": [
    "# These are the step counts from a previous trial.\n",
    "# Max of 100 steps per walk, with 1000 trials.\n",
    "step_counts_100_1000 = [17, 29, 1, 6, 8, 15, 14, 6, 0, 55, 4, 18, 9, 77, 33, 27, 0, 19, 41, 31, 6, 23, 25, 14, 2, 0, 34, 22, 11, 24, 21, 0, 94, 25, 28, 22, 11, 61, 0, 44, 0, 11, 40, 9, 20, 1, 43, 18, 6, 35, 0, 39, 1, 40, 16, 4, 5, 28, 14, 100, 17, 2, 5, 12, 15, 37, 34, 12, 23, 31, 0, 0, 61, 34, 21, 0, 18, 17, 4, 41, 25, 0, 48, 33, 0, 28, 9, 3, 5, 2, 0, 12, 47, 33, 41, 21, 20, 0, 15, 0, 2, 2, 5, 2, 41, 7, 20, 44, 10, 10, 35, 16, 42, 17, 1, 19, 0, 3, 54, 0, 2, 22, 9, 0, 24, 10, 40, 13, 40, 17, 24, 29, 0, 0, 27, 21, 16, 7, 7, 1, 20, 0, 1, 3, 0, 42, 16, 1, 43, 12, 2, 0, 10, 27, 0, 2, 0, 1, 65, 0, 3, 6, 1, 3, 19, 19, 12, 3, 3, 8, 7, 4, 7, 24, 1, 40, 0, 3, 6, 1, 26, 2, 56, 8, 5, 15, 100, 16, 33, 10, 11, 34, 3, 2, 1, 19, 22, 0, 2, 37, 1, 0, 21, 12, 0, 1, 15, 0, 0, 0, 0, 53, 13, 100, 9, 13, 40, 46, 17, 13, 2, 29, 16, 4, 1, 22, 26, 6, 26, 13, 3, 2, 41, 0, 27, 4, 16, 0, 33, 11, 26, 40, 43, 6, 42, 2, 2, 19, 8, 11, 14, 0, 0, 0, 11, 11, 0, 13, 22, 0, 12, 10, 7, 1, 18, 0, 2, 1, 7, 22, 2, 61, 39, 6, 45, 5, 5, 0, 7, 9, 23, 9, 4, 4, 25, 69, 0, 1, 14, 4, 5, 4, 4, 0, 22, 13, 0, 45, 9, 22, 1, 13, 68, 1, 6, 20, 0, 12, 24, 0, 30, 2, 18, 1, 7, 57, 0, 10, 15, 0, 7, 27, 8, 0, 20, 5, 5, 6, 10, 21, 16, 13, 12, 21, 1, 0, 2, 6, 25, 10, 8, 19, 0, 83, 28, 13, 5, 0, 3, 0, 40, 27, 63, 1, 11, 8, 22, 23, 1, 4, 2, 0, 0, 19, 1, 3, 24, 19, 0, 10, 9, 10, 5, 3, 18, 16, 1, 0, 22, 0, 74, 8, 21, 45, 40, 0, 55, 16, 28, 6, 62, 10, 12, 9, 4, 6, 6, 0, 15, 15, 0, 39, 1, 100, 43, 10, 36, 0, 18, 12, 3, 27, 57, 3, 0, 4, 2, 28, 24, 49, 2, 0, 15, 19, 34, 7, 0, 10, 40, 8, 20, 1, 19, 19, 17, 0, 57, 8, 19, 22, 30, 0, 10, 2, 2, 7, 5, 26, 6, 58, 23, 3, 16, 0, 3, 46, 3, 40, 3, 6, 31, 33, 52, 4, 5, 13, 0, 20, 5, 13, 22, 23, 0, 46, 73, 28, 1, 53, 10, 11, 10, 12, 13, 100, 21, 61, 0, 0, 0, 0, 8, 24, 1, 15, 16, 22, 6, 14, 8, 6, 3, 44, 15, 7, 25, 0, 9, 5, 0, 7, 15, 3, 22, 6, 16, 36, 6, 26, 12, 55, 0, 29, 5, 23, 2, 4, 8, 51, 84, 31, 1, 21, 17, 60, 52, 46, 5, 10, 0, 62, 24, 38, 13, 100, 4, 53, 16, 33, 9, 10, 29, 0, 3, 24, 64, 10, 4, 18, 6, 0, 11, 0, 46, 4, 36, 0, 3, 2, 6, 17, 3, 0, 23, 5, 3, 0, 25, 61, 9, 19, 8, 1, 17, 24, 1, 0, 10, 0, 0, 30, 45, 12, 2, 38, 15, 0, 0, 18, 46, 0, 0, 27, 32, 35, 9, 0, 11, 46, 6, 79, 5, 3, 59, 17, 73, 19, 2, 25, 13, 47, 4, 21, 20, 0, 14, 4, 100, 75, 0, 0, 63, 89, 25, 12, 15, 22, 15, 2, 14, 0, 55, 40, 42, 1, 64, 3, 0, 13, 38, 5, 0, 4, 0, 1, 0, 3, 3, 0, 10, 0, 22, 39, 7, 9, 6, 79, 7, 16, 9, 0, 7, 54, 0, 6, 3, 15, 17, 37, 10, 1, 12, 45, 100, 0, 34, 6, 7, 13, 28, 0, 19, 65, 59, 0, 2, 28, 35, 18, 45, 26, 2, 1, 2, 15, 7, 6, 10, 3, 17, 0, 45, 0, 16, 1, 21, 49, 77, 13, 27, 25, 11, 0, 42, 0, 9, 0, 1, 0, 60, 4, 61, 19, 17, 6, 9, 23, 5, 0, 2, 100, 29, 5, 0, 2, 13, 14, 31, 44, 12, 24, 12, 66, 51, 10, 68, 7, 2, 1, 9, 9, 55, 9, 17, 9, 0, 7, 3, 15, 13, 5, 12, 0, 0, 12, 0, 26, 2, 2, 0, 0, 21, 4, 0, 12, 97, 5, 58, 0, 1, 37, 21, 39, 28, 43, 42, 13, 0, 5, 6, 63, 0, 26, 0, 7, 10, 0, 17, 23, 13, 1, 19, 0, 23, 22, 2, 2, 3, 11, 13, 8, 33, 38, 1, 22, 12, 42, 0, 11, 0, 0, 7, 0, 12, 1, 0, 1, 10, 84, 43, 12, 9, 14, 95, 14, 30, 4, 43, 3, 24, 16, 15, 0, 7, 6, 10, 25, 2, 71, 6, 1, 13, 59, 7, 50, 51, 32, 0, 0, 17, 1, 0, 1, 30, 3, 1, 34, 8, 24, 31, 46, 0, 23, 33, 1, 1, 3, 52, 9, 2, 43, 21, 32, 4, 51, 2, 22, 53, 11, 18, 59, 48, 24, 10, 2, 22, 23, 8, 23, 7, 55, 0, 4, 36, 16, 11, 29, 0, 12, 41, 14, 34, 48, 5, 63, 27, 0, 2, 16, 0, 100, 1, 1, 11, 0, 0, 26, 57, 0, 6, 68, 0, 21, 0, 0, 20, 89, 4, 5, 44, 24, 4, 3, 4, 0, 6, 13, 100, 0, 0, 8, 9, 0, 45, 2, 19, 2, 41, 95, 17, 81, 13, 0, 18, 29, 12, 3, 13, 72, 0, 8, 13, 3, 1, 56, 87, 12, 37, 4, 15, 44, 28, 0, 14, 0, 19, 1, 18, 29, 0, 29, 40, 8]"
   ]
  },
  {
   "cell_type": "code",
   "execution_count": null,
   "metadata": {},
   "outputs": [],
   "source": [
    "fig = plt.figure(figsize=(12, 6))\n",
    "ax = sns.distplot(step_counts_100_1000)\n",
    "_ = ax.set_title(\"Histogram of Steps Taken During Random Walks - Max-Steps of 100 w/ 1,000 trials\")\n",
    "_ = ax.set_ylabel(\"% of data\")\n",
    "_ = ax.set_xlabel(\"# of steps taken\")"
   ]
  },
  {
   "cell_type": "markdown",
   "metadata": {},
   "source": [
    "## What were the most common nodes seen?"
   ]
  },
  {
   "cell_type": "code",
   "execution_count": null,
   "metadata": {},
   "outputs": [],
   "source": [
    "for k, v in random_walks[0].nodes_seen.items():\n",
    "    print(k, v)"
   ]
  },
  {
   "cell_type": "code",
   "execution_count": null,
   "metadata": {},
   "outputs": [],
   "source": [
    "all_nodes_seen = defaultdict(int)\n",
    "for walk in random_walks:\n",
    "    for node, seen_count in walk.nodes_seen.items():\n",
    "        all_nodes_seen[node] += seen_count"
   ]
  },
  {
   "cell_type": "code",
   "execution_count": null,
   "metadata": {},
   "outputs": [],
   "source": [
    "len(all_nodes_seen)"
   ]
  },
  {
   "cell_type": "code",
   "execution_count": null,
   "metadata": {},
   "outputs": [],
   "source": [
    "all_nodes_seen_counter = Counter(all_nodes_seen)"
   ]
  },
  {
   "cell_type": "markdown",
   "metadata": {},
   "source": [
    "### Most common nodes seen on walks..."
   ]
  },
  {
   "cell_type": "code",
   "execution_count": null,
   "metadata": {},
   "outputs": [],
   "source": [
    "all_nodes_seen_counter.most_common()[:50]"
   ]
  },
  {
   "cell_type": "markdown",
   "metadata": {},
   "source": [
    "### In contrast, the most common nodes in the dataset by degree..."
   ]
  },
  {
   "cell_type": "code",
   "execution_count": null,
   "metadata": {},
   "outputs": [],
   "source": [
    "Counter(dict(G_combined.degree)).most_common()[:50]"
   ]
  },
  {
   "cell_type": "markdown",
   "metadata": {},
   "source": [
    "### And the most common nodes in the graph by in-degree..."
   ]
  },
  {
   "cell_type": "code",
   "execution_count": null,
   "metadata": {},
   "outputs": [],
   "source": [
    "Counter(dict(G_combined.in_degree)).most_common()[:50]"
   ]
  },
  {
   "cell_type": "code",
   "execution_count": null,
   "metadata": {},
   "outputs": [],
   "source": [
    "top_50_seen_in_walks = dict(all_nodes_seen_counter.most_common()[:50])\n",
    "top_50_seen_in_walks_set = set(x for x in top_50_seen_in_walks)\n",
    "\n",
    "top_50_by_degree = dict(Counter(dict(G_combined.degree)).most_common()[:50])\n",
    "top_50_by_degree_set = set(x for x in top_50_by_degree)\n",
    "\n",
    "top_50_by_in_degree = dict(Counter(dict(G_combined.in_degree)).most_common()[:50])\n",
    "top_50_by_in_degree_set = set(x for x in top_50_by_in_degree)"
   ]
  },
  {
   "cell_type": "markdown",
   "metadata": {},
   "source": [
    "## Seen in random walks, but not in the top number as far as in-degree"
   ]
  },
  {
   "cell_type": "code",
   "execution_count": null,
   "metadata": {},
   "outputs": [],
   "source": [
    "walks_but_not_in_degree = sorted([(x, top_50_seen_in_walks[x]) for x in top_50_seen_in_walks_set - top_50_by_in_degree_set], key=lambda x: x[1], reverse=True)\n",
    "walks_but_not_in_degree"
   ]
  },
  {
   "cell_type": "markdown",
   "metadata": {},
   "source": [
    "## Seen in top in-degree, but not seen as much in random walks"
   ]
  },
  {
   "cell_type": "code",
   "execution_count": null,
   "metadata": {},
   "outputs": [],
   "source": [
    "in_degree_but_not_walks = sorted([(x, top_50_by_in_degree[x]) for x in top_50_by_in_degree_set - top_50_seen_in_walks_set], key=lambda x: x[1], reverse=True)\n",
    "in_degree_but_not_walks"
   ]
  },
  {
   "cell_type": "markdown",
   "metadata": {},
   "source": [
    "# Why would we see something in a walk if it doesn't have one of the highest in-degrees?\n",
    "Let's try to compare the nodes that were seen in walks but weren't in the top in-degree, vs the ones that were in the top in-degree but weren't seen in walks..."
   ]
  },
  {
   "cell_type": "code",
   "execution_count": null,
   "metadata": {},
   "outputs": [],
   "source": [
    "degree_centrality = nx.centrality.degree_centrality(G_combined)"
   ]
  },
  {
   "cell_type": "code",
   "execution_count": null,
   "metadata": {},
   "outputs": [],
   "source": [
    "walks_not_degree_centrality = [degree_centrality[node[0]] for node in walks_but_not_in_degree]\n",
    "walks_not_degree_centrality"
   ]
  },
  {
   "cell_type": "code",
   "execution_count": null,
   "metadata": {},
   "outputs": [],
   "source": [
    "degree_not_walks_centrality = [degree_centrality[node[0]] for node in in_degree_but_not_walks]\n",
    "degree_not_walks_centrality"
   ]
  },
  {
   "cell_type": "code",
   "execution_count": null,
   "metadata": {},
   "outputs": [],
   "source": [
    "print(np.mean(walks_not_degree_centrality), \"-\", np.mean(degree_not_walks_centrality))"
   ]
  },
  {
   "cell_type": "code",
   "execution_count": null,
   "metadata": {},
   "outputs": [],
   "source": [
    "# PageRank isn't implemented for Multigraph, so I'm going to use the weighted graph instead\n",
    "pr_combined = nx.pagerank(G_weighted)"
   ]
  },
  {
   "cell_type": "code",
   "execution_count": null,
   "metadata": {},
   "outputs": [],
   "source": [
    "[pr_combined[node[0]] for node in walks_but_not_in_degree]"
   ]
  },
  {
   "cell_type": "code",
   "execution_count": null,
   "metadata": {},
   "outputs": [],
   "source": [
    "[pr_combined[node[0]] for node in in_degree_but_not_walks]"
   ]
  },
  {
   "cell_type": "markdown",
   "metadata": {},
   "source": [
    "## By all measures, it looks like we shouldn't have seen the random_walk_but_not_in_degree nodes... Let's take a look at some of them."
   ]
  },
  {
   "cell_type": "code",
   "execution_count": null,
   "metadata": {},
   "outputs": [],
   "source": [
    "print(G_combined[\"thebeachboys\"])"
   ]
  },
  {
   "cell_type": "code",
   "execution_count": null,
   "metadata": {},
   "outputs": [],
   "source": [
    "print(G_combined[\"beachboys\"])"
   ]
  },
  {
   "cell_type": "markdown",
   "metadata": {},
   "source": [
    "Ahhhhhh...you know what, I wonder if these are some of the 2-cycles that we found. We randomly got placed in them and then just went back and forth..."
   ]
  },
  {
   "cell_type": "code",
   "execution_count": null,
   "metadata": {},
   "outputs": [],
   "source": [
    "walk = RandomWalk(G_weighted, current_node=\"beachboys\")\n",
    "for i in range(1000):\n",
    "    walk.walk()"
   ]
  },
  {
   "cell_type": "code",
   "execution_count": null,
   "metadata": {},
   "outputs": [],
   "source": [
    "walk.nodes_seen"
   ]
  },
  {
   "cell_type": "markdown",
   "metadata": {},
   "source": [
    "That seems to explain that.\n",
    "\n",
    "But what about the ones that have over 1000? We only took 1000 steps, so something else has to be going on there.\n",
    "\n",
    "```\n",
    "[('emeraldcoastbeer', 1976),\n",
    " ('pensacolabeer', 1975),\n",
    " ('mpos', 1497),\n",
    " ('modelwestdistrict', 1496),\n",
    " ('allgamersunited', 1495),\n",
    " ('judgedvideogames', 1495),\n",
    " ('bloomingtonnormal', 1490),\n",
    " ('blono', 1489),\n",
    " ```"
   ]
  },
  {
   "cell_type": "code",
   "execution_count": null,
   "metadata": {},
   "outputs": [],
   "source": [
    "print(G_combined['emeraldcoastbeer'])"
   ]
  },
  {
   "cell_type": "code",
   "execution_count": null,
   "metadata": {},
   "outputs": [],
   "source": [
    "print(G_combined['pensacolabeer'])"
   ]
  },
  {
   "cell_type": "markdown",
   "metadata": {},
   "source": [
    "Perhaps we randomly selected it twice! I think that's plausible. What about the ones that are in the middle, ~1400?"
   ]
  },
  {
   "cell_type": "code",
   "execution_count": null,
   "metadata": {},
   "outputs": [],
   "source": [
    "print(G_combined['mpos'])"
   ]
  },
  {
   "cell_type": "code",
   "execution_count": null,
   "metadata": {},
   "outputs": [],
   "source": [
    "print(G_combined['modelwestdistrict'])"
   ]
  },
  {
   "cell_type": "code",
   "execution_count": null,
   "metadata": {},
   "outputs": [],
   "source": [
    "print(G_combined['allgamersunited'])"
   ]
  },
  {
   "cell_type": "code",
   "execution_count": null,
   "metadata": {},
   "outputs": [],
   "source": [
    "print(G_combined['judgedvideogames'])"
   ]
  },
  {
   "cell_type": "markdown",
   "metadata": {},
   "source": [
    "Hmm. Honestly not sure what's going on there."
   ]
  }
 ],
 "metadata": {
  "kernelspec": {
   "display_name": "Python 3",
   "language": "python",
   "name": "python3"
  },
  "language_info": {
   "codemirror_mode": {
    "name": "ipython",
    "version": 3
   },
   "file_extension": ".py",
   "mimetype": "text/x-python",
   "name": "python",
   "nbconvert_exporter": "python",
   "pygments_lexer": "ipython3",
   "version": "3.7.4"
  }
 },
 "nbformat": 4,
 "nbformat_minor": 2
}
