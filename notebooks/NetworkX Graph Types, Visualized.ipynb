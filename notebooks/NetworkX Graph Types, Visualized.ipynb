{
 "cells": [
  {
   "cell_type": "code",
   "execution_count": 1,
   "metadata": {},
   "outputs": [],
   "source": [
    "# Modifying the path so we can import from src directory.\n",
    "import sys\n",
    "import os\n",
    "sys.path.append(os.path.abspath('..'))\n",
    "\n",
    "import random\n",
    "import numpy as np\n",
    "\n",
    "import networkx as nx\n",
    "from pyvis.network import Network\n",
    "\n",
    "from src.pyvis_helpers import visualize_random_graph"
   ]
  },
  {
   "cell_type": "code",
   "execution_count": 2,
   "metadata": {},
   "outputs": [],
   "source": [
    "GRAPH_IMAGE_DIR = os.path.join(os.path.split(os.getcwd())[0], 'graph_viz_images')"
   ]
  },
  {
   "cell_type": "markdown",
   "metadata": {},
   "source": [
    "```\n",
    "balanced_tree(r, h[, create_using])\tReturns the perfectly balanced r-ary tree of height h.\n",
    "barbell_graph(m1, m2[, create_using])\tReturns the Barbell Graph: two complete graphs connected by a path.\n",
    "complete_graph(n[, create_using])\tReturn the complete graph K_n with n nodes.\n",
    "complete_multipartite_graph(*subset_sizes)\tReturns the complete multipartite graph with the specified subset sizes.\n",
    "circular_ladder_graph(n[, create_using])\tReturns the circular ladder graph 𝐶𝐿𝑛 of length n.\n",
    "circulant_graph(n, offsets[, create_using])\tGenerates the circulant graph 𝐶𝑖𝑛(𝑥1,𝑥2,...,𝑥𝑚) with 𝑛 vertices.\n",
    "cycle_graph(n[, create_using])\tReturns the cycle graph 𝐶𝑛 of cyclically connected nodes.\n",
    "dorogovtsev_goltsev_mendes_graph(n[, …])\tReturns the hierarchically constructed Dorogovtsev-Goltsev-Mendes graph.\n",
    "empty_graph([n, create_using, default])\tReturns the empty graph with n nodes and zero edges.\n",
    "full_rary_tree(r, n[, create_using])\tCreates a full r-ary tree of n vertices.\n",
    "ladder_graph(n[, create_using])\tReturns the Ladder graph of length n.\n",
    "lollipop_graph(m, n[, create_using])\tReturns the Lollipop Graph; K_m connected to P_n.\n",
    "null_graph([create_using])\tReturns the Null graph with no nodes or edges.\n",
    "path_graph(n[, create_using])\tReturns the Path graph P_n of linearly connected nodes.\n",
    "star_graph(n[, create_using])\tReturn the star graph\n",
    "trivial_graph([create_using])\tReturn the Trivial graph with one node (with label 0) and no edges.\n",
    "turan_graph(n, r)\tReturn the Turan Graph\n",
    "wheel_graph(n[, create_using])\t\n",
    "```"
   ]
  },
  {
   "cell_type": "code",
   "execution_count": 34,
   "metadata": {},
   "outputs": [
    {
     "data": {
      "text/html": [
       "\n",
       "        <iframe\n",
       "            width=\"500px\"\n",
       "            height=\"500px\"\n",
       "            src=\"notebook_images/balanced_tree.html\"\n",
       "            frameborder=\"0\"\n",
       "            allowfullscreen\n",
       "        ></iframe>\n",
       "        "
      ],
      "text/plain": [
       "<IPython.lib.display.IFrame at 0xa201e6850>"
      ]
     },
     "execution_count": 34,
     "metadata": {},
     "output_type": "execute_result"
    }
   ],
   "source": [
    "graph = nx.balanced_tree(2, 3)\n",
    "g = Network(notebook=True)\n",
    "g.from_nx(graph)\n",
    "g.show(\"notebook_images/balanced_tree.html\")"
   ]
  },
  {
   "cell_type": "code",
   "execution_count": 35,
   "metadata": {},
   "outputs": [
    {
     "data": {
      "text/html": [
       "\n",
       "        <iframe\n",
       "            width=\"500px\"\n",
       "            height=\"500px\"\n",
       "            src=\"notebook_images/barbell.html\"\n",
       "            frameborder=\"0\"\n",
       "            allowfullscreen\n",
       "        ></iframe>\n",
       "        "
      ],
      "text/plain": [
       "<IPython.lib.display.IFrame at 0xa1fb69990>"
      ]
     },
     "execution_count": 35,
     "metadata": {},
     "output_type": "execute_result"
    }
   ],
   "source": [
    "graph = nx.barbell_graph(4, 1)\n",
    "g = Network(notebook=True)\n",
    "g.from_nx(graph)\n",
    "g.show(\"notebook_images/barbell.html\")"
   ]
  },
  {
   "cell_type": "code",
   "execution_count": 36,
   "metadata": {},
   "outputs": [
    {
     "data": {
      "text/html": [
       "\n",
       "        <iframe\n",
       "            width=\"500px\"\n",
       "            height=\"500px\"\n",
       "            src=\"notebook_images/ladder_graph.html\"\n",
       "            frameborder=\"0\"\n",
       "            allowfullscreen\n",
       "        ></iframe>\n",
       "        "
      ],
      "text/plain": [
       "<IPython.lib.display.IFrame at 0xa1f67ce50>"
      ]
     },
     "execution_count": 36,
     "metadata": {},
     "output_type": "execute_result"
    }
   ],
   "source": [
    "graph = nx.ladder_graph(6)\n",
    "g = Network(notebook=True)\n",
    "g.from_nx(graph)\n",
    "g.show(\"notebook_images/ladder_graph.html\")"
   ]
  },
  {
   "cell_type": "code",
   "execution_count": 37,
   "metadata": {},
   "outputs": [
    {
     "data": {
      "text/html": [
       "\n",
       "        <iframe\n",
       "            width=\"500px\"\n",
       "            height=\"500px\"\n",
       "            src=\"notebook_images/lollipop_graph.html\"\n",
       "            frameborder=\"0\"\n",
       "            allowfullscreen\n",
       "        ></iframe>\n",
       "        "
      ],
      "text/plain": [
       "<IPython.lib.display.IFrame at 0xa20210e90>"
      ]
     },
     "execution_count": 37,
     "metadata": {},
     "output_type": "execute_result"
    }
   ],
   "source": [
    "graph = nx.lollipop_graph(6, 2)\n",
    "g = Network(notebook=True)\n",
    "g.from_nx(graph)\n",
    "g.show(\"notebook_images/lollipop_graph.html\")"
   ]
  },
  {
   "cell_type": "code",
   "execution_count": 38,
   "metadata": {},
   "outputs": [
    {
     "data": {
      "text/html": [
       "\n",
       "        <iframe\n",
       "            width=\"500px\"\n",
       "            height=\"500px\"\n",
       "            src=\"notebook_images/complete_graph.html\"\n",
       "            frameborder=\"0\"\n",
       "            allowfullscreen\n",
       "        ></iframe>\n",
       "        "
      ],
      "text/plain": [
       "<IPython.lib.display.IFrame at 0xa20221cd0>"
      ]
     },
     "execution_count": 38,
     "metadata": {},
     "output_type": "execute_result"
    }
   ],
   "source": [
    "graph = nx.complete_graph(7)\n",
    "g = Network(notebook=True)\n",
    "g.from_nx(graph)\n",
    "g.show(\"notebook_images/complete_graph.html\")"
   ]
  },
  {
   "cell_type": "code",
   "execution_count": 39,
   "metadata": {},
   "outputs": [
    {
     "data": {
      "text/html": [
       "\n",
       "        <iframe\n",
       "            width=\"500px\"\n",
       "            height=\"500px\"\n",
       "            src=\"notebook_images/turan_graph.html\"\n",
       "            frameborder=\"0\"\n",
       "            allowfullscreen\n",
       "        ></iframe>\n",
       "        "
      ],
      "text/plain": [
       "<IPython.lib.display.IFrame at 0xa1fc2d110>"
      ]
     },
     "execution_count": 39,
     "metadata": {},
     "output_type": "execute_result"
    }
   ],
   "source": [
    "graph = nx.turan_graph(7, 3)\n",
    "g = Network(notebook=True)\n",
    "g.from_nx(graph)\n",
    "g.show(\"notebook_images/turan_graph.html\")"
   ]
  },
  {
   "cell_type": "code",
   "execution_count": null,
   "metadata": {},
   "outputs": [],
   "source": []
  }
 ],
 "metadata": {
  "kernelspec": {
   "display_name": "Python 3",
   "language": "python",
   "name": "python3"
  },
  "language_info": {
   "codemirror_mode": {
    "name": "ipython",
    "version": 3
   },
   "file_extension": ".py",
   "mimetype": "text/x-python",
   "name": "python",
   "nbconvert_exporter": "python",
   "pygments_lexer": "ipython3",
   "version": "3.7.4"
  }
 },
 "nbformat": 4,
 "nbformat_minor": 2
}
