{
 "cells": [
  {
   "cell_type": "code",
   "execution_count": 1,
   "metadata": {},
   "outputs": [],
   "source": [
    "# Auto-reload modules when they change.\n",
    "%load_ext autoreload\n",
    "%autoreload 2"
   ]
  },
  {
   "cell_type": "code",
   "execution_count": null,
   "metadata": {},
   "outputs": [],
   "source": [
    "# Modifying the path so we can import from src directory.\n",
    "import sys\n",
    "import os\n",
    "sys.path.append(os.path.abspath('..'))\n",
    "\n",
    "import ast\n",
    "import copy\n",
    "import pickle\n",
    "import time\n",
    "\n",
    "import numpy as np\n",
    "import pandas as pd\n",
    "import networkx as nx\n",
    "import matplotlib.pyplot as plt\n",
    "plt.style.use('ggplot')\n",
    "\n",
    "from src.example_graphs import simple_undirected_graph, simple_directed_graph\n",
    "from src.UndirectedGraph import UndirectedGraph\n",
    "from src.DirectedGraph import DirectedGraph\n",
    "from src.DataLoader import DataLoader, PandasDataLoader\n",
    "from src.GraphCreator import GraphCreator\n",
    "\n",
    "from src.io_helpers import pickle_obj, load_pickled_obj\n",
    "from src.networkx_helpers import combine_graphs"
   ]
  },
  {
   "cell_type": "code",
   "execution_count": 4,
   "metadata": {},
   "outputs": [],
   "source": [
    "ROOT_DIRECTORY = os.path.split(os.getcwd())[0]\n",
    "DATA_DIRECTORY = os.path.join(ROOT_DIRECTORY, 'data')\n",
    "PICKLED_DATA_DIRECTORY = os.path.join(ROOT_DIRECTORY, 'data_pickle')"
   ]
  },
  {
   "cell_type": "markdown",
   "metadata": {},
   "source": [
    "# Simple Graphs"
   ]
  },
  {
   "cell_type": "code",
   "execution_count": 14,
   "metadata": {},
   "outputs": [
    {
     "name": "stdout",
     "output_type": "stream",
     "text": [
      "{'A': ['B'], 'B': ['A', 'C', 'D'], 'C': ['B', 'D'], 'D': ['B', 'C'], 'E': []}\n"
     ]
    }
   ],
   "source": [
    "# Create simple undirected graph.\n",
    "g = simple_undirected_graph()\n",
    "g_class = UndirectedGraph(g)\n",
    "print(g_class.graph)"
   ]
  },
  {
   "cell_type": "code",
   "execution_count": 15,
   "metadata": {},
   "outputs": [],
   "source": [
    "# Create simple directed graph.\n",
    "g_directed = simple_directed_graph()\n",
    "g_directed_class = DirectedGraph(g_directed)\n",
    "\n",
    "# Test DirectedGraph class functionality.\n",
    "g_directed_class.add_node('F', ('A', 'C'))\n",
    "g_directed_class.add_edge('C', 'F')\n",
    "g_directed_class.remove_edge('F', 'C')"
   ]
  },
  {
   "cell_type": "code",
   "execution_count": 16,
   "metadata": {},
   "outputs": [
    {
     "name": "stdout",
     "output_type": "stream",
     "text": [
      "{'A': ['B'], 'B': ['C', 'D'], 'C': ['D', 'F'], 'D': [], 'E': [], 'F': ['A']}\n"
     ]
    }
   ],
   "source": [
    "print(g_directed_class.graph)"
   ]
  },
  {
   "cell_type": "markdown",
   "metadata": {},
   "source": [
    "# Load Reddit Hyperlink Data into Custom Graph Class"
   ]
  },
  {
   "cell_type": "markdown",
   "metadata": {},
   "source": [
    "Here's an example of how you could read the data and pickle it.\n",
    "\n",
    "```python\n",
    "# Read in some lines of Reddit Hyperlink data.\n",
    "start_time = time.time()\n",
    "data_loader = DataLoader(num_lines=1000, cols_to_load=['SOURCE_SUBREDDIT', 'TARGET_SUBREDDIT'])\n",
    "lines = data_loader.load()\n",
    "\n",
    "graph_creator = GraphCreator()\n",
    "reddit_body_hyperlink_graph = graph_creator.create_graph(lines)\n",
    "graph_creator.pickle_graph(reddit_body_hyperlink_graph, \"data_pickle/reddit_body_1000.pickle\")\n",
    "end_time = time.time()\n",
    "print(\"Time to load and pickle 1000 rows: {}\".format(end_time - start_time))\n",
    "\n",
    "# Create full pickle file of the non-multigraph Reddit Hyperlink body data.\n",
    "start_time = time.time()\n",
    "data_loader = DataLoader(full_file=True, cols_to_load=['SOURCE_SUBREDDIT', 'TARGET_SUBREDDIT'])\n",
    "lines = data_loader.load()\n",
    "\n",
    "graph_creator = GraphCreator()\n",
    "reddit_body_hyperlink_graph = graph_creator.create_graph(lines)\n",
    "graph_creator.pickle_graph(reddit_body_hyperlink_graph, \"data_pickle/reddit_body_full_non_multigraph.pickle\")\n",
    "end_time = time.time()\n",
    "print(\"Time to load and pickle full file (non-multigraph): {}\".format(end_time - start_time))\n",
    "```"
   ]
  },
  {
   "cell_type": "markdown",
   "metadata": {},
   "source": [
    "# Analyzing the Data in Pandas\n",
    "Before analyzing the graph data via the graph structure, let's just look at some basics in pandas."
   ]
  },
  {
   "cell_type": "markdown",
   "metadata": {},
   "source": [
    "```python\n",
    "def value_count_overlap(counts1, counts2, n, return_list=False):\n",
    "    overlap = set(counts1.head(n).index).intersection(set(counts2.head(n).index))\n",
    "    if return_list:\n",
    "        return len(overlap), overlap\n",
    "    else:\n",
    "        return len(overlap)\n",
    "\n",
    "\n",
    "pandas_loader = \n",
    "df_body = pd.read_csv(\"data/soc-redditHyperlinks-body.tsv\", delimiter='\\t')\n",
    "df_title = pd.read_csv(\"data/soc-redditHyperlinks-title.tsv\", delimiter='\\t')\n",
    "\n",
    "# Look at df_body\n",
    "print(df_body.info())\n",
    "print(df_body.describe())\n",
    "\n",
    "# Look at df_body\n",
    "print(df_title.info())\n",
    "print(df_title.describe())\n",
    "\n",
    "# Get post ids from each file.\n",
    "title_post_ids = set(df_title['POST_ID'])\n",
    "body_post_ids = set(df_body['POST_ID'])\n",
    "\n",
    "# Are there any post ids in common? (Nope. We get 0 here.)\n",
    "inter = title_post_ids.intersection(body_post_ids)\n",
    "print(len(inter))\n",
    "\n",
    "# Let's look at the top subreddits by where they're posted.\n",
    "body_source_counts = df_body[\"SOURCE_SUBREDDIT\"].value_counts()\n",
    "title_source_counts = df_title[\"SOURCE_SUBREDDIT\"].value_counts()\n",
    "\n",
    "# Are there commonalities between the two datasets for SOURCE?\n",
    "print(set(body_source_counts.head(10).index).intersection(set(title_source_counts.head(10).index)))\n",
    "print(set(body_source_counts.head(20).index).intersection(set(title_source_counts.head(20).index)))\n",
    "print(set(body_source_counts.head(50).index).intersection(set(title_source_counts.head(50).index)))\n",
    "\n",
    "# Let's look at the top subreddits by who they're referencing / posting about.\n",
    "body_target_counts = df_body[\"TARGET_SUBREDDIT\"].value_counts()\n",
    "title_target_counts = df_title[\"TARGET_SUBREDDIT\"].value_counts()\n",
    "\n",
    "# Let's look at the top 10 for each file.\n",
    "print(body_target_counts.head(10))\n",
    "print(title_target_counts.head(10))\n",
    "\n",
    "# Are there commonalities between the two datasets for TARGET?\n",
    "print(set(body_target_counts.head(10).index).intersection(set(title_target_counts.head(10).index)))\n",
    "print(set(body_target_counts.head(20).index).intersection(set(title_target_counts.head(20).index)))\n",
    "print(set(body_target_counts.head(50).index).intersection(set(title_target_counts.head(50).index)))\n",
    "\n",
    "# Now let's look at what the top SOURCE and TARGET are for the combined df.\n",
    "df_concat = pd.concat([df_body, df_title])\n",
    "concat_source_counts = df_concat[\"SOURCE_SUBREDDIT\"].value_counts()\n",
    "concat_target_counts = df_concat[\"TARGET_SUBREDDIT\"].value_counts()\n",
    "\n",
    "# Let's look at the top 10 for SOURCE and TARGET for the concat df.\n",
    "print(concat_source_counts.head(10))\n",
    "print(concat_target_counts.head(10))\n",
    "\n",
    "# Now let's look at the counts of the overlap with the body and title datasets\n",
    "print(value_count_overlap(concat_source_counts, body_source_counts, 10))\n",
    "print(value_count_overlap(concat_source_counts, title_source_counts, 10))\n",
    "print(value_count_overlap(concat_target_counts, body_target_counts, 10))\n",
    "print(value_count_overlap(concat_target_counts, title_target_counts, 10))\n",
    "```"
   ]
  },
  {
   "cell_type": "markdown",
   "metadata": {},
   "source": [
    "# Using the PandasDataLoader class to load the combined dataset"
   ]
  },
  {
   "cell_type": "markdown",
   "metadata": {},
   "source": [
    "```python\n",
    "from src.DataLoader import PandasDataLoader\n",
    "\n",
    "p_loader = PandasDataLoader(\n",
    "    os.path.join(DATA_DIRECTORY, \"soc-redditHyperlinks-body.tsv\"),\n",
    "    os.path.join(DATA_DIRECTORY, \"soc-redditHyperlinks-title.tsv\")\n",
    ")\n",
    "\n",
    "df = p_loader.load()\n",
    "```"
   ]
  },
  {
   "cell_type": "markdown",
   "metadata": {},
   "source": [
    "# Look at basic stats in pandas"
   ]
  },
  {
   "cell_type": "code",
   "execution_count": 7,
   "metadata": {},
   "outputs": [],
   "source": [
    "from src.DataLoader import PandasDataLoader\n",
    "\n",
    "p_loader = PandasDataLoader(\n",
    "    os.path.join(DATA_DIRECTORY, \"soc-redditHyperlinks-body.tsv\"),\n",
    "    os.path.join(DATA_DIRECTORY, \"soc-redditHyperlinks-title.tsv\")\n",
    ")\n",
    "\n",
    "df = p_loader.load()"
   ]
  },
  {
   "cell_type": "code",
   "execution_count": 9,
   "metadata": {},
   "outputs": [
    {
     "name": "stdout",
     "output_type": "stream",
     "text": [
      "<class 'pandas.core.frame.DataFrame'>\n",
      "Int64Index: 858488 entries, 0 to 571926\n",
      "Data columns (total 6 columns):\n",
      "SOURCE_SUBREDDIT    858488 non-null object\n",
      "TARGET_SUBREDDIT    858488 non-null object\n",
      "POST_ID             858488 non-null object\n",
      "TIMESTAMP           858488 non-null object\n",
      "LINK_SENTIMENT      858488 non-null int64\n",
      "PROPERTIES          858488 non-null object\n",
      "dtypes: int64(1), object(5)\n",
      "memory usage: 45.8+ MB\n"
     ]
    }
   ],
   "source": [
    "df.info()"
   ]
  },
  {
   "cell_type": "code",
   "execution_count": 10,
   "metadata": {
    "scrolled": true
   },
   "outputs": [
    {
     "data": {
      "text/html": [
       "<div>\n",
       "<style scoped>\n",
       "    .dataframe tbody tr th:only-of-type {\n",
       "        vertical-align: middle;\n",
       "    }\n",
       "\n",
       "    .dataframe tbody tr th {\n",
       "        vertical-align: top;\n",
       "    }\n",
       "\n",
       "    .dataframe thead th {\n",
       "        text-align: right;\n",
       "    }\n",
       "</style>\n",
       "<table border=\"1\" class=\"dataframe\">\n",
       "  <thead>\n",
       "    <tr style=\"text-align: right;\">\n",
       "      <th></th>\n",
       "      <th>LINK_SENTIMENT</th>\n",
       "    </tr>\n",
       "  </thead>\n",
       "  <tbody>\n",
       "    <tr>\n",
       "      <td>count</td>\n",
       "      <td>858488.000000</td>\n",
       "    </tr>\n",
       "    <tr>\n",
       "      <td>mean</td>\n",
       "      <td>0.808477</td>\n",
       "    </tr>\n",
       "    <tr>\n",
       "      <td>std</td>\n",
       "      <td>0.588528</td>\n",
       "    </tr>\n",
       "    <tr>\n",
       "      <td>min</td>\n",
       "      <td>-1.000000</td>\n",
       "    </tr>\n",
       "    <tr>\n",
       "      <td>25%</td>\n",
       "      <td>1.000000</td>\n",
       "    </tr>\n",
       "    <tr>\n",
       "      <td>50%</td>\n",
       "      <td>1.000000</td>\n",
       "    </tr>\n",
       "    <tr>\n",
       "      <td>75%</td>\n",
       "      <td>1.000000</td>\n",
       "    </tr>\n",
       "    <tr>\n",
       "      <td>max</td>\n",
       "      <td>1.000000</td>\n",
       "    </tr>\n",
       "  </tbody>\n",
       "</table>\n",
       "</div>"
      ],
      "text/plain": [
       "       LINK_SENTIMENT\n",
       "count   858488.000000\n",
       "mean         0.808477\n",
       "std          0.588528\n",
       "min         -1.000000\n",
       "25%          1.000000\n",
       "50%          1.000000\n",
       "75%          1.000000\n",
       "max          1.000000"
      ]
     },
     "execution_count": 10,
     "metadata": {},
     "output_type": "execute_result"
    }
   ],
   "source": [
    "df.describe()"
   ]
  },
  {
   "cell_type": "markdown",
   "metadata": {},
   "source": [
    "## Link Sentiment"
   ]
  },
  {
   "cell_type": "code",
   "execution_count": 41,
   "metadata": {
    "scrolled": true
   },
   "outputs": [
    {
     "data": {
      "text/plain": [
       "Text(0, 0.5, 'count of hyperlinks')"
      ]
     },
     "execution_count": 41,
     "metadata": {},
     "output_type": "execute_result"
    },
    {
     "data": {
      "image/png": "[encoded data removed]",
      "text/plain": [
       "<Figure size 432x288 with 1 Axes>"
      ]
     },
     "metadata": {},
     "output_type": "display_data"
    }
   ],
   "source": [
    "bins = plt.hist(df['LINK_SENTIMENT'])\n",
    "plt.title(\"Histogram of Link Sentiment\")\n",
    "plt.xlabel(\"Link Sentiment - 1 is positive/neutral, -1 is negative\")\n",
    "plt.ylabel(\"count of hyperlinks\")"
   ]
  },
  {
   "cell_type": "code",
   "execution_count": 29,
   "metadata": {
    "scrolled": false
   },
   "outputs": [
    {
     "name": "stdout",
     "output_type": "stream",
     "text": [
      "(array([ 82210.,      0.,      0.,      0.,      0.,      0.,      0.,\n",
      "            0.,      0., 776278.]), array([-1. , -0.8, -0.6, -0.4, -0.2,  0. ,  0.2,  0.4,  0.6,  0.8,  1. ]), <a list of 10 Patch objects>)\n"
     ]
    }
   ],
   "source": [
    "print(bins)"
   ]
  },
  {
   "cell_type": "code",
   "execution_count": 34,
   "metadata": {},
   "outputs": [],
   "source": [
    "df_sample = df.iloc[:5]"
   ]
  },
  {
   "cell_type": "code",
   "execution_count": 35,
   "metadata": {
    "scrolled": true
   },
   "outputs": [
    {
     "data": {
      "text/html": [
       "<div>\n",
       "<style scoped>\n",
       "    .dataframe tbody tr th:only-of-type {\n",
       "        vertical-align: middle;\n",
       "    }\n",
       "\n",
       "    .dataframe tbody tr th {\n",
       "        vertical-align: top;\n",
       "    }\n",
       "\n",
       "    .dataframe thead th {\n",
       "        text-align: right;\n",
       "    }\n",
       "</style>\n",
       "<table border=\"1\" class=\"dataframe\">\n",
       "  <thead>\n",
       "    <tr style=\"text-align: right;\">\n",
       "      <th></th>\n",
       "      <th>SOURCE_SUBREDDIT</th>\n",
       "      <th>TARGET_SUBREDDIT</th>\n",
       "      <th>POST_ID</th>\n",
       "      <th>TIMESTAMP</th>\n",
       "      <th>LINK_SENTIMENT</th>\n",
       "      <th>PROPERTIES</th>\n",
       "    </tr>\n",
       "  </thead>\n",
       "  <tbody>\n",
       "    <tr>\n",
       "      <td>0</td>\n",
       "      <td>leagueoflegends</td>\n",
       "      <td>teamredditteams</td>\n",
       "      <td>1u4nrps</td>\n",
       "      <td>2013-12-31 16:39:58</td>\n",
       "      <td>1</td>\n",
       "      <td>345.0,298.0,0.75652173913,0.0173913043478,0.08...</td>\n",
       "    </tr>\n",
       "    <tr>\n",
       "      <td>1</td>\n",
       "      <td>theredlion</td>\n",
       "      <td>soccer</td>\n",
       "      <td>1u4qkd</td>\n",
       "      <td>2013-12-31 18:18:37</td>\n",
       "      <td>-1</td>\n",
       "      <td>101.0,98.0,0.742574257426,0.019801980198,0.049...</td>\n",
       "    </tr>\n",
       "    <tr>\n",
       "      <td>2</td>\n",
       "      <td>inlandempire</td>\n",
       "      <td>bikela</td>\n",
       "      <td>1u4qlzs</td>\n",
       "      <td>2014-01-01 14:54:35</td>\n",
       "      <td>1</td>\n",
       "      <td>85.0,85.0,0.752941176471,0.0235294117647,0.082...</td>\n",
       "    </tr>\n",
       "    <tr>\n",
       "      <td>3</td>\n",
       "      <td>nfl</td>\n",
       "      <td>cfb</td>\n",
       "      <td>1u4sjvs</td>\n",
       "      <td>2013-12-31 17:37:55</td>\n",
       "      <td>1</td>\n",
       "      <td>1124.0,949.0,0.772241992883,0.0017793594306,0....</td>\n",
       "    </tr>\n",
       "    <tr>\n",
       "      <td>4</td>\n",
       "      <td>playmygame</td>\n",
       "      <td>gamedev</td>\n",
       "      <td>1u4w5ss</td>\n",
       "      <td>2014-01-01 02:51:13</td>\n",
       "      <td>1</td>\n",
       "      <td>715.0,622.0,0.777622377622,0.00699300699301,0....</td>\n",
       "    </tr>\n",
       "  </tbody>\n",
       "</table>\n",
       "</div>"
      ],
      "text/plain": [
       "  SOURCE_SUBREDDIT TARGET_SUBREDDIT  POST_ID            TIMESTAMP  \\\n",
       "0  leagueoflegends  teamredditteams  1u4nrps  2013-12-31 16:39:58   \n",
       "1       theredlion           soccer   1u4qkd  2013-12-31 18:18:37   \n",
       "2     inlandempire           bikela  1u4qlzs  2014-01-01 14:54:35   \n",
       "3              nfl              cfb  1u4sjvs  2013-12-31 17:37:55   \n",
       "4       playmygame          gamedev  1u4w5ss  2014-01-01 02:51:13   \n",
       "\n",
       "   LINK_SENTIMENT                                         PROPERTIES  \n",
       "0               1  345.0,298.0,0.75652173913,0.0173913043478,0.08...  \n",
       "1              -1  101.0,98.0,0.742574257426,0.019801980198,0.049...  \n",
       "2               1  85.0,85.0,0.752941176471,0.0235294117647,0.082...  \n",
       "3               1  1124.0,949.0,0.772241992883,0.0017793594306,0....  \n",
       "4               1  715.0,622.0,0.777622377622,0.00699300699301,0....  "
      ]
     },
     "execution_count": 35,
     "metadata": {},
     "output_type": "execute_result"
    }
   ],
   "source": [
    "df_sample"
   ]
  },
  {
   "cell_type": "markdown",
   "metadata": {},
   "source": [
    "### Number of subreddits total"
   ]
  },
  {
   "cell_type": "code",
   "execution_count": 60,
   "metadata": {},
   "outputs": [
    {
     "data": {
      "text/plain": [
       "67180"
      ]
     },
     "execution_count": 60,
     "metadata": {},
     "output_type": "execute_result"
    }
   ],
   "source": [
    "len(set(df['SOURCE_SUBREDDIT']).union(set(df['TARGET_SUBREDDIT'])))"
   ]
  },
  {
   "cell_type": "markdown",
   "metadata": {},
   "source": [
    "## Turning text properties into columns that can be summarized"
   ]
  },
  {
   "cell_type": "code",
   "execution_count": null,
   "metadata": {},
   "outputs": [],
   "source": [
    "df_properties = PandasDataLoader.generate_properties_df(df)"
   ]
  },
  {
   "cell_type": "code",
   "execution_count": 66,
   "metadata": {},
   "outputs": [],
   "source": [
    "text_property_columns = ['Number of characters','Number of characters without counting white space','Fraction of alphabetical characters','Fraction of digits','Fraction of uppercase characters','Fraction of white spaces','Fraction of special characters, such as comma, exclamation mark, etc.','Number of words','Number of unique works','Number of long words (at least 6 characters)','Average word length','Number of unique stopwords','Fraction of stopwords','Number of sentences','Number of long sentences (at least 10 words)','Average number of characters per sentence','Average number of words per sentence','Automated readability index','Positive sentiment calculated by VADER','Negative sentiment calculated by VADER','Compound sentiment calculated by VADER','LIWC_Funct','LIWC_Pronoun','LIWC_Ppron','LIWC_I','LIWC_We','LIWC_You','LIWC_SheHe','LIWC_They','LIWC_Ipron','LIWC_Article','LIWC_Verbs','LIWC_AuxVb','LIWC_Past','LIWC_Present','LIWC_Future','LIWC_Adverbs','LIWC_Prep','LIWC_Conj','LIWC_Negate','LIWC_Quant','LIWC_Numbers','LIWC_Swear','LIWC_Social','LIWC_Family','LIWC_Friends','LIWC_Humans','LIWC_Affect','LIWC_Posemo','LIWC_Negemo','LIWC_Anx','LIWC_Anger','LIWC_Sad','LIWC_CogMech','LIWC_Insight','LIWC_Cause','LIWC_Discrep','LIWC_Tentat','LIWC_Certain','LIWC_Inhib','LIWC_Incl','LIWC_Excl','LIWC_Percept','LIWC_See','LIWC_Hear','LIWC_Feel','LIWC_Bio','LIWC_Body','LIWC_Health','LIWC_Sexual','LIWC_Ingest','LIWC_Relativ','LIWC_Motion','LIWC_Space','LIWC_Time','LIWC_Work','LIWC_Achiev','LIWC_Leisure','LIWC_Home','LIWC_Money','LIWC_Relig','LIWC_Death','LIWC_Assent','LIWC_Dissent','LIWC_Nonflu','LIWC_Filler']"
   ]
  },
  {
   "cell_type": "code",
   "execution_count": 72,
   "metadata": {},
   "outputs": [
    {
     "data": {
      "text/plain": [
       "0    345.0,298.0,0.75652173913,0.0173913043478,0.08...\n",
       "1    101.0,98.0,0.742574257426,0.019801980198,0.049...\n",
       "2    85.0,85.0,0.752941176471,0.0235294117647,0.082...\n",
       "3    1124.0,949.0,0.772241992883,0.0017793594306,0....\n",
       "4    715.0,622.0,0.777622377622,0.00699300699301,0....\n",
       "Name: PROPERTIES, dtype: object"
      ]
     },
     "execution_count": 72,
     "metadata": {},
     "output_type": "execute_result"
    }
   ],
   "source": [
    "df_combined.head()['PROPERTIES']"
   ]
  },
  {
   "cell_type": "code",
   "execution_count": 75,
   "metadata": {},
   "outputs": [],
   "source": [
    "text_property_series = df.apply(lambda row: ast.literal_eval(row['PROPERTIES']), axis=1).values"
   ]
  },
  {
   "cell_type": "code",
   "execution_count": 76,
   "metadata": {},
   "outputs": [],
   "source": [
    "text_properties_list = text_property_series.tolist()"
   ]
  },
  {
   "cell_type": "code",
   "execution_count": 77,
   "metadata": {},
   "outputs": [],
   "source": [
    "df_properties = pd.DataFrame(text_properties_list, columns=text_property_columns)"
   ]
  },
  {
   "cell_type": "code",
   "execution_count": 78,
   "metadata": {},
   "outputs": [
    {
     "data": {
      "text/plain": [
       "(858488, 86)"
      ]
     },
     "execution_count": 78,
     "metadata": {},
     "output_type": "execute_result"
    }
   ],
   "source": [
    "df_properties.shape"
   ]
  },
  {
   "cell_type": "code",
   "execution_count": 79,
   "metadata": {},
   "outputs": [
    {
     "data": {
      "text/html": [
       "<div>\n",
       "<style scoped>\n",
       "    .dataframe tbody tr th:only-of-type {\n",
       "        vertical-align: middle;\n",
       "    }\n",
       "\n",
       "    .dataframe tbody tr th {\n",
       "        vertical-align: top;\n",
       "    }\n",
       "\n",
       "    .dataframe thead th {\n",
       "        text-align: right;\n",
       "    }\n",
       "</style>\n",
       "<table border=\"1\" class=\"dataframe\">\n",
       "  <thead>\n",
       "    <tr style=\"text-align: right;\">\n",
       "      <th></th>\n",
       "      <th>Number of characters</th>\n",
       "      <th>Number of characters without counting white space</th>\n",
       "      <th>Fraction of alphabetical characters</th>\n",
       "      <th>Fraction of digits</th>\n",
       "      <th>Fraction of uppercase characters</th>\n",
       "      <th>Fraction of white spaces</th>\n",
       "      <th>Fraction of special characters, such as comma, exclamation mark, etc.</th>\n",
       "      <th>Number of words</th>\n",
       "      <th>Number of unique works</th>\n",
       "      <th>Number of long words (at least 6 characters)</th>\n",
       "      <th>...</th>\n",
       "      <th>LIWC_Achiev</th>\n",
       "      <th>LIWC_Leisure</th>\n",
       "      <th>LIWC_Home</th>\n",
       "      <th>LIWC_Money</th>\n",
       "      <th>LIWC_Relig</th>\n",
       "      <th>LIWC_Death</th>\n",
       "      <th>LIWC_Assent</th>\n",
       "      <th>LIWC_Dissent</th>\n",
       "      <th>LIWC_Nonflu</th>\n",
       "      <th>LIWC_Filler</th>\n",
       "    </tr>\n",
       "  </thead>\n",
       "  <tbody>\n",
       "    <tr>\n",
       "      <td>0</td>\n",
       "      <td>345.0</td>\n",
       "      <td>298.0</td>\n",
       "      <td>0.756522</td>\n",
       "      <td>0.017391</td>\n",
       "      <td>0.086957</td>\n",
       "      <td>0.150725</td>\n",
       "      <td>0.075362</td>\n",
       "      <td>57.0</td>\n",
       "      <td>53.0</td>\n",
       "      <td>10.0</td>\n",
       "      <td>...</td>\n",
       "      <td>0.068966</td>\n",
       "      <td>0.034483</td>\n",
       "      <td>0.0</td>\n",
       "      <td>0.0</td>\n",
       "      <td>0.0</td>\n",
       "      <td>0.0</td>\n",
       "      <td>0.0</td>\n",
       "      <td>0.0</td>\n",
       "      <td>0.000000</td>\n",
       "      <td>0.000000</td>\n",
       "    </tr>\n",
       "    <tr>\n",
       "      <td>1</td>\n",
       "      <td>101.0</td>\n",
       "      <td>98.0</td>\n",
       "      <td>0.742574</td>\n",
       "      <td>0.019802</td>\n",
       "      <td>0.049505</td>\n",
       "      <td>0.059406</td>\n",
       "      <td>0.178218</td>\n",
       "      <td>14.0</td>\n",
       "      <td>14.0</td>\n",
       "      <td>2.0</td>\n",
       "      <td>...</td>\n",
       "      <td>0.000000</td>\n",
       "      <td>0.066667</td>\n",
       "      <td>0.0</td>\n",
       "      <td>0.0</td>\n",
       "      <td>0.0</td>\n",
       "      <td>0.0</td>\n",
       "      <td>0.0</td>\n",
       "      <td>0.0</td>\n",
       "      <td>0.000000</td>\n",
       "      <td>0.000000</td>\n",
       "    </tr>\n",
       "    <tr>\n",
       "      <td>2</td>\n",
       "      <td>85.0</td>\n",
       "      <td>85.0</td>\n",
       "      <td>0.752941</td>\n",
       "      <td>0.023529</td>\n",
       "      <td>0.082353</td>\n",
       "      <td>0.011765</td>\n",
       "      <td>0.211765</td>\n",
       "      <td>10.0</td>\n",
       "      <td>10.0</td>\n",
       "      <td>2.0</td>\n",
       "      <td>...</td>\n",
       "      <td>0.000000</td>\n",
       "      <td>0.000000</td>\n",
       "      <td>0.0</td>\n",
       "      <td>0.0</td>\n",
       "      <td>0.0</td>\n",
       "      <td>0.0</td>\n",
       "      <td>0.0</td>\n",
       "      <td>0.0</td>\n",
       "      <td>0.000000</td>\n",
       "      <td>0.000000</td>\n",
       "    </tr>\n",
       "    <tr>\n",
       "      <td>3</td>\n",
       "      <td>1124.0</td>\n",
       "      <td>949.0</td>\n",
       "      <td>0.772242</td>\n",
       "      <td>0.001779</td>\n",
       "      <td>0.057829</td>\n",
       "      <td>0.179715</td>\n",
       "      <td>0.046263</td>\n",
       "      <td>191.0</td>\n",
       "      <td>125.0</td>\n",
       "      <td>34.0</td>\n",
       "      <td>...</td>\n",
       "      <td>0.031250</td>\n",
       "      <td>0.020833</td>\n",
       "      <td>0.0</td>\n",
       "      <td>0.0</td>\n",
       "      <td>0.0</td>\n",
       "      <td>0.0</td>\n",
       "      <td>0.0</td>\n",
       "      <td>0.0</td>\n",
       "      <td>0.020833</td>\n",
       "      <td>0.005208</td>\n",
       "    </tr>\n",
       "    <tr>\n",
       "      <td>4</td>\n",
       "      <td>715.0</td>\n",
       "      <td>622.0</td>\n",
       "      <td>0.777622</td>\n",
       "      <td>0.006993</td>\n",
       "      <td>0.025175</td>\n",
       "      <td>0.145455</td>\n",
       "      <td>0.069930</td>\n",
       "      <td>119.0</td>\n",
       "      <td>92.0</td>\n",
       "      <td>22.0</td>\n",
       "      <td>...</td>\n",
       "      <td>0.016667</td>\n",
       "      <td>0.025000</td>\n",
       "      <td>0.0</td>\n",
       "      <td>0.0</td>\n",
       "      <td>0.0</td>\n",
       "      <td>0.0</td>\n",
       "      <td>0.0</td>\n",
       "      <td>0.0</td>\n",
       "      <td>0.000000</td>\n",
       "      <td>0.008333</td>\n",
       "    </tr>\n",
       "  </tbody>\n",
       "</table>\n",
       "<p>5 rows × 86 columns</p>\n",
       "</div>"
      ],
      "text/plain": [
       "   Number of characters  Number of characters without counting white space  \\\n",
       "0                 345.0                                              298.0   \n",
       "1                 101.0                                               98.0   \n",
       "2                  85.0                                               85.0   \n",
       "3                1124.0                                              949.0   \n",
       "4                 715.0                                              622.0   \n",
       "\n",
       "   Fraction of alphabetical characters  Fraction of digits  \\\n",
       "0                             0.756522            0.017391   \n",
       "1                             0.742574            0.019802   \n",
       "2                             0.752941            0.023529   \n",
       "3                             0.772242            0.001779   \n",
       "4                             0.777622            0.006993   \n",
       "\n",
       "   Fraction of uppercase characters  Fraction of white spaces  \\\n",
       "0                          0.086957                  0.150725   \n",
       "1                          0.049505                  0.059406   \n",
       "2                          0.082353                  0.011765   \n",
       "3                          0.057829                  0.179715   \n",
       "4                          0.025175                  0.145455   \n",
       "\n",
       "   Fraction of special characters, such as comma, exclamation mark, etc.  \\\n",
       "0                                           0.075362                       \n",
       "1                                           0.178218                       \n",
       "2                                           0.211765                       \n",
       "3                                           0.046263                       \n",
       "4                                           0.069930                       \n",
       "\n",
       "   Number of words  Number of unique works  \\\n",
       "0             57.0                    53.0   \n",
       "1             14.0                    14.0   \n",
       "2             10.0                    10.0   \n",
       "3            191.0                   125.0   \n",
       "4            119.0                    92.0   \n",
       "\n",
       "   Number of long words (at least 6 characters)  ...  LIWC_Achiev  \\\n",
       "0                                          10.0  ...     0.068966   \n",
       "1                                           2.0  ...     0.000000   \n",
       "2                                           2.0  ...     0.000000   \n",
       "3                                          34.0  ...     0.031250   \n",
       "4                                          22.0  ...     0.016667   \n",
       "\n",
       "   LIWC_Leisure  LIWC_Home  LIWC_Money  LIWC_Relig  LIWC_Death  LIWC_Assent  \\\n",
       "0      0.034483        0.0         0.0         0.0         0.0          0.0   \n",
       "1      0.066667        0.0         0.0         0.0         0.0          0.0   \n",
       "2      0.000000        0.0         0.0         0.0         0.0          0.0   \n",
       "3      0.020833        0.0         0.0         0.0         0.0          0.0   \n",
       "4      0.025000        0.0         0.0         0.0         0.0          0.0   \n",
       "\n",
       "   LIWC_Dissent  LIWC_Nonflu  LIWC_Filler  \n",
       "0           0.0     0.000000     0.000000  \n",
       "1           0.0     0.000000     0.000000  \n",
       "2           0.0     0.000000     0.000000  \n",
       "3           0.0     0.020833     0.005208  \n",
       "4           0.0     0.000000     0.008333  \n",
       "\n",
       "[5 rows x 86 columns]"
      ]
     },
     "execution_count": 79,
     "metadata": {},
     "output_type": "execute_result"
    }
   ],
   "source": [
    "df_properties.head()"
   ]
  },
  {
   "cell_type": "code",
   "execution_count": null,
   "metadata": {},
   "outputs": [],
   "source": []
  },
  {
   "cell_type": "code",
   "execution_count": null,
   "metadata": {},
   "outputs": [],
   "source": []
  }
 ],
 "metadata": {
  "kernelspec": {
   "display_name": "Python 3",
   "language": "python",
   "name": "python3"
  },
  "language_info": {
   "codemirror_mode": {
    "name": "ipython",
    "version": 3
   },
   "file_extension": ".py",
   "mimetype": "text/x-python",
   "name": "python",
   "nbconvert_exporter": "python",
   "pygments_lexer": "ipython3",
   "version": "3.7.4"
  }
 },
 "nbformat": 4,
 "nbformat_minor": 2
}
